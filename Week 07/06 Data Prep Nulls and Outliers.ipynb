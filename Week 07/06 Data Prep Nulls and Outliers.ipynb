{
 "cells": [
  {
   "cell_type": "markdown",
   "id": "b3d813ab",
   "metadata": {},
   "source": [
    "# Initial Data Prep\n",
    "##### Handling outliers and null values"
   ]
  },
  {
   "cell_type": "markdown",
   "id": "c32a3848",
   "metadata": {},
   "source": [
    ".. _california_housing_dataset:\n",
    "\n",
    "California Housing dataset\n",
    "--------------------------\n",
    "\n",
    "**Data Set Characteristics:**\n",
    "\n",
    "    :Number of Instances: 20640\n",
    "\n",
    "    :Number of Attributes: 8 numeric, predictive attributes and the target\n",
    "\n",
    "    :Attribute Information:\n",
    "        - MedInc        median income in block group\n",
    "        - HouseAge      median house age in block group\n",
    "        - AveRooms      average number of rooms per household\n",
    "        - AveBedrms     average number of bedrooms per household\n",
    "        - Population    block group population\n",
    "        - AveOccup      average number of household members\n",
    "        - Latitude      block group latitude\n",
    "        - Longitude     block group longitude\n",
    "\n",
    "This dataset was obtained from the StatLib repository.\n",
    "https://www.dcc.fc.up.pt/~ltorgo/Regression/cal_housing.html\n",
    "\n",
    "The target variable is the median house value for California districts,\n",
    "expressed in hundreds of thousands of dollars ($100,000).\n",
    "\n",
    "This dataset was derived from the 1990 U.S. census, using one row per census\n",
    "block group. A block group is the smallest geographical unit for which the U.S.\n",
    "Census Bureau publishes sample data (a block group typically has a population\n",
    "of 600 to 3,000 people).\n",
    "\n",
    "An household is a group of people residing within a home. Since the average\n",
    "number of rooms and bedrooms in this dataset are provided per household, these\n",
    "columns may take surpinsingly large values for block groups with few households\n",
    "and many empty houses, such as vacation resorts.\n",
    "\n",
    "It can be downloaded/loaded using the\n",
    ":func:`sklearn.datasets.fetch_california_housing` function.\n",
    "\n",
    ".. topic:: References\n",
    "\n",
    "    - Pace, R. Kelley and Ronald Barry, Sparse Spatial Autoregressions,\n",
    "      Statistics and Probability Letters, 33 (1997) 291-297"
   ]
  },
  {
   "cell_type": "code",
   "execution_count": 26,
   "id": "b80f0516",
   "metadata": {},
   "outputs": [
    {
     "data": {
      "text/html": [
       "<div>\n",
       "<style scoped>\n",
       "    .dataframe tbody tr th:only-of-type {\n",
       "        vertical-align: middle;\n",
       "    }\n",
       "\n",
       "    .dataframe tbody tr th {\n",
       "        vertical-align: top;\n",
       "    }\n",
       "\n",
       "    .dataframe thead th {\n",
       "        text-align: right;\n",
       "    }\n",
       "</style>\n",
       "<table border=\"1\" class=\"dataframe\">\n",
       "  <thead>\n",
       "    <tr style=\"text-align: right;\">\n",
       "      <th></th>\n",
       "      <th>MedInc</th>\n",
       "      <th>HouseAge</th>\n",
       "      <th>AveRooms</th>\n",
       "      <th>AveBedrms</th>\n",
       "      <th>Population</th>\n",
       "      <th>AveOccup</th>\n",
       "      <th>Latitude</th>\n",
       "      <th>Longitude</th>\n",
       "      <th>Target</th>\n",
       "    </tr>\n",
       "  </thead>\n",
       "  <tbody>\n",
       "    <tr>\n",
       "      <th>0</th>\n",
       "      <td>8.3252</td>\n",
       "      <td>41.0</td>\n",
       "      <td>6.984127</td>\n",
       "      <td>1.023810</td>\n",
       "      <td>322.0</td>\n",
       "      <td>2.555556</td>\n",
       "      <td>37.88</td>\n",
       "      <td>-122.23</td>\n",
       "      <td>4.526</td>\n",
       "    </tr>\n",
       "    <tr>\n",
       "      <th>1</th>\n",
       "      <td>8.3014</td>\n",
       "      <td>21.0</td>\n",
       "      <td>6.238137</td>\n",
       "      <td>0.971880</td>\n",
       "      <td>2401.0</td>\n",
       "      <td>2.109842</td>\n",
       "      <td>37.86</td>\n",
       "      <td>-122.22</td>\n",
       "      <td>3.585</td>\n",
       "    </tr>\n",
       "    <tr>\n",
       "      <th>2</th>\n",
       "      <td>7.2574</td>\n",
       "      <td>52.0</td>\n",
       "      <td>8.288136</td>\n",
       "      <td>1.073446</td>\n",
       "      <td>496.0</td>\n",
       "      <td>2.802260</td>\n",
       "      <td>37.85</td>\n",
       "      <td>-122.24</td>\n",
       "      <td>3.521</td>\n",
       "    </tr>\n",
       "    <tr>\n",
       "      <th>3</th>\n",
       "      <td>5.6431</td>\n",
       "      <td>52.0</td>\n",
       "      <td>5.817352</td>\n",
       "      <td>1.073059</td>\n",
       "      <td>558.0</td>\n",
       "      <td>2.547945</td>\n",
       "      <td>37.85</td>\n",
       "      <td>-122.25</td>\n",
       "      <td>3.413</td>\n",
       "    </tr>\n",
       "    <tr>\n",
       "      <th>4</th>\n",
       "      <td>3.8462</td>\n",
       "      <td>52.0</td>\n",
       "      <td>6.281853</td>\n",
       "      <td>1.081081</td>\n",
       "      <td>565.0</td>\n",
       "      <td>2.181467</td>\n",
       "      <td>37.85</td>\n",
       "      <td>-122.25</td>\n",
       "      <td>3.422</td>\n",
       "    </tr>\n",
       "  </tbody>\n",
       "</table>\n",
       "</div>"
      ],
      "text/plain": [
       "   MedInc  HouseAge  AveRooms  AveBedrms  Population  AveOccup  Latitude  \\\n",
       "0  8.3252      41.0  6.984127   1.023810       322.0  2.555556     37.88   \n",
       "1  8.3014      21.0  6.238137   0.971880      2401.0  2.109842     37.86   \n",
       "2  7.2574      52.0  8.288136   1.073446       496.0  2.802260     37.85   \n",
       "3  5.6431      52.0  5.817352   1.073059       558.0  2.547945     37.85   \n",
       "4  3.8462      52.0  6.281853   1.081081       565.0  2.181467     37.85   \n",
       "\n",
       "   Longitude  Target  \n",
       "0    -122.23   4.526  \n",
       "1    -122.22   3.585  \n",
       "2    -122.24   3.521  \n",
       "3    -122.25   3.413  \n",
       "4    -122.25   3.422  "
      ]
     },
     "execution_count": 26,
     "metadata": {},
     "output_type": "execute_result"
    }
   ],
   "source": [
    "# import relevant packages\n",
    "import pandas as pd\n",
    "import numpy as np\n",
    "import seaborn as sb\n",
    "import matplotlib.pyplot as plt\n",
    "\n",
    "# import the california housing Data assigning it to a DataFRame\n",
    "df = pd.read_csv('data/housing_data.csv')\n",
    "\n",
    "# read the head of the data frame\n",
    "df.head()"
   ]
  },
  {
   "cell_type": "markdown",
   "id": "36639f9e",
   "metadata": {},
   "source": [
    "### View the info of the DataFrame"
   ]
  },
  {
   "cell_type": "code",
   "execution_count": 2,
   "id": "c911d8dd",
   "metadata": {},
   "outputs": [
    {
     "name": "stdout",
     "output_type": "stream",
     "text": [
      "<class 'pandas.core.frame.DataFrame'>\n",
      "RangeIndex: 20640 entries, 0 to 20639\n",
      "Data columns (total 9 columns):\n",
      " #   Column      Non-Null Count  Dtype  \n",
      "---  ------      --------------  -----  \n",
      " 0   MedInc      20640 non-null  float64\n",
      " 1   HouseAge    20640 non-null  float64\n",
      " 2   AveRooms    20526 non-null  float64\n",
      " 3   AveBedrms   20640 non-null  float64\n",
      " 4   Population  20640 non-null  float64\n",
      " 5   AveOccup    20640 non-null  float64\n",
      " 6   Latitude    20640 non-null  float64\n",
      " 7   Longitude   20640 non-null  float64\n",
      " 8   Target      20640 non-null  float64\n",
      "dtypes: float64(9)\n",
      "memory usage: 1.4 MB\n"
     ]
    }
   ],
   "source": [
    "df.info()"
   ]
  },
  {
   "cell_type": "markdown",
   "id": "0604aede",
   "metadata": {},
   "source": [
    "##### We can see that we have null values in the AveBedrms column\n",
    "\n",
    "What should we do about these?\n"
   ]
  },
  {
   "cell_type": "code",
   "execution_count": null,
   "id": "c59679c1-decf-4e93-a6a5-05a1f41eb8f6",
   "metadata": {},
   "outputs": [],
   "source": [
    "True + True"
   ]
  },
  {
   "cell_type": "code",
   "execution_count": 3,
   "id": "8d6fda78",
   "metadata": {},
   "outputs": [
    {
     "data": {
      "text/plain": [
       "MedInc          0\n",
       "HouseAge        0\n",
       "AveRooms      114\n",
       "AveBedrms       0\n",
       "Population      0\n",
       "AveOccup        0\n",
       "Latitude        0\n",
       "Longitude       0\n",
       "Target          0\n",
       "dtype: int64"
      ]
     },
     "execution_count": 3,
     "metadata": {},
     "output_type": "execute_result"
    }
   ],
   "source": [
    "# Get a count of all missing values\n",
    "df.isna().sum()"
   ]
  },
  {
   "cell_type": "code",
   "execution_count": null,
   "id": "dda7f41e-d3e2-4ce2-8fef-290af7453b7a",
   "metadata": {},
   "outputs": [],
   "source": []
  },
  {
   "cell_type": "markdown",
   "id": "7a26b56d",
   "metadata": {},
   "source": [
    "We could look into filing these values, however as we are only missing 114 out of 20640 values, we can simply drop these rows\n",
    "\n",
    "We may be able to include them again, if AveRooms is not going to beincluded in our model. However, with such a small percentage, the difference would be minimal "
   ]
  },
  {
   "cell_type": "code",
   "execution_count": 27,
   "id": "e1bfb956",
   "metadata": {
    "scrolled": true
   },
   "outputs": [
    {
     "name": "stdout",
     "output_type": "stream",
     "text": [
      "<class 'pandas.core.frame.DataFrame'>\n",
      "Int64Index: 20526 entries, 0 to 20639\n",
      "Data columns (total 9 columns):\n",
      " #   Column      Non-Null Count  Dtype  \n",
      "---  ------      --------------  -----  \n",
      " 0   MedInc      20526 non-null  float64\n",
      " 1   HouseAge    20526 non-null  float64\n",
      " 2   AveRooms    20526 non-null  float64\n",
      " 3   AveBedrms   20526 non-null  float64\n",
      " 4   Population  20526 non-null  float64\n",
      " 5   AveOccup    20526 non-null  float64\n",
      " 6   Latitude    20526 non-null  float64\n",
      " 7   Longitude   20526 non-null  float64\n",
      " 8   Target      20526 non-null  float64\n",
      "dtypes: float64(9)\n",
      "memory usage: 1.6 MB\n"
     ]
    }
   ],
   "source": [
    "# Drop nulls\n",
    "df = df.dropna()\n",
    "\n",
    "# Look at DF info again\n",
    "df.info()"
   ]
  },
  {
   "cell_type": "code",
   "execution_count": 5,
   "id": "d09d8a1c",
   "metadata": {},
   "outputs": [],
   "source": [
    "# lets save this file for future reference\n",
    "df.to_csv('data/housing_data_cleaned.csv', index=False)"
   ]
  },
  {
   "cell_type": "markdown",
   "id": "ebd667dc",
   "metadata": {},
   "source": [
    "### Are we now done with missing values?\n",
    "\n",
    "Well, maybe, it could be the case that missing values have already been replaced with placeholders.\n",
    "\n",
    "It is not uncommon to find missing values being given a value of an impossible values, in this case such as -1.\n",
    "\n",
    "We should investigate the data further"
   ]
  },
  {
   "cell_type": "code",
   "execution_count": 6,
   "id": "7ba390bc",
   "metadata": {},
   "outputs": [
    {
     "data": {
      "text/html": [
       "<div>\n",
       "<style scoped>\n",
       "    .dataframe tbody tr th:only-of-type {\n",
       "        vertical-align: middle;\n",
       "    }\n",
       "\n",
       "    .dataframe tbody tr th {\n",
       "        vertical-align: top;\n",
       "    }\n",
       "\n",
       "    .dataframe thead th {\n",
       "        text-align: right;\n",
       "    }\n",
       "</style>\n",
       "<table border=\"1\" class=\"dataframe\">\n",
       "  <thead>\n",
       "    <tr style=\"text-align: right;\">\n",
       "      <th></th>\n",
       "      <th>MedInc</th>\n",
       "      <th>HouseAge</th>\n",
       "      <th>AveRooms</th>\n",
       "      <th>AveBedrms</th>\n",
       "      <th>Population</th>\n",
       "      <th>AveOccup</th>\n",
       "      <th>Latitude</th>\n",
       "      <th>Longitude</th>\n",
       "      <th>Target</th>\n",
       "    </tr>\n",
       "  </thead>\n",
       "  <tbody>\n",
       "    <tr>\n",
       "      <th>count</th>\n",
       "      <td>20526.000000</td>\n",
       "      <td>20526.000000</td>\n",
       "      <td>20526.000000</td>\n",
       "      <td>20526.000000</td>\n",
       "      <td>20526.000000</td>\n",
       "      <td>20526.000000</td>\n",
       "      <td>20526.000000</td>\n",
       "      <td>20526.000000</td>\n",
       "      <td>20526.000000</td>\n",
       "    </tr>\n",
       "    <tr>\n",
       "      <th>mean</th>\n",
       "      <td>3.870750</td>\n",
       "      <td>28.642989</td>\n",
       "      <td>5.429918</td>\n",
       "      <td>1.096888</td>\n",
       "      <td>1424.681721</td>\n",
       "      <td>3.069265</td>\n",
       "      <td>35.631331</td>\n",
       "      <td>-119.568598</td>\n",
       "      <td>2.068750</td>\n",
       "    </tr>\n",
       "    <tr>\n",
       "      <th>std</th>\n",
       "      <td>1.900945</td>\n",
       "      <td>12.586108</td>\n",
       "      <td>2.479265</td>\n",
       "      <td>0.475141</td>\n",
       "      <td>1131.041455</td>\n",
       "      <td>10.412486</td>\n",
       "      <td>2.137408</td>\n",
       "      <td>2.004190</td>\n",
       "      <td>1.154487</td>\n",
       "    </tr>\n",
       "    <tr>\n",
       "      <th>min</th>\n",
       "      <td>0.499900</td>\n",
       "      <td>1.000000</td>\n",
       "      <td>0.846154</td>\n",
       "      <td>0.333333</td>\n",
       "      <td>3.000000</td>\n",
       "      <td>0.692308</td>\n",
       "      <td>32.540000</td>\n",
       "      <td>-124.350000</td>\n",
       "      <td>0.149990</td>\n",
       "    </tr>\n",
       "    <tr>\n",
       "      <th>25%</th>\n",
       "      <td>2.562500</td>\n",
       "      <td>18.000000</td>\n",
       "      <td>4.440789</td>\n",
       "      <td>1.006108</td>\n",
       "      <td>787.250000</td>\n",
       "      <td>2.428974</td>\n",
       "      <td>33.930000</td>\n",
       "      <td>-121.800000</td>\n",
       "      <td>1.196000</td>\n",
       "    </tr>\n",
       "    <tr>\n",
       "      <th>50%</th>\n",
       "      <td>3.535250</td>\n",
       "      <td>29.000000</td>\n",
       "      <td>5.229190</td>\n",
       "      <td>1.048780</td>\n",
       "      <td>1166.000000</td>\n",
       "      <td>2.817259</td>\n",
       "      <td>34.255000</td>\n",
       "      <td>-118.490000</td>\n",
       "      <td>1.796000</td>\n",
       "    </tr>\n",
       "    <tr>\n",
       "      <th>75%</th>\n",
       "      <td>4.742200</td>\n",
       "      <td>37.000000</td>\n",
       "      <td>6.052381</td>\n",
       "      <td>1.099572</td>\n",
       "      <td>1724.000000</td>\n",
       "      <td>3.281481</td>\n",
       "      <td>37.720000</td>\n",
       "      <td>-118.010000</td>\n",
       "      <td>2.649750</td>\n",
       "    </tr>\n",
       "    <tr>\n",
       "      <th>max</th>\n",
       "      <td>15.000100</td>\n",
       "      <td>52.000000</td>\n",
       "      <td>141.909091</td>\n",
       "      <td>34.066667</td>\n",
       "      <td>35682.000000</td>\n",
       "      <td>1243.333333</td>\n",
       "      <td>41.950000</td>\n",
       "      <td>-114.310000</td>\n",
       "      <td>5.000010</td>\n",
       "    </tr>\n",
       "  </tbody>\n",
       "</table>\n",
       "</div>"
      ],
      "text/plain": [
       "             MedInc      HouseAge      AveRooms     AveBedrms    Population  \\\n",
       "count  20526.000000  20526.000000  20526.000000  20526.000000  20526.000000   \n",
       "mean       3.870750     28.642989      5.429918      1.096888   1424.681721   \n",
       "std        1.900945     12.586108      2.479265      0.475141   1131.041455   \n",
       "min        0.499900      1.000000      0.846154      0.333333      3.000000   \n",
       "25%        2.562500     18.000000      4.440789      1.006108    787.250000   \n",
       "50%        3.535250     29.000000      5.229190      1.048780   1166.000000   \n",
       "75%        4.742200     37.000000      6.052381      1.099572   1724.000000   \n",
       "max       15.000100     52.000000    141.909091     34.066667  35682.000000   \n",
       "\n",
       "           AveOccup      Latitude     Longitude        Target  \n",
       "count  20526.000000  20526.000000  20526.000000  20526.000000  \n",
       "mean       3.069265     35.631331   -119.568598      2.068750  \n",
       "std       10.412486      2.137408      2.004190      1.154487  \n",
       "min        0.692308     32.540000   -124.350000      0.149990  \n",
       "25%        2.428974     33.930000   -121.800000      1.196000  \n",
       "50%        2.817259     34.255000   -118.490000      1.796000  \n",
       "75%        3.281481     37.720000   -118.010000      2.649750  \n",
       "max     1243.333333     41.950000   -114.310000      5.000010  "
      ]
     },
     "execution_count": 6,
     "metadata": {},
     "output_type": "execute_result"
    }
   ],
   "source": [
    "# 5 figure summary of each column\n",
    "df.describe()"
   ]
  },
  {
   "cell_type": "markdown",
   "id": "16b2b6f9",
   "metadata": {},
   "source": [
    "##### It looks ok for any obvious signs of inputted values to cover NANs,\n",
    "\n",
    "However we can identify some other issues with the data, namely outliers. \n",
    "\n",
    "Can you identify where we have problems?\n",
    "\n",
    "What approaches should we take, as we move forward we will experiment with blindly removing all outliers and discuss\n",
    "\n",
    "It would be best to visualise the data to see these more clearly"
   ]
  },
  {
   "cell_type": "code",
   "execution_count": 7,
   "id": "a39f71c0",
   "metadata": {},
   "outputs": [
    {
     "data": {
      "image/png": "[encoded data removed]",
      "text/plain": [
       "<Figure size 1440x1440 with 9 Axes>"
      ]
     },
     "metadata": {
      "needs_background": "light"
     },
     "output_type": "display_data"
    }
   ],
   "source": [
    "# Histograms of each feature\n",
    "df.hist(bins=50, figsize=(20,20));"
   ]
  },
  {
   "cell_type": "markdown",
   "id": "cd21da35",
   "metadata": {},
   "source": [
    "#### From the displays above we can see that we may have some outliers\n",
    "\n",
    "For the purposes on the next part, we will use the <b><i>Tukey's Fences</b></i> definition of outliers, i.e., that is\n",
    "```\n",
    "1.5* the Interquartile Range below Q1 or\n",
    "1.5* the Interquartile Range above Q3\n",
    "```                                   \n",
    "*There are many more accepted ways to define outliers and later you will use the <b>Mahalanobis Distance</b> method also*"
   ]
  },
  {
   "cell_type": "markdown",
   "id": "809ce1f3",
   "metadata": {},
   "source": [
    "In order to calculate it there are outliers, we need to calculate the InterQuartile Range, this is simply the 75th Percentile - the 25th Percentile as shown in the 5 number summary of each column below. \n",
    "\n",
    "25th percentile = Q1 and \n",
    "\n",
    "75th Percentile = Q3"
   ]
  },
  {
   "cell_type": "code",
   "execution_count": null,
   "id": "9d6ea7aa-20c5-4661-b663-e0434d7f2b36",
   "metadata": {},
   "outputs": [],
   "source": []
  },
  {
   "cell_type": "code",
   "execution_count": 8,
   "id": "3d414bab-0e6f-4e2b-81f6-145b180954be",
   "metadata": {},
   "outputs": [
    {
     "data": {
      "text/plain": [
       "8.3014"
      ]
     },
     "execution_count": 8,
     "metadata": {},
     "output_type": "execute_result"
    }
   ],
   "source": [
    "df.loc[1, \"MedInc\"]"
   ]
  },
  {
   "cell_type": "code",
   "execution_count": 9,
   "id": "257c814b",
   "metadata": {},
   "outputs": [
    {
     "data": {
      "text/plain": [
       "2.5625"
      ]
     },
     "execution_count": 9,
     "metadata": {},
     "output_type": "execute_result"
    }
   ],
   "source": [
    "df.describe().loc[\"25%\", \"MedInc\"]"
   ]
  },
  {
   "cell_type": "markdown",
   "id": "36826508",
   "metadata": {},
   "source": [
    "we can easily access these values through Pandas"
   ]
  },
  {
   "cell_type": "code",
   "execution_count": 10,
   "id": "b58bd967",
   "metadata": {},
   "outputs": [
    {
     "data": {
      "text/plain": [
       "2.5625"
      ]
     },
     "execution_count": 10,
     "metadata": {},
     "output_type": "execute_result"
    }
   ],
   "source": [
    "# Q1\n",
    "Q1 = df['MedInc'].quantile(0.25)\n",
    "Q1"
   ]
  },
  {
   "cell_type": "code",
   "execution_count": 11,
   "id": "b3215650",
   "metadata": {
    "scrolled": true
   },
   "outputs": [
    {
     "data": {
      "text/plain": [
       "4.7422"
      ]
     },
     "execution_count": 11,
     "metadata": {},
     "output_type": "execute_result"
    }
   ],
   "source": [
    "# Q3\n",
    "Q3 = df['MedInc'].quantile(0.75)\n",
    "Q3"
   ]
  },
  {
   "cell_type": "code",
   "execution_count": 14,
   "id": "93844d86",
   "metadata": {},
   "outputs": [
    {
     "data": {
      "text/plain": [
       "2.1797000000000004"
      ]
     },
     "execution_count": 14,
     "metadata": {},
     "output_type": "execute_result"
    }
   ],
   "source": [
    "# the IQR is calculated by\n",
    "IQR = df['MedInc'].quantile(0.75) - df['MedInc'].quantile(0.25)\n",
    "IQR"
   ]
  },
  {
   "cell_type": "code",
   "execution_count": 15,
   "id": "21d2cbab",
   "metadata": {},
   "outputs": [
    {
     "name": "stdout",
     "output_type": "stream",
     "text": [
      "lower bound =  -0.7070500000000006 \n",
      "upper bound =  8.011750000000001\n"
     ]
    }
   ],
   "source": [
    "# hence to find the lower and upper bounds \n",
    "print('lower bound = ', Q1 - 1.5*IQR,'\\n'\n",
    "       'upper bound = ', Q3 + 1.5*IQR)\n"
   ]
  },
  {
   "cell_type": "markdown",
   "id": "ee4a5b80",
   "metadata": {},
   "source": [
    "#### Using this metric we would discard all values over 8.012 as the lower bound is negative and our min value is positive"
   ]
  },
  {
   "cell_type": "code",
   "execution_count": null,
   "id": "fbc8d0a1-940e-4449-9e9b-0d2149bbfc8c",
   "metadata": {},
   "outputs": [],
   "source": []
  },
  {
   "cell_type": "markdown",
   "id": "40ea841d",
   "metadata": {},
   "source": [
    "## Task\n",
    "\n",
    "Write a function called 'outliers_IQR'\n",
    " - that takes two arguments, \n",
    " - a data frame and a column name.\n",
    " - returns the upper and lower bounds as we just defined\n",
    "\n"
   ]
  },
  {
   "cell_type": "code",
   "execution_count": null,
   "id": "a8c30acc-71b7-4d21-a2d4-833ba5a77c0a",
   "metadata": {
    "tags": []
   },
   "outputs": [],
   "source": [
    "def f(x):\n",
    "    return x, x**2"
   ]
  },
  {
   "cell_type": "code",
   "execution_count": null,
   "id": "2dc2c1bd-bea9-4426-80ed-249c88f18c87",
   "metadata": {
    "tags": []
   },
   "outputs": [],
   "source": [
    "num, num_squared = f(10)\n",
    "print(num)\n",
    "print(num_squared)"
   ]
  },
  {
   "cell_type": "code",
   "execution_count": 16,
   "id": "ade02e92",
   "metadata": {
    "tags": []
   },
   "outputs": [],
   "source": [
    "def outliers_IQR(df, column):\n",
    "    IQR = df[column].quantile(0.75) - df[column].quantile(0.25)\n",
    "    lower_bound = df[column].quantile(0.25) - 1.5*IQR\n",
    "    upper_bound = df[column].quantile(0.75) + 1.5*IQR\n",
    "    return lower_bound, upper_bound"
   ]
  },
  {
   "cell_type": "code",
   "execution_count": 17,
   "id": "40eb180a",
   "metadata": {
    "tags": []
   },
   "outputs": [
    {
     "data": {
      "text/plain": [
       "(-0.7070500000000006, 8.011750000000001)"
      ]
     },
     "execution_count": 17,
     "metadata": {},
     "output_type": "execute_result"
    }
   ],
   "source": [
    "outliers_IQR(df, \"MedInc\")"
   ]
  },
  {
   "cell_type": "code",
   "execution_count": null,
   "id": "1694806f",
   "metadata": {},
   "outputs": [],
   "source": []
  },
  {
   "cell_type": "code",
   "execution_count": null,
   "id": "e2113bf9",
   "metadata": {},
   "outputs": [],
   "source": []
  },
  {
   "cell_type": "code",
   "execution_count": null,
   "id": "f6190464",
   "metadata": {},
   "outputs": [],
   "source": []
  },
  {
   "cell_type": "code",
   "execution_count": null,
   "id": "013472e3",
   "metadata": {},
   "outputs": [],
   "source": []
  },
  {
   "cell_type": "markdown",
   "id": "d36503bb",
   "metadata": {},
   "source": [
    "<details>\n",
    "    <summary style=\"color:green;font-weight:bold\">Solution</summary>\n",
    "\n",
    "Trainer- Copy this cell contents to run assign the method\n",
    "    \n",
    "    \n",
    "    def outliers_IQR(df, feature):\n",
    "        Q1= df[feature].quantile(0.25)\n",
    "        Q3 = df[feature].quantile(0.75)\n",
    "        IQR = Q3 - Q1\n",
    "        upper_limit = Q3 + 1.5 * IQR\n",
    "        lower_limit = Q1 - 1.5 * IQR\n",
    "        return upper_limit, lower_limit\n"
   ]
  },
  {
   "cell_type": "code",
   "execution_count": 19,
   "id": "3ea5f0c1",
   "metadata": {
    "tags": []
   },
   "outputs": [],
   "source": [
    "def outliers_IQR(df, feature):\n",
    "    Q1= df[feature].quantile(0.25)\n",
    "    Q3 = df[feature].quantile(0.75)\n",
    "    IQR = Q3 - Q1\n",
    "    upper_limit = Q3 + 1.5 * IQR\n",
    "    lower_limit = Q1 - 1.5 * IQR\n",
    "    return upper_limit, lower_limit"
   ]
  },
  {
   "cell_type": "code",
   "execution_count": 21,
   "id": "aeb218ff",
   "metadata": {
    "scrolled": true
   },
   "outputs": [
    {
     "name": "stdout",
     "output_type": "stream",
     "text": [
      "8.469769476019476 2.023400079650078\n"
     ]
    }
   ],
   "source": [
    "# Viewing the results\n",
    "upper, lower = outliers_IQR(df, 'AveRooms')\n",
    "print(upper,lower)"
   ]
  },
  {
   "cell_type": "markdown",
   "id": "f2238414",
   "metadata": {},
   "source": [
    "#### We will now remove these outliers in MedInc from our DataFrame\n"
   ]
  },
  {
   "cell_type": "code",
   "execution_count": 28,
   "id": "1f153e16",
   "metadata": {},
   "outputs": [
    {
     "name": "stdout",
     "output_type": "stream",
     "text": [
      "<class 'pandas.core.frame.DataFrame'>\n",
      "Int64Index: 15187 entries, 4 to 20639\n",
      "Data columns (total 9 columns):\n",
      " #   Column      Non-Null Count  Dtype  \n",
      "---  ------      --------------  -----  \n",
      " 0   MedInc      15187 non-null  float64\n",
      " 1   HouseAge    15187 non-null  float64\n",
      " 2   AveRooms    15187 non-null  float64\n",
      " 3   AveBedrms   15187 non-null  float64\n",
      " 4   Population  15187 non-null  float64\n",
      " 5   AveOccup    15187 non-null  float64\n",
      " 6   Latitude    15187 non-null  float64\n",
      " 7   Longitude   15187 non-null  float64\n",
      " 8   Target      15187 non-null  float64\n",
      "dtypes: float64(9)\n",
      "memory usage: 1.2 MB\n"
     ]
    }
   ],
   "source": [
    "# In the code below we are assigning a copy of the cleaned DF to df_cleaned\n",
    "# it will only contain the rows whos MedInc values fall within our accepted range\n",
    "df_cleaned_IQR = df.copy()\n",
    "\n",
    "df_cleaned_IQR = df_cleaned_IQR[(df_cleaned_IQR['MedInc'] > lower) & (df_cleaned_IQR['MedInc'] < upper)]\n",
    "\n",
    "df_cleaned_IQR.info()"
   ]
  },
  {
   "cell_type": "markdown",
   "id": "051fe026",
   "metadata": {},
   "source": [
    "You can see we lost some rows of data 20526-19848 = 678 to be precise\n",
    "\n",
    "Our tests identified 678 values classed as outliers in the Median Income column."
   ]
  },
  {
   "cell_type": "markdown",
   "id": "edbf905d",
   "metadata": {},
   "source": [
    "#### View the distributions again"
   ]
  },
  {
   "cell_type": "code",
   "execution_count": 29,
   "id": "f3be9dd3",
   "metadata": {},
   "outputs": [
    {
     "data": {
      "image/png": "[encoded data removed]",
      "text/plain": [
       "<Figure size 1440x1440 with 9 Axes>"
      ]
     },
     "metadata": {
      "needs_background": "light"
     },
     "output_type": "display_data"
    }
   ],
   "source": [
    "df_cleaned_IQR.hist(bins=50, figsize=(20,20));"
   ]
  },
  {
   "cell_type": "markdown",
   "id": "c3feead6",
   "metadata": {},
   "source": [
    "We can see that MedInc has been capped at 8, however We still have lots of outliers in other fields and should address these also."
   ]
  },
  {
   "cell_type": "markdown",
   "id": "d8046c79",
   "metadata": {},
   "source": [
    "## Task:\n",
    "Apply the same approach to all columns, including the target column\n",
    " - ensure to keep track of the meta data seeing the changes, i.e the number of rows\n",
    " - ensure to visualise the data\n",
    " - finally save the DataFrame to a csv named, 'housing_cleaned_IQR.csv', set 'index = False' as an argument when saving\n",
    " - you should end up with 16141 entries in total\n",
    " - the distributions should look like below\n",
    " - you will be able to view the saved file in the same folder where this notebook is, as long as you didnt specify another directory"
   ]
  },
  {
   "cell_type": "code",
   "execution_count": 24,
   "id": "7323b8d2",
   "metadata": {
    "tags": []
   },
   "outputs": [
    {
     "name": "stdout",
     "output_type": "stream",
     "text": [
      "<class 'pandas.core.frame.DataFrame'>\n",
      "Int64Index: 16141 entries, 3 to 20639\n",
      "Data columns (total 9 columns):\n",
      " #   Column      Non-Null Count  Dtype  \n",
      "---  ------      --------------  -----  \n",
      " 0   MedInc      16141 non-null  float64\n",
      " 1   HouseAge    16141 non-null  float64\n",
      " 2   AveRooms    16141 non-null  float64\n",
      " 3   AveBedrms   16141 non-null  float64\n",
      " 4   Population  16141 non-null  float64\n",
      " 5   AveOccup    16141 non-null  float64\n",
      " 6   Latitude    16141 non-null  float64\n",
      " 7   Longitude   16141 non-null  float64\n",
      " 8   Target      16141 non-null  float64\n",
      "dtypes: float64(9)\n",
      "memory usage: 1.2 MB\n"
     ]
    }
   ],
   "source": [
    "df_cleaned_IQR = df.copy()\n",
    "\n",
    "for column in df_cleaned_IQR.columns:\n",
    "    upper, lower = outliers_IQR(df_cleaned_IQR, column)\n",
    "    \n",
    "    df_cleaned_IQR = df_cleaned_IQR[(df_cleaned_IQR[column] > lower) & (df_cleaned_IQR[column] < upper)]\n",
    "\n",
    "df_cleaned_IQR.info()"
   ]
  },
  {
   "cell_type": "code",
   "execution_count": 25,
   "id": "f750fcd4",
   "metadata": {},
   "outputs": [
    {
     "data": {
      "image/png": "[encoded data removed]",
      "text/plain": [
       "<Figure size 1440x1440 with 9 Axes>"
      ]
     },
     "metadata": {
      "needs_background": "light"
     },
     "output_type": "display_data"
    }
   ],
   "source": [
    "df_cleaned_IQR.hist(bins=50, figsize=(20,20))\n",
    "\n",
    "df_cleaned_IQR.to_csv('data/housing_cleaned_IQR.csv', index=False)"
   ]
  },
  {
   "cell_type": "code",
   "execution_count": null,
   "id": "b4fd3a5b",
   "metadata": {},
   "outputs": [],
   "source": []
  },
  {
   "cell_type": "code",
   "execution_count": null,
   "id": "1bb58ce3",
   "metadata": {},
   "outputs": [],
   "source": []
  },
  {
   "cell_type": "code",
   "execution_count": null,
   "id": "95911160",
   "metadata": {},
   "outputs": [],
   "source": []
  },
  {
   "cell_type": "code",
   "execution_count": null,
   "id": "2f34322d",
   "metadata": {},
   "outputs": [],
   "source": []
  },
  {
   "cell_type": "code",
   "execution_count": null,
   "id": "44a0501c",
   "metadata": {},
   "outputs": [],
   "source": []
  },
  {
   "cell_type": "code",
   "execution_count": null,
   "id": "5befdef1",
   "metadata": {},
   "outputs": [],
   "source": []
  },
  {
   "cell_type": "code",
   "execution_count": null,
   "id": "d1ec770e",
   "metadata": {},
   "outputs": [],
   "source": []
  },
  {
   "cell_type": "code",
   "execution_count": null,
   "id": "b4ac70a6",
   "metadata": {},
   "outputs": [],
   "source": [
    "# info and distributions after cleaning"
   ]
  },
  {
   "cell_type": "markdown",
   "id": "773545a6",
   "metadata": {},
   "source": [
    "<details>\n",
    "    <summary style=\"color:green;font-weight:bold\">Solution</summary>\n",
    "\n",
    "    cols = list(df_cleaned_IQR.columns)\n",
    "    cols.remove('MedInc')\n",
    "\n",
    "\n",
    "    for column in cols:\n",
    "        upper,lower = outliers_IQR(df_cleaned_IQR,column)\n",
    "        df_cleaned_IQR = df_cleaned_IQR[(df_cleaned_IQR[column] > lower) & (df_cleaned_IQR[column] < upper)]\n",
    "\n",
    "\n",
    "    df_cleaned_IQR.info()\n",
    "\n",
    "    df_cleaned_IQR.hist(bins=50, figsize=(20,20))\n",
    "\n",
    "    df_cleaned_IQR.to_csv('data/housing_cleaned_IQR.csv', index=False)\n",
    "\n",
    "\n",
    "</details>"
   ]
  },
  {
   "cell_type": "markdown",
   "id": "37d165a4",
   "metadata": {},
   "source": [
    "# What do you think of this approach to removing all the outliers as defined above on all features?"
   ]
  },
  {
   "cell_type": "code",
   "execution_count": null,
   "id": "1f954527",
   "metadata": {},
   "outputs": [],
   "source": [
    "# Lets compare both distributions and discuss"
   ]
  },
  {
   "cell_type": "code",
   "execution_count": 30,
   "id": "ed103ab4",
   "metadata": {},
   "outputs": [
    {
     "data": {
      "image/png": "[encoded data removed]",
      "text/plain": [
       "<Figure size 1440x1440 with 9 Axes>"
      ]
     },
     "metadata": {
      "needs_background": "light"
     },
     "output_type": "display_data"
    }
   ],
   "source": [
    "# Original\n",
    "df.hist(bins = 50, figsize=(20,20));"
   ]
  },
  {
   "cell_type": "code",
   "execution_count": null,
   "id": "808d96d6",
   "metadata": {},
   "outputs": [],
   "source": [
    "# Cleaned\n",
    "df_cleaned_IQR.hist(bins=50, figsize=(20,20));"
   ]
  },
  {
   "cell_type": "markdown",
   "id": "6b622940",
   "metadata": {},
   "source": [
    "#### What has the elimination of outliers done to our data?\n",
    "\n",
    "#### Describe the new sub set of the data we are looking at?\n",
    "\n",
    "#### Can you think of any other ways we could have removed some outliers?\n",
    "\n",
    "#### How will removing outliers impact our model?\n",
    "\n",
    "#### Can you think of any other solutions?\n"
   ]
  },
  {
   "cell_type": "markdown",
   "id": "40b2dd01",
   "metadata": {},
   "source": [
    "<details>\n",
    "    <summary style=\"color:green;font-weight:bold\">Discussion</summary>\n",
    "    \n",
    "#### What has the elimination of outliers done to our data?\n",
    "Reduced the number of observations by 3707 or 18%, this is quite large. Are we losing valuable information?\n",
    "\n",
    "\n",
    "#### Describe the new sub set of the data we are looking at?\n",
    "We have excluded the blocks with the largest numbers of avgrooms, bedrooms etc with the blocks of the highest meadian value(target)\n",
    "\n",
    "#### Can you think of any other ways we could have removed some outliers?\n",
    "An initial way could be done by eye, only removing the most extreme, it looks like avgOccupancy has errors in it.\n",
    "Here we have houses with average occupancy of 1,200 people. The reason for this is explained in the description of the data. It may be a block with many empty households such as vacation homes etc.\n",
    "    \n",
    "There is a good case to remove the extreme outliers with AvgRoom and AvgBed, figures for average households having hundreds of rooms is either an error, or really not representitve of the vast majoroty of the data.\n",
    "    \n",
    "There are many other methods used to remove outliers using the Mean and SD, or bivariate methods for example, and many more complicated solutions. There is also the approach that outliers should not be revomed unless we have a strong reason to do so.\n",
    "    \n",
    "Sometimes outliers are bad data, and should be excluded, such as typos. Sometimes they are exceptional but real data points and should be kept.\n",
    "    \n",
    "Domain knowledge is important here.\n",
    "    \n",
    "In our case using this rule to exclude outliers removed 18% of the data.\n",
    "    \n",
    "\n",
    "#### What will be the overall effects of removing outliers have on our model?\n",
    "We will be able to build a much more accurate model on the sub section, but our model in turn will not generalise well for all California Districts. e.g if we build a model and exclude the highest target vales, here they are capped below 5, it will be a terrible predictor for any houses that should have a value over that. And by extensions predicting prices for households that have features well outside our predefined range.\n",
    "\n",
    "#### Can you think of any other solutions?\n",
    "There are also some models that are not so sensitive to outliers, Tree based Models for example, but they are not so good for regression. However Robust Linear Regression methods exist that are less sensitive to them also.\n"
   ]
  },
  {
   "cell_type": "markdown",
   "id": "a22fb56d",
   "metadata": {},
   "source": [
    "##### Summary\n",
    "\n",
    "The decision to remove data from your dataset is a subject-matter decision, not a statistical decision. \n",
    "Statistics help you to identify outliers given what you believe about the dataset.\n",
    "\n",
    "The crude IQR method may not be the best idea for this dataset. Is 18% of the data being classified as outliers logical? It's nearly a fifth of what we have.\n",
    "\n",
    "Removing the most extreme cases of house sizes would be good enough to help our model. It would be very hard to build a one size fits all model for such a disparity of house sizes and with such a low amount of, if we take the figures to be true, sprawling mansions in the mix.\n",
    "\n",
    "Any model we create will have it limitationsand bulding the best possible one will depend on it's use case\n",
    "\n"
   ]
  },
  {
   "cell_type": "markdown",
   "id": "62a64c2d",
   "metadata": {},
   "source": [
    "Here are some good articles about treating outliers\n",
    "\n",
    "B. Iglewicz and D. C. Hoaglin, How to Detect and Handle Outliers (Milwaukee: ASQC Press) 1993.\n",
    "\n",
    "\n",
    "A more advanced and detailed treatment is given in\n",
    "\n",
    "V. Barnett and T. Lewis, Outliers in Statistical Data (New York: John Wiley and Sons) 1994."
   ]
  },
  {
   "cell_type": "markdown",
   "id": "b9c00f5f",
   "metadata": {},
   "source": [
    "# Extension"
   ]
  },
  {
   "cell_type": "markdown",
   "id": "b1980e88",
   "metadata": {},
   "source": [
    "# Using Mean and STD to remove outliers"
   ]
  },
  {
   "cell_type": "markdown",
   "id": "d7855346",
   "metadata": {},
   "source": [
    "# Mahalanobis Distance Method\n",
    "If we know that the distribution of values in the sample is Gaussian or Gaussian-like, we can use the standard deviation of the sample as a cut-off for identifying outliers. We will accecpt this condition to proceed\n",
    "\n",
    "The Gaussian distribution has the property that the standard deviation from the mean can be used to reliably summarize the percentage of values in the sample.\n",
    "\n",
    "For example, within one standard deviation of the mean will cover 68% of the data.\n",
    "\n",
    "So, if the mean is 100 and the standard deviation is 10, then all data in the sample between 90 and 110 will account for about 68% of the total values. We can cover more of the data sample if we expand the range as follows:\n",
    "\n",
    "1 Standard Deviation from the Mean: 68%<br>\n",
    "2 Standard Deviations from the Mean: 95%<br>\n",
    "3 Standard Deviations from the Mean: 99.7%<br>\n",
    "\n",
    "A value that falls outside of 3 standard deviations is part of the distribution, but it is an unlikely or rare event at approximately 1 in 370 samples.\n",
    "\n",
    "Three standard deviations from the mean is a common cut-off in practice for identifying outliers in a Gaussian or Gaussian-like distribution. For smaller samples of data, perhaps a value of 2 standard deviations (95%) can be used, and for larger samples, perhaps a value of 4 standard deviations (99.9%) can be used."
   ]
  },
  {
   "cell_type": "markdown",
   "id": "ae1ce2bb",
   "metadata": {},
   "source": [
    "## Task\n",
    "Apply Mahalanobis Distance Method to all columns, including the target column:\n",
    " - ensure to keep track of the meta data seeignt he changes, i.e the number of rows\n",
    " - ensure to visualise the data \n",
    " - finally save the DataFrame to a csv named, 'housing_cleaned_STD.csv', set 'index = False' as an argument when saving\n",
    " - you should end up with 19358 entries in total\n",
    " - the distributions should look like below\n",
    " - you will be able to view the saved file in the same folder where this notebook is, as long as you didnt specify another directory\n",
    " - You can easily find the Mean and SD for any column in pandas, look at the following documentation, https://pandas.pydata.org/docs/reference/api/pandas.Series.html, you can see a list of methods on the left hand pane\n",
    " - emulate the approach taken before\n",
    " - once again try to retype coe rather than copy and paste to help you famaliarize yourself wth the syntax\n",
    " - Getting brackets, commas etc wrong and fixing the errors is the best way to learn"
   ]
  },
  {
   "cell_type": "code",
   "execution_count": null,
   "id": "be756653",
   "metadata": {},
   "outputs": [],
   "source": [
    "# Results of excluding Outliers using the 3 Standard Deviation Rule"
   ]
  },
  {
   "cell_type": "code",
   "execution_count": null,
   "id": "a5a407d3",
   "metadata": {},
   "outputs": [],
   "source": []
  },
  {
   "cell_type": "code",
   "execution_count": null,
   "id": "b4b8ee50",
   "metadata": {},
   "outputs": [],
   "source": []
  },
  {
   "cell_type": "code",
   "execution_count": null,
   "id": "26dca66c",
   "metadata": {},
   "outputs": [],
   "source": []
  },
  {
   "cell_type": "code",
   "execution_count": null,
   "id": "012e71d8",
   "metadata": {},
   "outputs": [],
   "source": []
  },
  {
   "cell_type": "code",
   "execution_count": null,
   "id": "f62ab76e",
   "metadata": {},
   "outputs": [],
   "source": []
  },
  {
   "cell_type": "code",
   "execution_count": null,
   "id": "975b31a4",
   "metadata": {},
   "outputs": [],
   "source": []
  },
  {
   "cell_type": "code",
   "execution_count": null,
   "id": "405486d5",
   "metadata": {},
   "outputs": [],
   "source": []
  },
  {
   "cell_type": "code",
   "execution_count": null,
   "id": "5ddde4fc",
   "metadata": {},
   "outputs": [],
   "source": []
  },
  {
   "cell_type": "code",
   "execution_count": null,
   "id": "64196e13",
   "metadata": {},
   "outputs": [],
   "source": []
  },
  {
   "cell_type": "code",
   "execution_count": null,
   "id": "5712b349",
   "metadata": {},
   "outputs": [],
   "source": []
  },
  {
   "cell_type": "code",
   "execution_count": null,
   "id": "9223f6e9",
   "metadata": {},
   "outputs": [],
   "source": []
  },
  {
   "cell_type": "code",
   "execution_count": null,
   "id": "b870d935",
   "metadata": {},
   "outputs": [],
   "source": []
  },
  {
   "cell_type": "code",
   "execution_count": null,
   "id": "0a5093e4",
   "metadata": {},
   "outputs": [],
   "source": []
  },
  {
   "cell_type": "code",
   "execution_count": null,
   "id": "89fdb39b",
   "metadata": {},
   "outputs": [],
   "source": []
  },
  {
   "cell_type": "code",
   "execution_count": null,
   "id": "c5ca5517",
   "metadata": {},
   "outputs": [],
   "source": []
  },
  {
   "cell_type": "code",
   "execution_count": null,
   "id": "7ad180f8",
   "metadata": {},
   "outputs": [],
   "source": []
  },
  {
   "cell_type": "code",
   "execution_count": null,
   "id": "0c3b8941",
   "metadata": {},
   "outputs": [],
   "source": []
  },
  {
   "cell_type": "code",
   "execution_count": null,
   "id": "2e739a65",
   "metadata": {},
   "outputs": [],
   "source": []
  },
  {
   "cell_type": "code",
   "execution_count": null,
   "id": "265d6c00",
   "metadata": {},
   "outputs": [],
   "source": []
  },
  {
   "cell_type": "code",
   "execution_count": null,
   "id": "444ae59f",
   "metadata": {},
   "outputs": [],
   "source": []
  },
  {
   "cell_type": "code",
   "execution_count": null,
   "id": "dedb5a45",
   "metadata": {},
   "outputs": [],
   "source": []
  },
  {
   "cell_type": "code",
   "execution_count": null,
   "id": "2f082eb6",
   "metadata": {},
   "outputs": [],
   "source": []
  },
  {
   "cell_type": "code",
   "execution_count": null,
   "id": "c9208034",
   "metadata": {},
   "outputs": [],
   "source": []
  },
  {
   "cell_type": "code",
   "execution_count": null,
   "id": "16b0bf2e",
   "metadata": {},
   "outputs": [],
   "source": []
  },
  {
   "cell_type": "code",
   "execution_count": null,
   "id": "b8f473da",
   "metadata": {},
   "outputs": [],
   "source": []
  },
  {
   "cell_type": "markdown",
   "id": "5e0929e3",
   "metadata": {},
   "source": [
    "<details>\n",
    "    <summary style=\"color:green;font-weight:bold\">Solution</summary>\n",
    "\n",
    "\n",
    "    def outliers_STD(df, feature):\n",
    "        mean= df[feature].mean()\n",
    "        sd = df[feature].std()\n",
    "        upper_limit = mean + 3*sd\n",
    "        lower_limit = mean-3*sd\n",
    "        return upper_limit, lower_limit\n",
    "\n",
    "\n",
    "    cols = list(df.columns)\n",
    "    df_cleaned_STD = df.copy()\n",
    "\n",
    "\n",
    "    for column in cols:\n",
    "        upper,lower = outliers_STD(df_cleaned_STD,column)\n",
    "        df_cleaned_STD = df_cleaned_STD[(df_cleaned_STD[column] > lower) & (df_cleaned_STD[column] < upper)]\n",
    "\n",
    "\n",
    "    df_cleaned_STD.info()\n",
    "\n",
    "    df_cleaned_STD.hist(bins=50, figsize=(20,20))\n",
    "\n",
    "    df_cleaned_STD.to_csv('data/housing_data_cleaned_STD.csv', index=False)"
   ]
  },
  {
   "cell_type": "markdown",
   "id": "b17b229b-98f2-4816-9670-07a4096237c9",
   "metadata": {},
   "source": [
    "## Identifying whether data is MCAR, MAR, or MNAR"
   ]
  },
  {
   "cell_type": "code",
   "execution_count": null,
   "id": "7c6f27ba-55a4-457b-99e1-a30ef3f632eb",
   "metadata": {},
   "outputs": [],
   "source": [
    "import seaborn as sns"
   ]
  },
  {
   "cell_type": "markdown",
   "id": "5af93d3a-129e-4033-bbfd-9552a1fce437",
   "metadata": {},
   "source": [
    "### MCAR\n",
    "Approaces to identifying MCAR data include:\n",
    "* Accepting null of Little's Test\n",
    "* Encoding the feature of interest as missing/not missing, and proceeding to run:\n",
    "    * T-tests\n",
    "    * $\\chi^2$-tests\n",
    "    * Logistic regression to indentify association between feature & missingness"
   ]
  },
  {
   "cell_type": "markdown",
   "id": "fa9991ac-56c3-4c7a-9152-84487f9e2ef4",
   "metadata": {},
   "source": [
    "#### Log Reg"
   ]
  },
  {
   "cell_type": "code",
   "execution_count": null,
   "id": "ee81a4eb-3f7c-43b7-8b5e-d81ca336fb18",
   "metadata": {},
   "outputs": [],
   "source": [
    "df.info()"
   ]
  },
  {
   "cell_type": "code",
   "execution_count": null,
   "id": "52b1ac53-99eb-46c5-8d02-62c6e9988969",
   "metadata": {},
   "outputs": [],
   "source": [
    "df_random = df.copy()"
   ]
  },
  {
   "cell_type": "code",
   "execution_count": null,
   "id": "bc0cc81a-0b10-48b1-acef-d9e97ccf4be5",
   "metadata": {},
   "outputs": [],
   "source": [
    "df_random['AveRooms'].isna().astype(int)"
   ]
  },
  {
   "cell_type": "code",
   "execution_count": null,
   "id": "3563c080-635b-48cc-a7c6-d6a90e4d9f8e",
   "metadata": {},
   "outputs": [],
   "source": [
    "df_random['AveRooms'] = df_random['AveRooms'].isna().astype(int)"
   ]
  },
  {
   "cell_type": "code",
   "execution_count": null,
   "id": "298b0dd7-b93a-4a85-857a-63e7b7724587",
   "metadata": {},
   "outputs": [],
   "source": [
    "from statsmodels.formula.api import logit\n",
    "\n",
    "log_reg = logit(\"AveRooms ~ MedInc + HouseAge + AveBedrms + Population + AveOccup + Latitude + Longitude\",\n",
    "                data=df_random).fit()"
   ]
  },
  {
   "cell_type": "code",
   "execution_count": null,
   "id": "6bbf0dbd-6b2a-4a61-861c-29e7c91efb65",
   "metadata": {},
   "outputs": [],
   "source": [
    "log_reg.summary()"
   ]
  },
  {
   "cell_type": "markdown",
   "id": "74ff4872-cd2a-45d8-a9b6-2f2f147d259b",
   "metadata": {},
   "source": [
    "#### Aggregation"
   ]
  },
  {
   "cell_type": "code",
   "execution_count": null,
   "id": "91ee4626-2c7a-41cc-af89-e0eb7386679b",
   "metadata": {},
   "outputs": [],
   "source": [
    "df_random.groupby('AveRooms').plot.(kind='hist')"
   ]
  },
  {
   "cell_type": "code",
   "execution_count": null,
   "id": "5dd5508b-e3cb-41c3-a6ee-9f4a0c83daf2",
   "metadata": {},
   "outputs": [],
   "source": [
    "sns.pairplot(data=df_random,\n",
    "             hue='AveRooms')"
   ]
  },
  {
   "cell_type": "markdown",
   "id": "4cc7cc66-7be7-484b-a2d0-a24b60e56d89",
   "metadata": {},
   "source": [
    "### MAR\n",
    "Approaces to identifying MCAR data include:\n",
    "* Visual inspection\n",
    "* Rejecting null of Little's Test\n",
    "* Encodeing the feature of interest as missing/not missing, and proceeding to run:\n",
    "    * T-tests\n",
    "    * $\\chi^2$-tests\n",
    "    * Logistic regression to indentify association between feature & missingness"
   ]
  },
  {
   "cell_type": "markdown",
   "id": "91306861-e666-45a3-8b29-dd1c1a13c07e",
   "metadata": {},
   "source": [
    "### MNAR\n",
    "Approaces to identifying MCAR data include:\n",
    "* Domain knowledge\n",
    "* Further data collection/sampling"
   ]
  },
  {
   "cell_type": "code",
   "execution_count": null,
   "id": "e2e3c46f-5bd2-43e6-8fd5-af3530e7044f",
   "metadata": {},
   "outputs": [],
   "source": [
    "df.value_counts()"
   ]
  }
 ],
 "metadata": {
  "kernelspec": {
   "display_name": "Python 3 (ipykernel)",
   "language": "python",
   "name": "python3"
  },
  "language_info": {
   "codemirror_mode": {
    "name": "ipython",
    "version": 3
   },
   "file_extension": ".py",
   "mimetype": "text/x-python",
   "name": "python",
   "nbconvert_exporter": "python",
   "pygments_lexer": "ipython3",
   "version": "3.9.7"
  }
 },
 "nbformat": 4,
 "nbformat_minor": 5
}
