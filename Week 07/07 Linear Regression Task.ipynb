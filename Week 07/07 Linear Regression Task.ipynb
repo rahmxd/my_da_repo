{
 "cells": [
  {
   "cell_type": "markdown",
   "id": "fa53e7fd",
   "metadata": {},
   "source": [
    "# Task\n",
    "\n",
    "You work for an investment firm.\n",
    "\n",
    "Your manager hears that you have been experimenting building models for the California housing market.\n",
    "\n",
    "They ask you whether you could create a model for a specific area that they are interested in investing in.\n",
    "\n",
    "You agree and they send you through some data.\n",
    "\n",
    "The deliverables for this are:\n",
    "- a presentation about your insights into the market you have gained from the data\n",
    "-  A proof of concept model\n",
    "\n",
    "Afterwards, it will be decided whether or not it would be worthwhile spending money to acquire more data and develop it further.\n",
    "\n",
    "Unfortunately, your manager didnt give you much guidance beyond the brief. They didn't know what the file contained, or communicate any other information to you. In fac, after sending the file they signed off and went on leave with the parting words \"i'm sure you'll do great\".\n",
    "\n",
    "You have to present your initial proof of concept tomorrow to the wider team.\n",
    "\n",
    "There is quite a lot to sort out before then!\n",
    "\n",
    "##### You can use the skeleton laid out below as a guide or you can choose to take your own direction with it\n",
    "\n",
    "##### Skills required\n",
    "- Basic Python\n",
    "- Data manipulation and Vizualisation in Pandas and MatplotLib, Seaborn etc\n",
    "- Data Prep, cleaning, scaling etc\n",
    "- Linear Regression Modelling in SKLearn\n",
    "- Clear communication skills to effectively convey the limitations of the model built\n",
    "\n",
    "\n",
    "\n"
   ]
  },
  {
   "cell_type": "code",
   "execution_count": 57,
   "id": "a5cad2ec",
   "metadata": {},
   "outputs": [],
   "source": [
    "import pandas as pd"
   ]
  },
  {
   "cell_type": "code",
   "execution_count": 58,
   "id": "8a6fca36",
   "metadata": {},
   "outputs": [],
   "source": [
    "# first thing to do is to read in the data\n",
    "df = pd.read_csv('Real estate.csv')"
   ]
  },
  {
   "cell_type": "code",
   "execution_count": 60,
   "id": "89bcf5d9",
   "metadata": {
    "scrolled": true
   },
   "outputs": [
    {
     "name": "stdout",
     "output_type": "stream",
     "text": [
      "<class 'pandas.core.frame.DataFrame'>\n",
      "RangeIndex: 414 entries, 0 to 413\n",
      "Data columns (total 8 columns):\n",
      " #   Column                                  Non-Null Count  Dtype  \n",
      "---  ------                                  --------------  -----  \n",
      " 0   No                                      414 non-null    int64  \n",
      " 1   X1 transaction date                     414 non-null    float64\n",
      " 2   X2 house age                            414 non-null    float64\n",
      " 3   X3 distance to the nearest MRT station  414 non-null    float64\n",
      " 4   X4 number of convenience stores         414 non-null    int64  \n",
      " 5   X5 latitude                             414 non-null    float64\n",
      " 6   X6 longitude                            414 non-null    float64\n",
      " 7   Y house price of unit area              414 non-null    float64\n",
      "dtypes: float64(6), int64(2)\n",
      "memory usage: 26.0 KB\n"
     ]
    }
   ],
   "source": [
    "df.info()"
   ]
  },
  {
   "cell_type": "markdown",
   "id": "22ed0633",
   "metadata": {},
   "source": [
    "What are the first issues we can see?\n",
    " - There is no location, or explanation of of the units of price\n",
    " - We don't know whether this price column referrs to renting or buying or what currency\n",
    " - The date column, this is a frequent issue\n",
    " - thankfully no missing values but we should investiage further to see if we have negatives etc\n",
    " - Only 414 rows of data, this is only a POC and all we can do it go with what we have"
   ]
  },
  {
   "cell_type": "markdown",
   "id": "db69dd12",
   "metadata": {},
   "source": [
    "Well, some things we can fix:\n",
    "- Firstly, go and find out where exactly these properties are\n",
    "  - Wouldn't look to good giving a presentation on a housing market and not knowing where it was\n",
    "- As for the price, would it be possible to continue building?\n",
    " - Yes we can\n",
    " - It doesnt really matter what the units are or what currency\n",
    " - We can deal with this later\n",
    " \n",
    "- The date column\n",
    " - As we are building a Mutli Linear Regression and not a time series we could just extract the year\n",
    "   - This is not a straightforward date to deal with, the year will suffice for now"
   ]
  },
  {
   "cell_type": "markdown",
   "id": "ffaf2460",
   "metadata": {},
   "source": [
    "#### Get rid of uneeded columns"
   ]
  },
  {
   "cell_type": "markdown",
   "id": "4c0cff80",
   "metadata": {},
   "source": [
    "#### Obvious errors or placeholders fo NANs\n"
   ]
  },
  {
   "cell_type": "markdown",
   "id": "62651175",
   "metadata": {},
   "source": [
    "No negative values or anything obvious<br>\n",
    "There is quite a range of house prices, from 7.6 per unit area to 117, we can look at this on a scatter plot of the locations in the EDA"
   ]
  },
  {
   "cell_type": "markdown",
   "id": "b551726e",
   "metadata": {},
   "source": [
    "##### The location"
   ]
  },
  {
   "cell_type": "markdown",
   "id": "d355385d",
   "metadata": {},
   "source": [
    "#### After taking a random sample and searching\n",
    "#### The location is Taipei"
   ]
  },
  {
   "cell_type": "markdown",
   "id": "50fbbf74",
   "metadata": {},
   "source": [
    "### I will rename the columns for convienience"
   ]
  },
  {
   "cell_type": "markdown",
   "id": "b5ce0a95",
   "metadata": {},
   "source": [
    "#### The date column"
   ]
  },
  {
   "cell_type": "markdown",
   "id": "fe76fb8f",
   "metadata": {},
   "source": [
    "#### Initial EDA\n",
    "- Explore the data frame\n",
    "- Check ranges and distributions of the data\n",
    "- Plot the target over the distirbutions\n",
    "- Investigate the correlation between all variables\n",
    "- If you are going to use some of these charts in a presentation, make sure they look good,\n",
    "  - choose nice colour pallettes\n",
    "  - ensure axis are labelled\n",
    "  - make sure the charts are easy to understand\n",
    "  \n",
    "  \n",
    "You dont need to build a Power Point presesntation for this task, just create charts that you would be happy to includs in one"
   ]
  },
  {
   "cell_type": "markdown",
   "id": "c3d8d07f",
   "metadata": {},
   "source": [
    " As expected more expensive in the city"
   ]
  },
  {
   "cell_type": "markdown",
   "id": "80cb062a",
   "metadata": {},
   "source": [
    "# Examine correlations"
   ]
  },
  {
   "cell_type": "markdown",
   "id": "49307aed",
   "metadata": {},
   "source": [
    "No Obvious outliers present"
   ]
  },
  {
   "cell_type": "markdown",
   "id": "fa326abd",
   "metadata": {},
   "source": [
    "#### Ideas for data viz\n",
    "\n",
    "Lets create a new column for above and below mean price, we can then view the distribution of this over our other variables"
   ]
  },
  {
   "cell_type": "markdown",
   "id": "3fdc0e24",
   "metadata": {},
   "source": [
    "we can see the distribution of above average prices in relation to the proximity to mrt stations"
   ]
  },
  {
   "cell_type": "markdown",
   "id": "d480da65",
   "metadata": {},
   "source": [
    "# Outliers\n",
    " - shall we reomove?\n",
    " - I will remove some outliers into a copy of the data frame\n",
    " - Looks like removing some from MRT, Price and long may help\n",
    " - What are the effects of this?"
   ]
  },
  {
   "cell_type": "markdown",
   "id": "d52ed2ed",
   "metadata": {},
   "source": [
    "# Create your Train Test Split of the Data"
   ]
  },
  {
   "cell_type": "markdown",
   "id": "a8b894c7",
   "metadata": {},
   "source": [
    "# Perform any Re-Scaling you feel is necessary\n",
    "- why scale after splitting?"
   ]
  },
  {
   "cell_type": "markdown",
   "id": "f208e30a",
   "metadata": {},
   "source": [
    "# Build your models and assses the best combination of features\n",
    " - What defines the best combination?\n",
    " - Which metric will  you use?\n",
    " - Investment firms are all about margins, could this help?<br>https://scikit-learn.org/stable/modules/generated/sklearn.metrics.mean_absolute_percentage_error.html"
   ]
  },
  {
   "cell_type": "markdown",
   "id": "1b5a0562",
   "metadata": {},
   "source": [
    "# Write a function that takes in a row of data and outputs whether or not your model thinks it is undervalued and by how much"
   ]
  },
  {
   "cell_type": "markdown",
   "id": "e47e2391",
   "metadata": {},
   "source": [
    "# Can you write a similiar function that will take in multiple rows of data, and return only those that your model thinks is undervalued along with the amount. \n",
    " - The Final output of this would be good in a DataFrame"
   ]
  },
  {
   "cell_type": "code",
   "execution_count": null,
   "id": "9bd85afc",
   "metadata": {},
   "outputs": [],
   "source": []
  },
  {
   "cell_type": "code",
   "execution_count": null,
   "id": "be10c6ae",
   "metadata": {},
   "outputs": [],
   "source": []
  },
  {
   "cell_type": "markdown",
   "id": "75adcc8e",
   "metadata": {},
   "source": [
    "# Display the models performance in some way fit for your presentation"
   ]
  },
  {
   "cell_type": "code",
   "execution_count": null,
   "id": "84d0a244",
   "metadata": {},
   "outputs": [],
   "source": []
  },
  {
   "cell_type": "code",
   "execution_count": null,
   "id": "3422e45d",
   "metadata": {},
   "outputs": [],
   "source": []
  },
  {
   "cell_type": "code",
   "execution_count": null,
   "id": "16ec4679",
   "metadata": {},
   "outputs": [],
   "source": []
  },
  {
   "cell_type": "markdown",
   "id": "e39e285f",
   "metadata": {},
   "source": [
    "# Summarise the limitations of your model and make suggestions for improving and moving forward "
   ]
  },
  {
   "cell_type": "code",
   "execution_count": null,
   "id": "98fe6140",
   "metadata": {},
   "outputs": [],
   "source": []
  }
 ],
 "metadata": {
  "kernelspec": {
   "display_name": "Python 3 (ipykernel)",
   "language": "python",
   "name": "python3"
  },
  "language_info": {
   "codemirror_mode": {
    "name": "ipython",
    "version": 3
   },
   "file_extension": ".py",
   "mimetype": "text/x-python",
   "name": "python",
   "nbconvert_exporter": "python",
   "pygments_lexer": "ipython3",
   "version": "3.9.7"
  }
 },
 "nbformat": 4,
 "nbformat_minor": 5
}
