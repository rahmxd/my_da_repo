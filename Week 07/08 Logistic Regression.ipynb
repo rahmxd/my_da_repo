{
 "cells": [
  {
   "cell_type": "markdown",
   "metadata": {
    "slideshow": {
     "slide_type": "slide"
    }
   },
   "source": [
    "# Machine Learning: An Overview by Example"
   ]
  },
  {
   "cell_type": "markdown",
   "metadata": {
    "slideshow": {
     "slide_type": "subslide"
    }
   },
   "source": [
    "# The Problem:\n",
    "\n",
    "* Loan data for every customer who borrowed £1000 for 12 months\n",
    "\n",
    "* Examples/cases = row = single customer/loan.\n",
    "* Features = columns = fields = characteristics of customer/loan.\n",
    "* Target = the characteristic/column you’re trying to predict/understand\n",
    "* Problem: what model best describes the relationship of the features to the target?\n",
    "* Step 1: learn pattern (model) from data which describes features relationship to target\n",
    "* Step 2: use pattern to guess unknown target from known features \n"
   ]
  },
  {
   "cell_type": "markdown",
   "metadata": {
    "slideshow": {
     "slide_type": "subslide"
    }
   },
   "source": [
    "## How do you do Machine Learning?\n",
    "\n",
    "* In practice the \"learning\" step in a project is a very small number of programming lines (often one or two)\n",
    "* Most time is spent exploring and preparing the data so that the scientist is aware of what analysis may be done\n",
    "* And to rephrase the data to be compatible with the kind of analysis they wish to perform\n",
    "\n",
    "### Python\n",
    "* programming language\n",
    "* libraries\n",
    "* batteries included"
   ]
  },
  {
   "cell_type": "code",
   "execution_count": 1,
   "metadata": {
    "slideshow": {
     "slide_type": "subslide"
    }
   },
   "outputs": [],
   "source": [
    "import numpy as np\n",
    "import pandas as pd\n",
    "import seaborn as sns\n",
    "\n",
    "import sklearn.linear_model as lm\n",
    "from sklearn import preprocessing\n",
    "import matplotlib.pyplot as plt"
   ]
  },
  {
   "cell_type": "markdown",
   "metadata": {
    "slideshow": {
     "slide_type": "slide"
    }
   },
   "source": [
    "### Domain Understanding\n",
    "\n",
    "* understand the problem\n",
    "* concepts and causes <- cannot be determined from data\n",
    "\n",
    "### Data Understanding"
   ]
  },
  {
   "cell_type": "code",
   "execution_count": 2,
   "metadata": {
    "scrolled": true,
    "slideshow": {
     "slide_type": "subslide"
    }
   },
   "outputs": [
    {
     "data": {
      "text/html": [
       "<div>\n",
       "<style scoped>\n",
       "    .dataframe tbody tr th:only-of-type {\n",
       "        vertical-align: middle;\n",
       "    }\n",
       "\n",
       "    .dataframe tbody tr th {\n",
       "        vertical-align: top;\n",
       "    }\n",
       "\n",
       "    .dataframe thead th {\n",
       "        text-align: right;\n",
       "    }\n",
       "</style>\n",
       "<table border=\"1\" class=\"dataframe\">\n",
       "  <thead>\n",
       "    <tr style=\"text-align: right;\">\n",
       "      <th></th>\n",
       "      <th>ID</th>\n",
       "      <th>Income</th>\n",
       "      <th>Term</th>\n",
       "      <th>Balance</th>\n",
       "      <th>Debt</th>\n",
       "      <th>Score</th>\n",
       "      <th>Default</th>\n",
       "    </tr>\n",
       "  </thead>\n",
       "  <tbody>\n",
       "    <tr>\n",
       "      <th>276</th>\n",
       "      <td>243</td>\n",
       "      <td>19800.0</td>\n",
       "      <td>Short Term</td>\n",
       "      <td>1420.0</td>\n",
       "      <td>1254.0</td>\n",
       "      <td>217.0</td>\n",
       "      <td>False</td>\n",
       "    </tr>\n",
       "    <tr>\n",
       "      <th>769</th>\n",
       "      <td>733</td>\n",
       "      <td>60400.0</td>\n",
       "      <td>Long Term</td>\n",
       "      <td>1890.0</td>\n",
       "      <td>0.0</td>\n",
       "      <td>1000.0</td>\n",
       "      <td>False</td>\n",
       "    </tr>\n",
       "    <tr>\n",
       "      <th>777</th>\n",
       "      <td>772</td>\n",
       "      <td>54600.0</td>\n",
       "      <td>Short Term</td>\n",
       "      <td>1560.0</td>\n",
       "      <td>2621.0</td>\n",
       "      <td>664.0</td>\n",
       "      <td>False</td>\n",
       "    </tr>\n",
       "  </tbody>\n",
       "</table>\n",
       "</div>"
      ],
      "text/plain": [
       "      ID   Income        Term  Balance    Debt   Score  Default\n",
       "276  243  19800.0  Short Term   1420.0  1254.0   217.0    False\n",
       "769  733  60400.0   Long Term   1890.0     0.0  1000.0    False\n",
       "777  772  54600.0  Short Term   1560.0  2621.0   664.0    False"
      ]
     },
     "execution_count": 2,
     "metadata": {},
     "output_type": "execute_result"
    }
   ],
   "source": [
    "# Read in the loans data and assign it to a dataframe\n",
    "df = pd.read_csv('data/loan_data.csv')\n",
    "\n",
    "# View a smaple of the data\n",
    "df.sample(3)"
   ]
  },
  {
   "cell_type": "markdown",
   "metadata": {
    "slideshow": {
     "slide_type": "fragment"
    }
   },
   "source": [
    "\n",
    "```\n",
    " \"ID\",         Customer ID\n",
    " \"Income\",     Annual Pre-Tax Income on-application\n",
    " \"Term\" ,      Short or Long Term (6mo or 12mo)\n",
    " \"Balance\",    Current Account Balance on-application\n",
    " \"Debt\" ,      Outstanding Debt on-application\n",
    " \"Score\",      Credit Score (from referencing agency)\n",
    " \"Default\"     Observed Default (True = Default, False = Settle\n",
    "```"
   ]
  },
  {
   "cell_type": "code",
   "execution_count": 3,
   "metadata": {},
   "outputs": [
    {
     "name": "stdout",
     "output_type": "stream",
     "text": [
      "<class 'pandas.core.frame.DataFrame'>\n",
      "RangeIndex: 856 entries, 0 to 855\n",
      "Data columns (total 7 columns):\n",
      " #   Column   Non-Null Count  Dtype  \n",
      "---  ------   --------------  -----  \n",
      " 0   ID       856 non-null    int64  \n",
      " 1   Income   856 non-null    float64\n",
      " 2   Term     856 non-null    object \n",
      " 3   Balance  856 non-null    float64\n",
      " 4   Debt     856 non-null    float64\n",
      " 5   Score    836 non-null    float64\n",
      " 6   Default  856 non-null    bool   \n",
      "dtypes: bool(1), float64(4), int64(1), object(1)\n",
      "memory usage: 41.1+ KB\n"
     ]
    }
   ],
   "source": [
    "# viewing the info\n",
    "df.info()"
   ]
  },
  {
   "cell_type": "markdown",
   "metadata": {},
   "source": [
    "We have 20 null values, we will drop those later"
   ]
  },
  {
   "cell_type": "code",
   "execution_count": 4,
   "metadata": {},
   "outputs": [],
   "source": [
    "# Dropping unecessary columns, ID is of no use to us\n",
    "df.drop(columns='ID', inplace = True)"
   ]
  },
  {
   "cell_type": "code",
   "execution_count": 5,
   "metadata": {
    "slideshow": {
     "slide_type": "subslide"
    }
   },
   "outputs": [
    {
     "data": {
      "text/html": [
       "<div>\n",
       "<style scoped>\n",
       "    .dataframe tbody tr th:only-of-type {\n",
       "        vertical-align: middle;\n",
       "    }\n",
       "\n",
       "    .dataframe tbody tr th {\n",
       "        vertical-align: top;\n",
       "    }\n",
       "\n",
       "    .dataframe thead th {\n",
       "        text-align: right;\n",
       "    }\n",
       "</style>\n",
       "<table border=\"1\" class=\"dataframe\">\n",
       "  <thead>\n",
       "    <tr style=\"text-align: right;\">\n",
       "      <th></th>\n",
       "      <th>Income</th>\n",
       "      <th>Balance</th>\n",
       "      <th>Debt</th>\n",
       "      <th>Score</th>\n",
       "    </tr>\n",
       "  </thead>\n",
       "  <tbody>\n",
       "    <tr>\n",
       "      <th>count</th>\n",
       "      <td>856.0</td>\n",
       "      <td>856.0</td>\n",
       "      <td>856.0</td>\n",
       "      <td>836.0</td>\n",
       "    </tr>\n",
       "    <tr>\n",
       "      <th>mean</th>\n",
       "      <td>29882.0</td>\n",
       "      <td>1214.0</td>\n",
       "      <td>644.0</td>\n",
       "      <td>451.0</td>\n",
       "    </tr>\n",
       "    <tr>\n",
       "      <th>std</th>\n",
       "      <td>13976.0</td>\n",
       "      <td>588.0</td>\n",
       "      <td>1150.0</td>\n",
       "      <td>269.0</td>\n",
       "    </tr>\n",
       "    <tr>\n",
       "      <th>min</th>\n",
       "      <td>11800.0</td>\n",
       "      <td>140.0</td>\n",
       "      <td>0.0</td>\n",
       "      <td>0.0</td>\n",
       "    </tr>\n",
       "    <tr>\n",
       "      <th>25%</th>\n",
       "      <td>19800.0</td>\n",
       "      <td>910.0</td>\n",
       "      <td>0.0</td>\n",
       "      <td>243.0</td>\n",
       "    </tr>\n",
       "    <tr>\n",
       "      <th>50%</th>\n",
       "      <td>22900.0</td>\n",
       "      <td>1120.0</td>\n",
       "      <td>65.0</td>\n",
       "      <td>376.0</td>\n",
       "    </tr>\n",
       "    <tr>\n",
       "      <th>75%</th>\n",
       "      <td>39025.0</td>\n",
       "      <td>1370.0</td>\n",
       "      <td>959.0</td>\n",
       "      <td>647.0</td>\n",
       "    </tr>\n",
       "    <tr>\n",
       "      <th>max</th>\n",
       "      <td>86000.0</td>\n",
       "      <td>6020.0</td>\n",
       "      <td>12891.0</td>\n",
       "      <td>1000.0</td>\n",
       "    </tr>\n",
       "  </tbody>\n",
       "</table>\n",
       "</div>"
      ],
      "text/plain": [
       "        Income  Balance     Debt   Score\n",
       "count    856.0    856.0    856.0   836.0\n",
       "mean   29882.0   1214.0    644.0   451.0\n",
       "std    13976.0    588.0   1150.0   269.0\n",
       "min    11800.0    140.0      0.0     0.0\n",
       "25%    19800.0    910.0      0.0   243.0\n",
       "50%    22900.0   1120.0     65.0   376.0\n",
       "75%    39025.0   1370.0    959.0   647.0\n",
       "max    86000.0   6020.0  12891.0  1000.0"
      ]
     },
     "execution_count": 5,
     "metadata": {},
     "output_type": "execute_result"
    }
   ],
   "source": [
    "# Summary Statistics of numerical columns\n",
    "df.describe().round()"
   ]
  },
  {
   "cell_type": "code",
   "execution_count": 6,
   "metadata": {
    "scrolled": true
   },
   "outputs": [
    {
     "data": {
      "text/plain": [
       "Short Term    584\n",
       "Long Term     272\n",
       "Name: Term, dtype: int64"
      ]
     },
     "execution_count": 6,
     "metadata": {},
     "output_type": "execute_result"
    }
   ],
   "source": [
    "# Summary of categorical colums\n",
    "df['Term'].value_counts()"
   ]
  },
  {
   "cell_type": "markdown",
   "metadata": {},
   "source": [
    "Mostly short term loans"
   ]
  },
  {
   "cell_type": "markdown",
   "metadata": {},
   "source": [
    "##### Examining our Target variable"
   ]
  },
  {
   "cell_type": "code",
   "execution_count": 7,
   "metadata": {},
   "outputs": [
    {
     "data": {
      "text/plain": [
       "False    768\n",
       "True      88\n",
       "Name: Default, dtype: int64"
      ]
     },
     "execution_count": 7,
     "metadata": {},
     "output_type": "execute_result"
    }
   ],
   "source": [
    "# Counts of the target variable\n",
    "df.Default.value_counts()"
   ]
  },
  {
   "cell_type": "code",
   "execution_count": 8,
   "metadata": {
    "scrolled": true
   },
   "outputs": [
    {
     "data": {
      "image/png": "[encoded data removed]",
      "text/plain": [
       "<Figure size 432x288 with 1 Axes>"
      ]
     },
     "metadata": {
      "needs_background": "light"
     },
     "output_type": "display_data"
    }
   ],
   "source": [
    "# Visualisation of this\n",
    "sns.countplot(x='Default', data = df);"
   ]
  },
  {
   "cell_type": "markdown",
   "metadata": {},
   "source": [
    "We have heavily imbalanced data, this is an issue.<br>\n",
    "We will continue with a vanilla model to see its perfromance and will investigate methods to help with this"
   ]
  },
  {
   "cell_type": "markdown",
   "metadata": {},
   "source": [
    "#### Exploratory Data Analysis\n",
    "\n",
    "It is important to get a good \"feel\" for the data.\n",
    "\n",
    "By visualising the target class distribution across each feature, we can guage whether any may be helpful (i.e. predictive) to our model.\n",
    "\n",
    "If the distribution of the target classes is uniform for a feature, it may not be predictive of our outcome, or add much information to our model.\n",
    "\n",
    "If we see variation in the distribution of the classes of the target variable across the feature, we may get some helpful information by including it."
   ]
  },
  {
   "cell_type": "markdown",
   "metadata": {
    "slideshow": {
     "slide_type": "subslide"
    }
   },
   "source": [
    "#### Investigating Debt"
   ]
  },
  {
   "cell_type": "code",
   "execution_count": 9,
   "metadata": {
    "scrolled": true,
    "slideshow": {
     "slide_type": "subslide"
    }
   },
   "outputs": [
    {
     "data": {
      "text/plain": [
       "<AxesSubplot:xlabel='Default', ylabel='Debt'>"
      ]
     },
     "execution_count": 9,
     "metadata": {},
     "output_type": "execute_result"
    },
    {
     "data": {
      "image/png": "[encoded data removed]",
      "text/plain": [
       "<Figure size 432x288 with 1 Axes>"
      ]
     },
     "metadata": {
      "needs_background": "light"
     },
     "output_type": "display_data"
    }
   ],
   "source": [
    "# Violin Plot for debt\n",
    "sns.violinplot(x=\"Default\", y=\"Debt\", data=df)"
   ]
  },
  {
   "cell_type": "markdown",
   "metadata": {},
   "source": [
    "What understanding from the above?"
   ]
  },
  {
   "cell_type": "markdown",
   "metadata": {},
   "source": [
    "<details>\n",
    "    <summary style=\"color:green;font-weight:bold\">Thoughts</summary>\n",
    "    \n",
    "Looks like people who had less debt defaulted a lot less on thier loans"
   ]
  },
  {
   "cell_type": "markdown",
   "metadata": {},
   "source": [
    "### Looking at the above, do we have negative Debt values?"
   ]
  },
  {
   "cell_type": "code",
   "execution_count": 10,
   "metadata": {},
   "outputs": [
    {
     "data": {
      "text/plain": [
       "count      856.000000\n",
       "mean       643.785047\n",
       "std       1150.286509\n",
       "min          0.000000\n",
       "25%          0.000000\n",
       "50%         65.000000\n",
       "75%        958.750000\n",
       "max      12891.000000\n",
       "Name: Debt, dtype: float64"
      ]
     },
     "execution_count": 10,
     "metadata": {},
     "output_type": "execute_result"
    }
   ],
   "source": [
    "df['Debt'].describe()"
   ]
  },
  {
   "cell_type": "markdown",
   "metadata": {},
   "source": [
    "It appears not, so why does the violin plot show negative values and exceed our max?\n",
    "\n",
    "A violin plot plays a similar role as a box and whisker plot. \n",
    "\n",
    "It shows the distribution of quantitative data across several levels of one (or more) categorical variables.\n",
    "\n",
    "In this case debt as the quantitive and defaults as the categorical.\n",
    "\n",
    "Unlike a box plot, in which all of the plot components correspond to actual datapoints, the violin plot features a kernel density estimation of the underlying distribution. \n",
    "\n",
    "This is a smoothing over the distribution."
   ]
  },
  {
   "cell_type": "code",
   "execution_count": 11,
   "metadata": {},
   "outputs": [
    {
     "data": {
      "text/plain": [
       "<AxesSubplot:xlabel='Default', ylabel='Debt'>"
      ]
     },
     "execution_count": 11,
     "metadata": {},
     "output_type": "execute_result"
    },
    {
     "data": {
      "image/png": "[encoded data removed]",
      "text/plain": [
       "<Figure size 432x288 with 1 Axes>"
      ]
     },
     "metadata": {
      "needs_background": "light"
     },
     "output_type": "display_data"
    }
   ],
   "source": [
    "sns.boxplot(x=\"Default\", y=\"Debt\", data=df)"
   ]
  },
  {
   "cell_type": "markdown",
   "metadata": {},
   "source": [
    "#### Investigating Credit Score"
   ]
  },
  {
   "cell_type": "code",
   "execution_count": 12,
   "metadata": {},
   "outputs": [
    {
     "data": {
      "text/plain": [
       "<AxesSubplot:xlabel='Default', ylabel='Score'>"
      ]
     },
     "execution_count": 12,
     "metadata": {},
     "output_type": "execute_result"
    },
    {
     "data": {
      "image/png": "[encoded data removed]",
      "text/plain": [
       "<Figure size 432x288 with 1 Axes>"
      ]
     },
     "metadata": {
      "needs_background": "light"
     },
     "output_type": "display_data"
    }
   ],
   "source": [
    "# Box plot of credit score\n",
    "sns.boxplot(x=\"Default\", y=\"Score\", data=df)"
   ]
  },
  {
   "cell_type": "markdown",
   "metadata": {},
   "source": [
    "Seems as though people with a higher credit score defaulted less"
   ]
  },
  {
   "cell_type": "markdown",
   "metadata": {},
   "source": [
    "##### Examing the rest of the variables"
   ]
  },
  {
   "cell_type": "code",
   "execution_count": 13,
   "metadata": {
    "tags": []
   },
   "outputs": [
    {
     "data": {
      "text/plain": [
       "<AxesSubplot:xlabel='Term'>"
      ]
     },
     "execution_count": 13,
     "metadata": {},
     "output_type": "execute_result"
    },
    {
     "data": {
      "image/png": "[encoded data removed]",
      "text/plain": [
       "<Figure size 432x288 with 1 Axes>"
      ]
     },
     "metadata": {
      "needs_background": "light"
     },
     "output_type": "display_data"
    }
   ],
   "source": [
    "# Stacked Bar chart of loan term and defaults\n",
    "# These bars do not represent total frequency, but the ratio of defaults in each category\n",
    "table=pd.crosstab(df.Term,df.Default)\n",
    "table.div(table.sum(1).astype(float), axis=0).plot(kind='bar', stacked=True)"
   ]
  },
  {
   "cell_type": "markdown",
   "metadata": {},
   "source": [
    "Very small proportion of long term loans were defaulted more than on short term. However most of our data is for short term"
   ]
  },
  {
   "cell_type": "markdown",
   "metadata": {},
   "source": [
    "Histograms for the continous variables"
   ]
  },
  {
   "cell_type": "code",
   "execution_count": 14,
   "metadata": {
    "scrolled": true
   },
   "outputs": [
    {
     "data": {
      "image/png": "[encoded data removed]",
      "text/plain": [
       "<Figure size 432x288 with 1 Axes>"
      ]
     },
     "metadata": {
      "needs_background": "light"
     },
     "output_type": "display_data"
    }
   ],
   "source": [
    "# Standard histogram\n",
    "sns.histplot(data=df, x=\"Income\");"
   ]
  },
  {
   "cell_type": "code",
   "execution_count": 15,
   "metadata": {},
   "outputs": [
    {
     "data": {
      "image/png": "[encoded data removed]",
      "text/plain": [
       "<Figure size 432x288 with 1 Axes>"
      ]
     },
     "metadata": {
      "needs_background": "light"
     },
     "output_type": "display_data"
    }
   ],
   "source": [
    "# We can also plot the target variable\n",
    "# This is plotting two distributions on the same chart\n",
    "# Notice how y axis has changed\n",
    "sns.histplot(data=df, x=\"Income\", hue = 'Default', multiple = \"stack\");"
   ]
  },
  {
   "cell_type": "code",
   "execution_count": 16,
   "metadata": {},
   "outputs": [
    {
     "data": {
      "text/plain": [
       "<AxesSubplot:xlabel='Balance', ylabel='Count'>"
      ]
     },
     "execution_count": 16,
     "metadata": {},
     "output_type": "execute_result"
    },
    {
     "data": {
      "image/png": "[encoded data removed]",
      "text/plain": [
       "<Figure size 432x288 with 1 Axes>"
      ]
     },
     "metadata": {
      "needs_background": "light"
     },
     "output_type": "display_data"
    }
   ],
   "source": [
    "# Balance with defaults\n",
    "sns.histplot(data=df, x=\"Balance\", hue = 'Default')"
   ]
  },
  {
   "cell_type": "code",
   "execution_count": 17,
   "metadata": {
    "scrolled": true
   },
   "outputs": [
    {
     "data": {
      "text/plain": [
       "<AxesSubplot:xlabel='Balance', ylabel='Count'>"
      ]
     },
     "execution_count": 17,
     "metadata": {},
     "output_type": "execute_result"
    },
    {
     "data": {
      "image/png": "[encoded data removed]",
      "text/plain": [
       "<Figure size 432x288 with 1 Axes>"
      ]
     },
     "metadata": {
      "needs_background": "light"
     },
     "output_type": "display_data"
    }
   ],
   "source": [
    "# Rather than overlap we can stack to see total frequency\n",
    "sns.histplot(data=df, x=\"Balance\", hue = 'Default', multiple = 'stack')"
   ]
  },
  {
   "cell_type": "code",
   "execution_count": 18,
   "metadata": {},
   "outputs": [
    {
     "data": {
      "text/plain": [
       "<AxesSubplot:xlabel='Debt', ylabel='Count'>"
      ]
     },
     "execution_count": 18,
     "metadata": {},
     "output_type": "execute_result"
    },
    {
     "data": {
      "image/png": "[encoded data removed]",
      "text/plain": [
       "<Figure size 432x288 with 1 Axes>"
      ]
     },
     "metadata": {
      "needs_background": "light"
     },
     "output_type": "display_data"
    }
   ],
   "source": [
    "# Debt\n",
    "sns.histplot(data=df, x=\"Debt\")"
   ]
  },
  {
   "cell_type": "code",
   "execution_count": 19,
   "metadata": {},
   "outputs": [
    {
     "data": {
      "text/plain": [
       "<AxesSubplot:xlabel='Debt', ylabel='Count'>"
      ]
     },
     "execution_count": 19,
     "metadata": {},
     "output_type": "execute_result"
    },
    {
     "data": {
      "image/png": "[encoded data removed]",
      "text/plain": [
       "<Figure size 432x288 with 1 Axes>"
      ]
     },
     "metadata": {
      "needs_background": "light"
     },
     "output_type": "display_data"
    }
   ],
   "source": [
    "# Debt with Default\n",
    "sns.histplot(data=df, x=\"Debt\", hue='Default')"
   ]
  },
  {
   "cell_type": "code",
   "execution_count": 20,
   "metadata": {},
   "outputs": [
    {
     "data": {
      "text/plain": [
       "<AxesSubplot:xlabel='Score', ylabel='Count'>"
      ]
     },
     "execution_count": 20,
     "metadata": {},
     "output_type": "execute_result"
    },
    {
     "data": {
      "image/png": "[encoded data removed]",
      "text/plain": [
       "<Figure size 432x288 with 1 Axes>"
      ]
     },
     "metadata": {
      "needs_background": "light"
     },
     "output_type": "display_data"
    }
   ],
   "source": [
    "# Score with Default\n",
    "sns.histplot(data=df, x=\"Score\", hue= 'Default', multiple ='stack', bins = 40)"
   ]
  },
  {
   "cell_type": "code",
   "execution_count": 21,
   "metadata": {},
   "outputs": [
    {
     "data": {
      "text/html": [
       "<style type=\"text/css\">\n",
       "#T_fc84b_row0_col0, #T_fc84b_row1_col1, #T_fc84b_row2_col2, #T_fc84b_row3_col3 {\n",
       "  background-color: #b40426;\n",
       "  color: #f1f1f1;\n",
       "}\n",
       "#T_fc84b_row0_col1 {\n",
       "  background-color: #bbd1f8;\n",
       "  color: #000000;\n",
       "}\n",
       "#T_fc84b_row0_col2 {\n",
       "  background-color: #c9d7f0;\n",
       "  color: #000000;\n",
       "}\n",
       "#T_fc84b_row0_col3 {\n",
       "  background-color: #f08a6c;\n",
       "  color: #f1f1f1;\n",
       "}\n",
       "#T_fc84b_row1_col0 {\n",
       "  background-color: #b9d0f9;\n",
       "  color: #000000;\n",
       "}\n",
       "#T_fc84b_row1_col2 {\n",
       "  background-color: #c6d6f1;\n",
       "  color: #000000;\n",
       "}\n",
       "#T_fc84b_row1_col3 {\n",
       "  background-color: #cfdaea;\n",
       "  color: #000000;\n",
       "}\n",
       "#T_fc84b_row2_col0, #T_fc84b_row2_col1, #T_fc84b_row2_col3, #T_fc84b_row3_col2 {\n",
       "  background-color: #3b4cc0;\n",
       "  color: #f1f1f1;\n",
       "}\n",
       "#T_fc84b_row3_col0 {\n",
       "  background-color: #f5c4ac;\n",
       "  color: #000000;\n",
       "}\n",
       "#T_fc84b_row3_col1 {\n",
       "  background-color: #4a63d3;\n",
       "  color: #f1f1f1;\n",
       "}\n",
       "</style>\n",
       "<table id=\"T_fc84b\">\n",
       "  <thead>\n",
       "    <tr>\n",
       "      <th class=\"blank level0\" >&nbsp;</th>\n",
       "      <th id=\"T_fc84b_level0_col0\" class=\"col_heading level0 col0\" >Income</th>\n",
       "      <th id=\"T_fc84b_level0_col1\" class=\"col_heading level0 col1\" >Balance</th>\n",
       "      <th id=\"T_fc84b_level0_col2\" class=\"col_heading level0 col2\" >Debt</th>\n",
       "      <th id=\"T_fc84b_level0_col3\" class=\"col_heading level0 col3\" >Score</th>\n",
       "    </tr>\n",
       "  </thead>\n",
       "  <tbody>\n",
       "    <tr>\n",
       "      <th id=\"T_fc84b_level0_row0\" class=\"row_heading level0 row0\" >Income</th>\n",
       "      <td id=\"T_fc84b_row0_col0\" class=\"data row0 col0\" >1.000000</td>\n",
       "      <td id=\"T_fc84b_row0_col1\" class=\"data row0 col1\" >0.625830</td>\n",
       "      <td id=\"T_fc84b_row0_col2\" class=\"data row0 col2\" >0.398331</td>\n",
       "      <td id=\"T_fc84b_row0_col3\" class=\"data row0 col3\" >0.775793</td>\n",
       "    </tr>\n",
       "    <tr>\n",
       "      <th id=\"T_fc84b_level0_row1\" class=\"row_heading level0 row1\" >Balance</th>\n",
       "      <td id=\"T_fc84b_row1_col0\" class=\"data row1 col0\" >0.625830</td>\n",
       "      <td id=\"T_fc84b_row1_col1\" class=\"data row1 col1\" >1.000000</td>\n",
       "      <td id=\"T_fc84b_row1_col2\" class=\"data row1 col2\" >0.391145</td>\n",
       "      <td id=\"T_fc84b_row1_col3\" class=\"data row1 col3\" >0.423201</td>\n",
       "    </tr>\n",
       "    <tr>\n",
       "      <th id=\"T_fc84b_level0_row2\" class=\"row_heading level0 row2\" >Debt</th>\n",
       "      <td id=\"T_fc84b_row2_col0\" class=\"data row2 col0\" >0.398331</td>\n",
       "      <td id=\"T_fc84b_row2_col1\" class=\"data row2 col1\" >0.391145</td>\n",
       "      <td id=\"T_fc84b_row2_col2\" class=\"data row2 col2\" >1.000000</td>\n",
       "      <td id=\"T_fc84b_row2_col3\" class=\"data row2 col3\" >-0.048554</td>\n",
       "    </tr>\n",
       "    <tr>\n",
       "      <th id=\"T_fc84b_level0_row3\" class=\"row_heading level0 row3\" >Score</th>\n",
       "      <td id=\"T_fc84b_row3_col0\" class=\"data row3 col0\" >0.775793</td>\n",
       "      <td id=\"T_fc84b_row3_col1\" class=\"data row3 col1\" >0.423201</td>\n",
       "      <td id=\"T_fc84b_row3_col2\" class=\"data row3 col2\" >-0.048554</td>\n",
       "      <td id=\"T_fc84b_row3_col3\" class=\"data row3 col3\" >1.000000</td>\n",
       "    </tr>\n",
       "  </tbody>\n",
       "</table>\n"
      ],
      "text/plain": [
       "<pandas.io.formats.style.Styler at 0x22e0c81fd00>"
      ]
     },
     "execution_count": 21,
     "metadata": {},
     "output_type": "execute_result"
    }
   ],
   "source": [
    "# Viewing the correlation matrix of all the numeric columns\n",
    "\n",
    "# Calling the correlation matrix on all numeric columns\n",
    "\n",
    "corr = df.iloc[:,:-1].corr()\n",
    "\n",
    "corr.style.background_gradient(cmap='coolwarm')"
   ]
  },
  {
   "cell_type": "markdown",
   "metadata": {},
   "source": [
    "#### Is the moderately high correlation coefficient between 'score' and 'income' relevant?\n",
    "What should we consider?"
   ]
  },
  {
   "cell_type": "code",
   "execution_count": 22,
   "metadata": {},
   "outputs": [
    {
     "data": {
      "image/png": "[encoded data removed]",
      "text/plain": [
       "<Figure size 720x720 with 16 Axes>"
      ]
     },
     "metadata": {
      "needs_background": "light"
     },
     "output_type": "display_data"
    }
   ],
   "source": [
    "pd.plotting.scatter_matrix(df.iloc[:,:-1], alpha=0.2,figsize =(10,10));"
   ]
  },
  {
   "cell_type": "markdown",
   "metadata": {},
   "source": [
    "We will progress right now including all features and address the issue of multicolinearty after we have built our first model to use as a compararison."
   ]
  },
  {
   "cell_type": "markdown",
   "metadata": {
    "slideshow": {
     "slide_type": "slide"
    }
   },
   "source": [
    "### Data Preparation\n",
    "#### Cleaning"
   ]
  },
  {
   "cell_type": "code",
   "execution_count": 23,
   "metadata": {
    "slideshow": {
     "slide_type": "subslide"
    }
   },
   "outputs": [
    {
     "data": {
      "text/plain": [
       "Income      0\n",
       "Term        0\n",
       "Balance     0\n",
       "Debt        0\n",
       "Score      20\n",
       "Default     0\n",
       "dtype: int64"
      ]
     },
     "execution_count": 23,
     "metadata": {},
     "output_type": "execute_result"
    }
   ],
   "source": [
    "# Identify our null values\n",
    "df.isna().sum()"
   ]
  },
  {
   "cell_type": "code",
   "execution_count": 24,
   "metadata": {
    "scrolled": true,
    "slideshow": {
     "slide_type": "subslide"
    }
   },
   "outputs": [
    {
     "data": {
      "text/html": [
       "<div>\n",
       "<style scoped>\n",
       "    .dataframe tbody tr th:only-of-type {\n",
       "        vertical-align: middle;\n",
       "    }\n",
       "\n",
       "    .dataframe tbody tr th {\n",
       "        vertical-align: top;\n",
       "    }\n",
       "\n",
       "    .dataframe thead th {\n",
       "        text-align: right;\n",
       "    }\n",
       "</style>\n",
       "<table border=\"1\" class=\"dataframe\">\n",
       "  <thead>\n",
       "    <tr style=\"text-align: right;\">\n",
       "      <th></th>\n",
       "      <th>Income</th>\n",
       "      <th>Balance</th>\n",
       "      <th>Debt</th>\n",
       "      <th>Score</th>\n",
       "    </tr>\n",
       "  </thead>\n",
       "  <tbody>\n",
       "    <tr>\n",
       "      <th>count</th>\n",
       "      <td>836.0</td>\n",
       "      <td>836.0</td>\n",
       "      <td>836.0</td>\n",
       "      <td>836.0</td>\n",
       "    </tr>\n",
       "    <tr>\n",
       "      <th>mean</th>\n",
       "      <td>29907.0</td>\n",
       "      <td>1219.0</td>\n",
       "      <td>648.0</td>\n",
       "      <td>451.0</td>\n",
       "    </tr>\n",
       "    <tr>\n",
       "      <th>std</th>\n",
       "      <td>14021.0</td>\n",
       "      <td>593.0</td>\n",
       "      <td>1154.0</td>\n",
       "      <td>269.0</td>\n",
       "    </tr>\n",
       "    <tr>\n",
       "      <th>min</th>\n",
       "      <td>11800.0</td>\n",
       "      <td>140.0</td>\n",
       "      <td>0.0</td>\n",
       "      <td>0.0</td>\n",
       "    </tr>\n",
       "    <tr>\n",
       "      <th>25%</th>\n",
       "      <td>19775.0</td>\n",
       "      <td>910.0</td>\n",
       "      <td>0.0</td>\n",
       "      <td>243.0</td>\n",
       "    </tr>\n",
       "    <tr>\n",
       "      <th>50%</th>\n",
       "      <td>22900.0</td>\n",
       "      <td>1120.0</td>\n",
       "      <td>71.0</td>\n",
       "      <td>376.0</td>\n",
       "    </tr>\n",
       "    <tr>\n",
       "      <th>75%</th>\n",
       "      <td>39025.0</td>\n",
       "      <td>1380.0</td>\n",
       "      <td>966.0</td>\n",
       "      <td>647.0</td>\n",
       "    </tr>\n",
       "    <tr>\n",
       "      <th>max</th>\n",
       "      <td>86000.0</td>\n",
       "      <td>6020.0</td>\n",
       "      <td>12891.0</td>\n",
       "      <td>1000.0</td>\n",
       "    </tr>\n",
       "  </tbody>\n",
       "</table>\n",
       "</div>"
      ],
      "text/plain": [
       "        Income  Balance     Debt   Score\n",
       "count    836.0    836.0    836.0   836.0\n",
       "mean   29907.0   1219.0    648.0   451.0\n",
       "std    14021.0    593.0   1154.0   269.0\n",
       "min    11800.0    140.0      0.0     0.0\n",
       "25%    19775.0    910.0      0.0   243.0\n",
       "50%    22900.0   1120.0     71.0   376.0\n",
       "75%    39025.0   1380.0    966.0   647.0\n",
       "max    86000.0   6020.0  12891.0  1000.0"
      ]
     },
     "execution_count": 24,
     "metadata": {},
     "output_type": "execute_result"
    }
   ],
   "source": [
    "# Dropping the 20 rows with Nan values\n",
    "df.dropna(inplace = True)\n",
    "df.describe().round()"
   ]
  },
  {
   "cell_type": "code",
   "execution_count": 25,
   "metadata": {},
   "outputs": [
    {
     "data": {
      "text/plain": [
       "False    750\n",
       "True      86\n",
       "Name: Default, dtype: int64"
      ]
     },
     "execution_count": 25,
     "metadata": {},
     "output_type": "execute_result"
    }
   ],
   "source": [
    "# Examing out target class again after dropping the rows\n",
    "df.Default.value_counts()"
   ]
  },
  {
   "cell_type": "markdown",
   "metadata": {},
   "source": [
    "We only lost two from the minorty class, not so bad"
   ]
  },
  {
   "cell_type": "markdown",
   "metadata": {
    "slideshow": {
     "slide_type": "subslide"
    }
   },
   "source": [
    "# Encoding"
   ]
  },
  {
   "cell_type": "markdown",
   "metadata": {},
   "source": [
    "We have both a categorical feature and and target variable.\n",
    "\n",
    "In order to build a Logistic Regression Model, or any Machine Learning model, we need to convert these categories into numbers.\n",
    "\n",
    "\n",
    "Dealing with the target 'Defaults' is straight forward, this is True or False, so we can simply assign it to be 0 or 1.\n",
    "\n",
    "\n",
    "To do this we will be using SciKit-Learns Label Encoder."
   ]
  },
  {
   "cell_type": "markdown",
   "metadata": {},
   "source": [
    "`.fit` -> Figure out how to do something. e.g. calculate $\\mu$ & $\\sigma$ for normalising, figure out how to map True/False to a number 1/0 \n",
    "\n",
    "`.transform` -> apply the function to the data\n",
    "\n",
    "`.fit_transform` -> Do all at once"
   ]
  },
  {
   "cell_type": "code",
   "execution_count": 26,
   "metadata": {},
   "outputs": [],
   "source": [
    "# Calling the label encoder\n",
    "le = preprocessing.LabelEncoder()\n",
    "\n",
    "# Fitting it to the target columns\n",
    "le.fit(df['Default'])\n",
    "\n",
    "# Creating a new column which will hold the old labels for us to inspect\n",
    "# This column in unecessary and will be dropped\n",
    "# It is just for us to examine\n",
    "df['old_labels'] = df['Default']\n",
    "\n",
    "# Transforming the target column\n",
    "df['Default'] = le.transform(df.Default)"
   ]
  },
  {
   "cell_type": "code",
   "execution_count": 27,
   "metadata": {
    "scrolled": true
   },
   "outputs": [
    {
     "data": {
      "text/html": [
       "<div>\n",
       "<style scoped>\n",
       "    .dataframe tbody tr th:only-of-type {\n",
       "        vertical-align: middle;\n",
       "    }\n",
       "\n",
       "    .dataframe tbody tr th {\n",
       "        vertical-align: top;\n",
       "    }\n",
       "\n",
       "    .dataframe thead th {\n",
       "        text-align: right;\n",
       "    }\n",
       "</style>\n",
       "<table border=\"1\" class=\"dataframe\">\n",
       "  <thead>\n",
       "    <tr style=\"text-align: right;\">\n",
       "      <th></th>\n",
       "      <th>Income</th>\n",
       "      <th>Term</th>\n",
       "      <th>Balance</th>\n",
       "      <th>Debt</th>\n",
       "      <th>Score</th>\n",
       "      <th>Default</th>\n",
       "      <th>old_labels</th>\n",
       "    </tr>\n",
       "  </thead>\n",
       "  <tbody>\n",
       "    <tr>\n",
       "      <th>408</th>\n",
       "      <td>21600.0</td>\n",
       "      <td>Short Term</td>\n",
       "      <td>900.0</td>\n",
       "      <td>147.0</td>\n",
       "      <td>323.0</td>\n",
       "      <td>0</td>\n",
       "      <td>False</td>\n",
       "    </tr>\n",
       "    <tr>\n",
       "      <th>607</th>\n",
       "      <td>42900.0</td>\n",
       "      <td>Short Term</td>\n",
       "      <td>1030.0</td>\n",
       "      <td>0.0</td>\n",
       "      <td>988.0</td>\n",
       "      <td>0</td>\n",
       "      <td>False</td>\n",
       "    </tr>\n",
       "    <tr>\n",
       "      <th>90</th>\n",
       "      <td>17600.0</td>\n",
       "      <td>Long Term</td>\n",
       "      <td>1010.0</td>\n",
       "      <td>556.0</td>\n",
       "      <td>350.0</td>\n",
       "      <td>0</td>\n",
       "      <td>False</td>\n",
       "    </tr>\n",
       "    <tr>\n",
       "      <th>622</th>\n",
       "      <td>39500.0</td>\n",
       "      <td>Short Term</td>\n",
       "      <td>1210.0</td>\n",
       "      <td>778.0</td>\n",
       "      <td>826.0</td>\n",
       "      <td>0</td>\n",
       "      <td>False</td>\n",
       "    </tr>\n",
       "    <tr>\n",
       "      <th>122</th>\n",
       "      <td>19200.0</td>\n",
       "      <td>Long Term</td>\n",
       "      <td>1410.0</td>\n",
       "      <td>0.0</td>\n",
       "      <td>134.0</td>\n",
       "      <td>0</td>\n",
       "      <td>False</td>\n",
       "    </tr>\n",
       "    <tr>\n",
       "      <th>81</th>\n",
       "      <td>17900.0</td>\n",
       "      <td>Long Term</td>\n",
       "      <td>970.0</td>\n",
       "      <td>845.0</td>\n",
       "      <td>108.0</td>\n",
       "      <td>0</td>\n",
       "      <td>False</td>\n",
       "    </tr>\n",
       "    <tr>\n",
       "      <th>172</th>\n",
       "      <td>21700.0</td>\n",
       "      <td>Short Term</td>\n",
       "      <td>1080.0</td>\n",
       "      <td>297.0</td>\n",
       "      <td>473.0</td>\n",
       "      <td>0</td>\n",
       "      <td>False</td>\n",
       "    </tr>\n",
       "    <tr>\n",
       "      <th>107</th>\n",
       "      <td>24300.0</td>\n",
       "      <td>Short Term</td>\n",
       "      <td>850.0</td>\n",
       "      <td>0.0</td>\n",
       "      <td>254.0</td>\n",
       "      <td>0</td>\n",
       "      <td>False</td>\n",
       "    </tr>\n",
       "    <tr>\n",
       "      <th>346</th>\n",
       "      <td>21900.0</td>\n",
       "      <td>Short Term</td>\n",
       "      <td>750.0</td>\n",
       "      <td>0.0</td>\n",
       "      <td>335.0</td>\n",
       "      <td>0</td>\n",
       "      <td>False</td>\n",
       "    </tr>\n",
       "    <tr>\n",
       "      <th>367</th>\n",
       "      <td>17000.0</td>\n",
       "      <td>Short Term</td>\n",
       "      <td>760.0</td>\n",
       "      <td>1105.0</td>\n",
       "      <td>129.0</td>\n",
       "      <td>0</td>\n",
       "      <td>False</td>\n",
       "    </tr>\n",
       "  </tbody>\n",
       "</table>\n",
       "</div>"
      ],
      "text/plain": [
       "      Income        Term  Balance    Debt  Score  Default  old_labels\n",
       "408  21600.0  Short Term    900.0   147.0  323.0        0       False\n",
       "607  42900.0  Short Term   1030.0     0.0  988.0        0       False\n",
       "90   17600.0   Long Term   1010.0   556.0  350.0        0       False\n",
       "622  39500.0  Short Term   1210.0   778.0  826.0        0       False\n",
       "122  19200.0   Long Term   1410.0     0.0  134.0        0       False\n",
       "81   17900.0   Long Term    970.0   845.0  108.0        0       False\n",
       "172  21700.0  Short Term   1080.0   297.0  473.0        0       False\n",
       "107  24300.0  Short Term    850.0     0.0  254.0        0       False\n",
       "346  21900.0  Short Term    750.0     0.0  335.0        0       False\n",
       "367  17000.0  Short Term    760.0  1105.0  129.0        0       False"
      ]
     },
     "execution_count": 27,
     "metadata": {},
     "output_type": "execute_result"
    }
   ],
   "source": [
    "# We can examine the new column created alongside the old labels\n",
    "df.sample(10)"
   ]
  },
  {
   "cell_type": "markdown",
   "metadata": {},
   "source": [
    "We have assigned 0 for False and 1 for True"
   ]
  },
  {
   "cell_type": "markdown",
   "metadata": {},
   "source": [
    "Question,   any ideas why the assignment happened like this?  Why wasn't it the other way around?"
   ]
  },
  {
   "cell_type": "markdown",
   "metadata": {},
   "source": [
    "<details>\n",
    "    <summary style=\"color:green;font-weight:bold\">Answer... kind of</summary>\n",
    "    \n",
    "Generally it will assign labels from 0 onwards in the order that it encounters the categories in alphabetical order <br>\n",
    "F is before T, so it was assigned 0<br>\n",
    "However as the data type for this column is boolean, it may have used the default values for True and False.\n"
   ]
  },
  {
   "cell_type": "code",
   "execution_count": 28,
   "metadata": {},
   "outputs": [],
   "source": [
    "# We can drop the old labels column now\n",
    "df.drop('old_labels', axis=1, inplace=True);"
   ]
  },
  {
   "cell_type": "markdown",
   "metadata": {},
   "source": [
    "## Dealing with the categorical 'Term' column\n",
    "Encoding this variable is a little bit more difficult<br>\n",
    "There two ways to approach this, either encode as we did before, assigning a 0 or 1 to each class.\n",
    "\n",
    "In this case it would be a 0 for short term and a 1 for long term.\n",
    "\n",
    "\n",
    "We are able to use this approach becasue it feels natural that Long term should be \"bigger\" than short term.\n",
    "\n",
    "If we were dealing with another categorical variable with no inherent order such as Gender or Colour, that approach should not be taken.\n",
    "\n",
    "Or we can use One-Hot-Encoding.\n",
    "\n",
    "In which case the term column would become two columns, one for short term and one for long term.\n",
    "\n",
    "If a loan was short term, it would have a 1 in the short term column and a 0 in the long term column and vice versa.\n",
    "\n",
    "I will proceed with One-Hot-Encoding to demonstrate the method, but i will include both types of encoding and we can compare any differences in the model."
   ]
  },
  {
   "cell_type": "markdown",
   "metadata": {},
   "source": [
    "# Ordinal encoding"
   ]
  },
  {
   "cell_type": "code",
   "execution_count": 29,
   "metadata": {},
   "outputs": [],
   "source": [
    "# Importing the required method\n",
    "from sklearn.preprocessing import OrdinalEncoder\n",
    "\n",
    "# Calling the encoder and specifying the order to encode\n",
    "enc = OrdinalEncoder(categories = [['Short Term', 'Long Term']])\n",
    "\n",
    "# Fitting it to a created column for the data,'Term_ordinal'\n",
    "df['Term_ordinal'] = enc.fit_transform(df['Term'].values.reshape(-1, 1))\n",
    "\n"
   ]
  },
  {
   "cell_type": "code",
   "execution_count": 30,
   "metadata": {},
   "outputs": [
    {
     "data": {
      "text/html": [
       "<div>\n",
       "<style scoped>\n",
       "    .dataframe tbody tr th:only-of-type {\n",
       "        vertical-align: middle;\n",
       "    }\n",
       "\n",
       "    .dataframe tbody tr th {\n",
       "        vertical-align: top;\n",
       "    }\n",
       "\n",
       "    .dataframe thead th {\n",
       "        text-align: right;\n",
       "    }\n",
       "</style>\n",
       "<table border=\"1\" class=\"dataframe\">\n",
       "  <thead>\n",
       "    <tr style=\"text-align: right;\">\n",
       "      <th></th>\n",
       "      <th>Income</th>\n",
       "      <th>Term</th>\n",
       "      <th>Balance</th>\n",
       "      <th>Debt</th>\n",
       "      <th>Score</th>\n",
       "      <th>Default</th>\n",
       "      <th>Term_ordinal</th>\n",
       "    </tr>\n",
       "  </thead>\n",
       "  <tbody>\n",
       "    <tr>\n",
       "      <th>0</th>\n",
       "      <td>17500.0</td>\n",
       "      <td>Short Term</td>\n",
       "      <td>1460.0</td>\n",
       "      <td>272.0</td>\n",
       "      <td>225.0</td>\n",
       "      <td>0</td>\n",
       "      <td>0.0</td>\n",
       "    </tr>\n",
       "    <tr>\n",
       "      <th>1</th>\n",
       "      <td>18500.0</td>\n",
       "      <td>Long Term</td>\n",
       "      <td>890.0</td>\n",
       "      <td>970.0</td>\n",
       "      <td>187.0</td>\n",
       "      <td>0</td>\n",
       "      <td>1.0</td>\n",
       "    </tr>\n",
       "    <tr>\n",
       "      <th>2</th>\n",
       "      <td>20700.0</td>\n",
       "      <td>Short Term</td>\n",
       "      <td>880.0</td>\n",
       "      <td>884.0</td>\n",
       "      <td>85.0</td>\n",
       "      <td>0</td>\n",
       "      <td>0.0</td>\n",
       "    </tr>\n",
       "    <tr>\n",
       "      <th>4</th>\n",
       "      <td>24300.0</td>\n",
       "      <td>Short Term</td>\n",
       "      <td>1260.0</td>\n",
       "      <td>0.0</td>\n",
       "      <td>495.0</td>\n",
       "      <td>0</td>\n",
       "      <td>0.0</td>\n",
       "    </tr>\n",
       "    <tr>\n",
       "      <th>5</th>\n",
       "      <td>22900.0</td>\n",
       "      <td>Long Term</td>\n",
       "      <td>1540.0</td>\n",
       "      <td>1229.0</td>\n",
       "      <td>383.0</td>\n",
       "      <td>0</td>\n",
       "      <td>1.0</td>\n",
       "    </tr>\n",
       "  </tbody>\n",
       "</table>\n",
       "</div>"
      ],
      "text/plain": [
       "    Income        Term  Balance    Debt  Score  Default  Term_ordinal\n",
       "0  17500.0  Short Term   1460.0   272.0  225.0        0           0.0\n",
       "1  18500.0   Long Term    890.0   970.0  187.0        0           1.0\n",
       "2  20700.0  Short Term    880.0   884.0   85.0        0           0.0\n",
       "4  24300.0  Short Term   1260.0     0.0  495.0        0           0.0\n",
       "5  22900.0   Long Term   1540.0  1229.0  383.0        0           1.0"
      ]
     },
     "execution_count": 30,
     "metadata": {},
     "output_type": "execute_result"
    }
   ],
   "source": [
    "df.head()"
   ]
  },
  {
   "cell_type": "markdown",
   "metadata": {},
   "source": [
    "### get_dummies() in Pandas to One-Hot-Encode\n",
    "\n",
    " - We could call a OneHotEncoder from sci kit learn as we have done with other enocders before.\n",
    " - But Pandas also has some methods that we can utilise"
   ]
  },
  {
   "cell_type": "markdown",
   "metadata": {},
   "source": [
    "nominal data -> OneHotEncode, \n",
    "ordinal Data -> OrdinalEnocder, encode on a scale 1,2,3,4 etc."
   ]
  },
  {
   "cell_type": "code",
   "execution_count": 31,
   "metadata": {},
   "outputs": [],
   "source": [
    "# Applying the get dummies method on the Term column\n",
    "df = pd.get_dummies(df, columns=['Term'])"
   ]
  },
  {
   "cell_type": "code",
   "execution_count": 32,
   "metadata": {},
   "outputs": [],
   "source": [
    "# Re-organisg the columns in the data frame for a nicer display\n",
    "df = df[['Income',\n",
    "         'Balance',\n",
    "         'Debt',\n",
    "         'Score',\n",
    "         'Term_Long Term',\n",
    "         'Term_Short Term',\n",
    "         'Term_ordinal',\n",
    "         'Default']]"
   ]
  },
  {
   "cell_type": "code",
   "execution_count": 33,
   "metadata": {
    "scrolled": true
   },
   "outputs": [
    {
     "data": {
      "text/html": [
       "<div>\n",
       "<style scoped>\n",
       "    .dataframe tbody tr th:only-of-type {\n",
       "        vertical-align: middle;\n",
       "    }\n",
       "\n",
       "    .dataframe tbody tr th {\n",
       "        vertical-align: top;\n",
       "    }\n",
       "\n",
       "    .dataframe thead th {\n",
       "        text-align: right;\n",
       "    }\n",
       "</style>\n",
       "<table border=\"1\" class=\"dataframe\">\n",
       "  <thead>\n",
       "    <tr style=\"text-align: right;\">\n",
       "      <th></th>\n",
       "      <th>Income</th>\n",
       "      <th>Balance</th>\n",
       "      <th>Debt</th>\n",
       "      <th>Score</th>\n",
       "      <th>Term_Long Term</th>\n",
       "      <th>Term_Short Term</th>\n",
       "      <th>Term_ordinal</th>\n",
       "      <th>Default</th>\n",
       "    </tr>\n",
       "  </thead>\n",
       "  <tbody>\n",
       "    <tr>\n",
       "      <th>0</th>\n",
       "      <td>17500.0</td>\n",
       "      <td>1460.0</td>\n",
       "      <td>272.0</td>\n",
       "      <td>225.0</td>\n",
       "      <td>0</td>\n",
       "      <td>1</td>\n",
       "      <td>0.0</td>\n",
       "      <td>0</td>\n",
       "    </tr>\n",
       "    <tr>\n",
       "      <th>1</th>\n",
       "      <td>18500.0</td>\n",
       "      <td>890.0</td>\n",
       "      <td>970.0</td>\n",
       "      <td>187.0</td>\n",
       "      <td>1</td>\n",
       "      <td>0</td>\n",
       "      <td>1.0</td>\n",
       "      <td>0</td>\n",
       "    </tr>\n",
       "    <tr>\n",
       "      <th>2</th>\n",
       "      <td>20700.0</td>\n",
       "      <td>880.0</td>\n",
       "      <td>884.0</td>\n",
       "      <td>85.0</td>\n",
       "      <td>0</td>\n",
       "      <td>1</td>\n",
       "      <td>0.0</td>\n",
       "      <td>0</td>\n",
       "    </tr>\n",
       "    <tr>\n",
       "      <th>4</th>\n",
       "      <td>24300.0</td>\n",
       "      <td>1260.0</td>\n",
       "      <td>0.0</td>\n",
       "      <td>495.0</td>\n",
       "      <td>0</td>\n",
       "      <td>1</td>\n",
       "      <td>0.0</td>\n",
       "      <td>0</td>\n",
       "    </tr>\n",
       "    <tr>\n",
       "      <th>5</th>\n",
       "      <td>22900.0</td>\n",
       "      <td>1540.0</td>\n",
       "      <td>1229.0</td>\n",
       "      <td>383.0</td>\n",
       "      <td>1</td>\n",
       "      <td>0</td>\n",
       "      <td>1.0</td>\n",
       "      <td>0</td>\n",
       "    </tr>\n",
       "  </tbody>\n",
       "</table>\n",
       "</div>"
      ],
      "text/plain": [
       "    Income  Balance    Debt  Score  Term_Long Term  Term_Short Term  \\\n",
       "0  17500.0   1460.0   272.0  225.0               0                1   \n",
       "1  18500.0    890.0   970.0  187.0               1                0   \n",
       "2  20700.0    880.0   884.0   85.0               0                1   \n",
       "4  24300.0   1260.0     0.0  495.0               0                1   \n",
       "5  22900.0   1540.0  1229.0  383.0               1                0   \n",
       "\n",
       "   Term_ordinal  Default  \n",
       "0           0.0        0  \n",
       "1           1.0        0  \n",
       "2           0.0        0  \n",
       "4           0.0        0  \n",
       "5           1.0        0  "
      ]
     },
     "execution_count": 33,
     "metadata": {},
     "output_type": "execute_result"
    }
   ],
   "source": [
    "df.head()"
   ]
  },
  {
   "cell_type": "markdown",
   "metadata": {
    "slideshow": {
     "slide_type": "subslide"
    }
   },
   "source": [
    "### Splitting Data"
   ]
  },
  {
   "cell_type": "code",
   "execution_count": 34,
   "metadata": {
    "slideshow": {
     "slide_type": "fragment"
    }
   },
   "outputs": [],
   "source": [
    "from sklearn.model_selection import train_test_split\n",
    "\n",
    "# we make our test set\n",
    "X_train, X_test, y_train, y_test = train_test_split(df[['Income',\n",
    "                                                        'Balance',\n",
    "                                                        'Debt',\n",
    "                                                        'Score',\n",
    "                                                        'Term_Long Term',\n",
    "                                                        'Term_Short Term',\n",
    "                                                        'Term_ordinal']], \n",
    "                                                    df['Default'], \n",
    "                                                    test_size=0.3, \n",
    "                                                    random_state=1)\n"
   ]
  },
  {
   "cell_type": "markdown",
   "metadata": {},
   "source": [
    "# Scaling the data\n",
    "\n",
    "- Scaling is also important with Logistic Regression\n",
    "- The boundary between the classes is set by distance, therefore having features on the same scale is desirable\n",
    "- We will apply the standard scaler again to all of the other numerical columns\n"
   ]
  },
  {
   "cell_type": "code",
   "execution_count": 35,
   "metadata": {},
   "outputs": [],
   "source": [
    "# Assigning the columns to scale to a variable\n",
    "cols_to_scale = ['Income','Balance','Debt','Score']"
   ]
  },
  {
   "cell_type": "code",
   "execution_count": 36,
   "metadata": {},
   "outputs": [
    {
     "data": {
      "text/html": [
       "<div>\n",
       "<style scoped>\n",
       "    .dataframe tbody tr th:only-of-type {\n",
       "        vertical-align: middle;\n",
       "    }\n",
       "\n",
       "    .dataframe tbody tr th {\n",
       "        vertical-align: top;\n",
       "    }\n",
       "\n",
       "    .dataframe thead th {\n",
       "        text-align: right;\n",
       "    }\n",
       "</style>\n",
       "<table border=\"1\" class=\"dataframe\">\n",
       "  <thead>\n",
       "    <tr style=\"text-align: right;\">\n",
       "      <th></th>\n",
       "      <th>Income</th>\n",
       "      <th>Balance</th>\n",
       "      <th>Debt</th>\n",
       "      <th>Score</th>\n",
       "      <th>Term_Long Term</th>\n",
       "      <th>Term_Short Term</th>\n",
       "      <th>Term_ordinal</th>\n",
       "    </tr>\n",
       "  </thead>\n",
       "  <tbody>\n",
       "    <tr>\n",
       "      <th>count</th>\n",
       "      <td>585.000000</td>\n",
       "      <td>585.000000</td>\n",
       "      <td>585.000000</td>\n",
       "      <td>585.000000</td>\n",
       "      <td>585.000000</td>\n",
       "      <td>585.000000</td>\n",
       "      <td>585.000000</td>\n",
       "    </tr>\n",
       "    <tr>\n",
       "      <th>mean</th>\n",
       "      <td>29899.829060</td>\n",
       "      <td>1216.717949</td>\n",
       "      <td>658.533333</td>\n",
       "      <td>443.507692</td>\n",
       "      <td>0.326496</td>\n",
       "      <td>0.673504</td>\n",
       "      <td>0.326496</td>\n",
       "    </tr>\n",
       "    <tr>\n",
       "      <th>std</th>\n",
       "      <td>14327.897516</td>\n",
       "      <td>601.623799</td>\n",
       "      <td>1193.769524</td>\n",
       "      <td>267.433170</td>\n",
       "      <td>0.469332</td>\n",
       "      <td>0.469332</td>\n",
       "      <td>0.469332</td>\n",
       "    </tr>\n",
       "    <tr>\n",
       "      <th>min</th>\n",
       "      <td>11800.000000</td>\n",
       "      <td>360.000000</td>\n",
       "      <td>0.000000</td>\n",
       "      <td>0.000000</td>\n",
       "      <td>0.000000</td>\n",
       "      <td>0.000000</td>\n",
       "      <td>0.000000</td>\n",
       "    </tr>\n",
       "    <tr>\n",
       "      <th>25%</th>\n",
       "      <td>19800.000000</td>\n",
       "      <td>900.000000</td>\n",
       "      <td>0.000000</td>\n",
       "      <td>240.000000</td>\n",
       "      <td>0.000000</td>\n",
       "      <td>0.000000</td>\n",
       "      <td>0.000000</td>\n",
       "    </tr>\n",
       "    <tr>\n",
       "      <th>50%</th>\n",
       "      <td>22800.000000</td>\n",
       "      <td>1120.000000</td>\n",
       "      <td>147.000000</td>\n",
       "      <td>372.000000</td>\n",
       "      <td>0.000000</td>\n",
       "      <td>1.000000</td>\n",
       "      <td>0.000000</td>\n",
       "    </tr>\n",
       "    <tr>\n",
       "      <th>75%</th>\n",
       "      <td>38700.000000</td>\n",
       "      <td>1360.000000</td>\n",
       "      <td>975.000000</td>\n",
       "      <td>640.000000</td>\n",
       "      <td>1.000000</td>\n",
       "      <td>1.000000</td>\n",
       "      <td>1.000000</td>\n",
       "    </tr>\n",
       "    <tr>\n",
       "      <th>max</th>\n",
       "      <td>86000.000000</td>\n",
       "      <td>5720.000000</td>\n",
       "      <td>12891.000000</td>\n",
       "      <td>1000.000000</td>\n",
       "      <td>1.000000</td>\n",
       "      <td>1.000000</td>\n",
       "      <td>1.000000</td>\n",
       "    </tr>\n",
       "  </tbody>\n",
       "</table>\n",
       "</div>"
      ],
      "text/plain": [
       "             Income      Balance          Debt        Score  Term_Long Term  \\\n",
       "count    585.000000   585.000000    585.000000   585.000000      585.000000   \n",
       "mean   29899.829060  1216.717949    658.533333   443.507692        0.326496   \n",
       "std    14327.897516   601.623799   1193.769524   267.433170        0.469332   \n",
       "min    11800.000000   360.000000      0.000000     0.000000        0.000000   \n",
       "25%    19800.000000   900.000000      0.000000   240.000000        0.000000   \n",
       "50%    22800.000000  1120.000000    147.000000   372.000000        0.000000   \n",
       "75%    38700.000000  1360.000000    975.000000   640.000000        1.000000   \n",
       "max    86000.000000  5720.000000  12891.000000  1000.000000        1.000000   \n",
       "\n",
       "       Term_Short Term  Term_ordinal  \n",
       "count       585.000000    585.000000  \n",
       "mean          0.673504      0.326496  \n",
       "std           0.469332      0.469332  \n",
       "min           0.000000      0.000000  \n",
       "25%           0.000000      0.000000  \n",
       "50%           1.000000      0.000000  \n",
       "75%           1.000000      1.000000  \n",
       "max           1.000000      1.000000  "
      ]
     },
     "execution_count": 36,
     "metadata": {},
     "output_type": "execute_result"
    }
   ],
   "source": [
    "# Viewing before re scaling\n",
    "X_train.describe()"
   ]
  },
  {
   "cell_type": "code",
   "execution_count": 37,
   "metadata": {},
   "outputs": [],
   "source": [
    "# importing the package\n",
    "from sklearn.preprocessing import StandardScaler\n",
    "\n",
    "# Calling the method twice, once for the features and once for the target\n",
    "scaler =  StandardScaler()\n",
    "\n",
    "# Fitting the scaler on the training features and applying it to both the training and test data\n",
    "# Note how the Scaler is only fit to the training set, but then applied to both\n",
    "X_train[cols_to_scale] = scaler.fit_transform(X_train[cols_to_scale])\n",
    "X_test[cols_to_scale] = scaler.transform(X_test[cols_to_scale])\n"
   ]
  },
  {
   "cell_type": "code",
   "execution_count": 38,
   "metadata": {},
   "outputs": [
    {
     "data": {
      "text/html": [
       "<div>\n",
       "<style scoped>\n",
       "    .dataframe tbody tr th:only-of-type {\n",
       "        vertical-align: middle;\n",
       "    }\n",
       "\n",
       "    .dataframe tbody tr th {\n",
       "        vertical-align: top;\n",
       "    }\n",
       "\n",
       "    .dataframe thead th {\n",
       "        text-align: right;\n",
       "    }\n",
       "</style>\n",
       "<table border=\"1\" class=\"dataframe\">\n",
       "  <thead>\n",
       "    <tr style=\"text-align: right;\">\n",
       "      <th></th>\n",
       "      <th>Income</th>\n",
       "      <th>Balance</th>\n",
       "      <th>Debt</th>\n",
       "      <th>Score</th>\n",
       "      <th>Term_Long Term</th>\n",
       "      <th>Term_Short Term</th>\n",
       "      <th>Term_ordinal</th>\n",
       "    </tr>\n",
       "  </thead>\n",
       "  <tbody>\n",
       "    <tr>\n",
       "      <th>count</th>\n",
       "      <td>585.000</td>\n",
       "      <td>585.000</td>\n",
       "      <td>585.000</td>\n",
       "      <td>585.000</td>\n",
       "      <td>585.000</td>\n",
       "      <td>585.000</td>\n",
       "      <td>585.000</td>\n",
       "    </tr>\n",
       "    <tr>\n",
       "      <th>mean</th>\n",
       "      <td>0.000</td>\n",
       "      <td>-0.000</td>\n",
       "      <td>0.000</td>\n",
       "      <td>-0.000</td>\n",
       "      <td>0.326</td>\n",
       "      <td>0.674</td>\n",
       "      <td>0.326</td>\n",
       "    </tr>\n",
       "    <tr>\n",
       "      <th>std</th>\n",
       "      <td>1.001</td>\n",
       "      <td>1.001</td>\n",
       "      <td>1.001</td>\n",
       "      <td>1.001</td>\n",
       "      <td>0.469</td>\n",
       "      <td>0.469</td>\n",
       "      <td>0.469</td>\n",
       "    </tr>\n",
       "    <tr>\n",
       "      <th>min</th>\n",
       "      <td>-1.264</td>\n",
       "      <td>-1.425</td>\n",
       "      <td>-0.552</td>\n",
       "      <td>-1.660</td>\n",
       "      <td>0.000</td>\n",
       "      <td>0.000</td>\n",
       "      <td>0.000</td>\n",
       "    </tr>\n",
       "    <tr>\n",
       "      <th>25%</th>\n",
       "      <td>-0.706</td>\n",
       "      <td>-0.527</td>\n",
       "      <td>-0.552</td>\n",
       "      <td>-0.762</td>\n",
       "      <td>0.000</td>\n",
       "      <td>0.000</td>\n",
       "      <td>0.000</td>\n",
       "    </tr>\n",
       "    <tr>\n",
       "      <th>50%</th>\n",
       "      <td>-0.496</td>\n",
       "      <td>-0.161</td>\n",
       "      <td>-0.429</td>\n",
       "      <td>-0.268</td>\n",
       "      <td>0.000</td>\n",
       "      <td>1.000</td>\n",
       "      <td>0.000</td>\n",
       "    </tr>\n",
       "    <tr>\n",
       "      <th>75%</th>\n",
       "      <td>0.615</td>\n",
       "      <td>0.238</td>\n",
       "      <td>0.265</td>\n",
       "      <td>0.735</td>\n",
       "      <td>1.000</td>\n",
       "      <td>1.000</td>\n",
       "      <td>1.000</td>\n",
       "    </tr>\n",
       "    <tr>\n",
       "      <th>max</th>\n",
       "      <td>3.919</td>\n",
       "      <td>7.492</td>\n",
       "      <td>10.256</td>\n",
       "      <td>2.083</td>\n",
       "      <td>1.000</td>\n",
       "      <td>1.000</td>\n",
       "      <td>1.000</td>\n",
       "    </tr>\n",
       "  </tbody>\n",
       "</table>\n",
       "</div>"
      ],
      "text/plain": [
       "        Income  Balance     Debt    Score  Term_Long Term  Term_Short Term  \\\n",
       "count  585.000  585.000  585.000  585.000         585.000          585.000   \n",
       "mean     0.000   -0.000    0.000   -0.000           0.326            0.674   \n",
       "std      1.001    1.001    1.001    1.001           0.469            0.469   \n",
       "min     -1.264   -1.425   -0.552   -1.660           0.000            0.000   \n",
       "25%     -0.706   -0.527   -0.552   -0.762           0.000            0.000   \n",
       "50%     -0.496   -0.161   -0.429   -0.268           0.000            1.000   \n",
       "75%      0.615    0.238    0.265    0.735           1.000            1.000   \n",
       "max      3.919    7.492   10.256    2.083           1.000            1.000   \n",
       "\n",
       "       Term_ordinal  \n",
       "count       585.000  \n",
       "mean          0.326  \n",
       "std           0.469  \n",
       "min           0.000  \n",
       "25%           0.000  \n",
       "50%           0.000  \n",
       "75%           1.000  \n",
       "max           1.000  "
      ]
     },
     "execution_count": 38,
     "metadata": {},
     "output_type": "execute_result"
    }
   ],
   "source": [
    "# viewing after scaling\n",
    "X_train.describe().round(3)"
   ]
  },
  {
   "cell_type": "markdown",
   "metadata": {
    "slideshow": {
     "slide_type": "slide"
    }
   },
   "source": [
    "### Modelling\n",
    "* logistic regression = learning a simple boundary in the data \n",
    "* classifier \n",
    "* \"fit\" means \"learn\" \n",
    "* once learnt the model may be reused\n",
    "\n",
    "\n",
    "\n"
   ]
  },
  {
   "cell_type": "code",
   "execution_count": 39,
   "metadata": {},
   "outputs": [
    {
     "data": {
      "text/plain": [
       "Index(['Income', 'Balance', 'Debt', 'Score', 'Term_Long Term',\n",
       "       'Term_Short Term', 'Term_ordinal'],\n",
       "      dtype='object')"
      ]
     },
     "execution_count": 39,
     "metadata": {},
     "output_type": "execute_result"
    }
   ],
   "source": [
    "X_train.columns"
   ]
  },
  {
   "cell_type": "code",
   "execution_count": 40,
   "metadata": {},
   "outputs": [],
   "source": [
    "# Defining which columns we will use as inputs to our model\n",
    "cols = ['Income', \n",
    "        'Balance', \n",
    "        'Debt', \n",
    "        'Score', \n",
    "        'Term_Long Term',\n",
    "        'Term_Short Term']"
   ]
  },
  {
   "cell_type": "code",
   "execution_count": 41,
   "metadata": {
    "scrolled": true,
    "slideshow": {
     "slide_type": "fragment"
    }
   },
   "outputs": [
    {
     "data": {
      "text/html": [
       "<style>#sk-container-id-1 {color: black;background-color: white;}#sk-container-id-1 pre{padding: 0;}#sk-container-id-1 div.sk-toggleable {background-color: white;}#sk-container-id-1 label.sk-toggleable__label {cursor: pointer;display: block;width: 100%;margin-bottom: 0;padding: 0.3em;box-sizing: border-box;text-align: center;}#sk-container-id-1 label.sk-toggleable__label-arrow:before {content: \"▸\";float: left;margin-right: 0.25em;color: #696969;}#sk-container-id-1 label.sk-toggleable__label-arrow:hover:before {color: black;}#sk-container-id-1 div.sk-estimator:hover label.sk-toggleable__label-arrow:before {color: black;}#sk-container-id-1 div.sk-toggleable__content {max-height: 0;max-width: 0;overflow: hidden;text-align: left;background-color: #f0f8ff;}#sk-container-id-1 div.sk-toggleable__content pre {margin: 0.2em;color: black;border-radius: 0.25em;background-color: #f0f8ff;}#sk-container-id-1 input.sk-toggleable__control:checked~div.sk-toggleable__content {max-height: 200px;max-width: 100%;overflow: auto;}#sk-container-id-1 input.sk-toggleable__control:checked~label.sk-toggleable__label-arrow:before {content: \"▾\";}#sk-container-id-1 div.sk-estimator input.sk-toggleable__control:checked~label.sk-toggleable__label {background-color: #d4ebff;}#sk-container-id-1 div.sk-label input.sk-toggleable__control:checked~label.sk-toggleable__label {background-color: #d4ebff;}#sk-container-id-1 input.sk-hidden--visually {border: 0;clip: rect(1px 1px 1px 1px);clip: rect(1px, 1px, 1px, 1px);height: 1px;margin: -1px;overflow: hidden;padding: 0;position: absolute;width: 1px;}#sk-container-id-1 div.sk-estimator {font-family: monospace;background-color: #f0f8ff;border: 1px dotted black;border-radius: 0.25em;box-sizing: border-box;margin-bottom: 0.5em;}#sk-container-id-1 div.sk-estimator:hover {background-color: #d4ebff;}#sk-container-id-1 div.sk-parallel-item::after {content: \"\";width: 100%;border-bottom: 1px solid gray;flex-grow: 1;}#sk-container-id-1 div.sk-label:hover label.sk-toggleable__label {background-color: #d4ebff;}#sk-container-id-1 div.sk-serial::before {content: \"\";position: absolute;border-left: 1px solid gray;box-sizing: border-box;top: 0;bottom: 0;left: 50%;z-index: 0;}#sk-container-id-1 div.sk-serial {display: flex;flex-direction: column;align-items: center;background-color: white;padding-right: 0.2em;padding-left: 0.2em;position: relative;}#sk-container-id-1 div.sk-item {position: relative;z-index: 1;}#sk-container-id-1 div.sk-parallel {display: flex;align-items: stretch;justify-content: center;background-color: white;position: relative;}#sk-container-id-1 div.sk-item::before, #sk-container-id-1 div.sk-parallel-item::before {content: \"\";position: absolute;border-left: 1px solid gray;box-sizing: border-box;top: 0;bottom: 0;left: 50%;z-index: -1;}#sk-container-id-1 div.sk-parallel-item {display: flex;flex-direction: column;z-index: 1;position: relative;background-color: white;}#sk-container-id-1 div.sk-parallel-item:first-child::after {align-self: flex-end;width: 50%;}#sk-container-id-1 div.sk-parallel-item:last-child::after {align-self: flex-start;width: 50%;}#sk-container-id-1 div.sk-parallel-item:only-child::after {width: 0;}#sk-container-id-1 div.sk-dashed-wrapped {border: 1px dashed gray;margin: 0 0.4em 0.5em 0.4em;box-sizing: border-box;padding-bottom: 0.4em;background-color: white;}#sk-container-id-1 div.sk-label label {font-family: monospace;font-weight: bold;display: inline-block;line-height: 1.2em;}#sk-container-id-1 div.sk-label-container {text-align: center;}#sk-container-id-1 div.sk-container {/* jupyter's `normalize.less` sets `[hidden] { display: none; }` but bootstrap.min.css set `[hidden] { display: none !important; }` so we also need the `!important` here to be able to override the default hidden behavior on the sphinx rendered scikit-learn.org. See: https://github.com/scikit-learn/scikit-learn/issues/21755 */display: inline-block !important;position: relative;}#sk-container-id-1 div.sk-text-repr-fallback {display: none;}</style><div id=\"sk-container-id-1\" class=\"sk-top-container\"><div class=\"sk-text-repr-fallback\"><pre>LogisticRegression(max_iter=1000, penalty=&#x27;none&#x27;)</pre><b>In a Jupyter environment, please rerun this cell to show the HTML representation or trust the notebook. <br />On GitHub, the HTML representation is unable to render, please try loading this page with nbviewer.org.</b></div><div class=\"sk-container\" hidden><div class=\"sk-item\"><div class=\"sk-estimator sk-toggleable\"><input class=\"sk-toggleable__control sk-hidden--visually\" id=\"sk-estimator-id-1\" type=\"checkbox\" checked><label for=\"sk-estimator-id-1\" class=\"sk-toggleable__label sk-toggleable__label-arrow\">LogisticRegression</label><div class=\"sk-toggleable__content\"><pre>LogisticRegression(max_iter=1000, penalty=&#x27;none&#x27;)</pre></div></div></div></div></div>"
      ],
      "text/plain": [
       "LogisticRegression(max_iter=1000, penalty='none')"
      ]
     },
     "execution_count": 41,
     "metadata": {},
     "output_type": "execute_result"
    }
   ],
   "source": [
    "lr = lm.LogisticRegression(penalty='none',\n",
    "                            solver='lbfgs',\n",
    "                            max_iter=1000\n",
    "                           )\n",
    "\n",
    "lr.fit(X_train[cols], y_train)"
   ]
  },
  {
   "cell_type": "markdown",
   "metadata": {
    "slideshow": {
     "slide_type": "fragment"
    }
   },
   "source": [
    "Types of solvers for logistic regression<br>\n",
    "When choosing be sure to research how they work and if there are assumptions you would need to address\n",
    "\n",
    "* newton-cg — It's slow for large datasets\n",
    "* lbfgs — Stands for Limited-memory Broyden–Fletcher–Goldfarb–Shanno. \n",
    "it saves memory. It isn't super fast with large data sets. It is the default solver as of Scikit-learn version 0.22.0.\n",
    "* liblinear — Library for Large Linear Classification.  It is the default solver prior to v0.22.0. It performs pretty well with high dimensionality. It does have a number of drawbacks. It can get stuck, is unable to run in parallel, and can only solve multi-class logistic regression with one-vs.-rest.\n",
    "* sag — Stochastic Average Gradient descent.  Fast for big datasets.\n",
    "* saga — Extension of sag that also allows for L1 regularization. Should generally train faster than sag."
   ]
  },
  {
   "cell_type": "markdown",
   "metadata": {
    "slideshow": {
     "slide_type": "subslide"
    }
   },
   "source": [
    "### Make Predictions"
   ]
  },
  {
   "cell_type": "code",
   "execution_count": 42,
   "metadata": {},
   "outputs": [
    {
     "data": {
      "text/plain": [
       "Income             2.710333\n",
       "Balance            6.876090\n",
       "Debt               4.811128\n",
       "Score              1.480111\n",
       "Term_Long Term     0.000000\n",
       "Term_Short Term    1.000000\n",
       "Name: 793, dtype: float64"
      ]
     },
     "execution_count": 42,
     "metadata": {},
     "output_type": "execute_result"
    }
   ],
   "source": [
    "# Examining one row from the training data and how it was classified\n",
    "sample = X_train.iloc[10,:-1]\n",
    "sample"
   ]
  },
  {
   "cell_type": "code",
   "execution_count": 43,
   "metadata": {},
   "outputs": [
    {
     "data": {
      "text/plain": [
       "array([2.71033318, 6.87608986, 4.81112771, 1.48011097, 0.        ,\n",
       "       1.        ])"
      ]
     },
     "execution_count": 43,
     "metadata": {},
     "output_type": "execute_result"
    }
   ],
   "source": [
    "sample.values"
   ]
  },
  {
   "cell_type": "code",
   "execution_count": 44,
   "metadata": {
    "tags": []
   },
   "outputs": [
    {
     "name": "stderr",
     "output_type": "stream",
     "text": [
      "C:\\Users\\Thomas Holmes\\.conda\\envs\\ppds\\lib\\site-packages\\sklearn\\base.py:450: UserWarning: X does not have valid feature names, but LogisticRegression was fitted with feature names\n",
      "  warnings.warn(\n"
     ]
    },
    {
     "data": {
      "text/plain": [
       "array([[0.95830358, 0.04169642]])"
      ]
     },
     "execution_count": 44,
     "metadata": {},
     "output_type": "execute_result"
    }
   ],
   "source": [
    "# Predicting a class from a single row of data\n",
    "# The output is the probability of belonging to either class\n",
    "lr.predict_proba(sample.values.reshape(1,-1))"
   ]
  },
  {
   "cell_type": "markdown",
   "metadata": {},
   "source": [
    "The model has predicted that the data point has a 68% chance of belonging to class 0 (settles), and a 32% chance of belonging to class 1 (defaults)."
   ]
  },
  {
   "cell_type": "code",
   "execution_count": 45,
   "metadata": {
    "slideshow": {
     "slide_type": "fragment"
    },
    "tags": []
   },
   "outputs": [
    {
     "name": "stdout",
     "output_type": "stream",
     "text": [
      "[0]\n"
     ]
    },
    {
     "name": "stderr",
     "output_type": "stream",
     "text": [
      "C:\\Users\\Thomas Holmes\\.conda\\envs\\ppds\\lib\\site-packages\\sklearn\\base.py:450: UserWarning: X does not have valid feature names, but LogisticRegression was fitted with feature names\n",
      "  warnings.warn(\n"
     ]
    }
   ],
   "source": [
    "# We can call for it to predict a class\n",
    "# This will be the class with the largest probabilty of that data point belonging to it\n",
    "prediction = lr.predict(sample.values.reshape(1,-1))\n",
    "print(prediction)"
   ]
  },
  {
   "cell_type": "code",
   "execution_count": 46,
   "metadata": {},
   "outputs": [
    {
     "name": "stdout",
     "output_type": "stream",
     "text": [
      "Accuracy of the model: 90.0398%\n"
     ]
    }
   ],
   "source": [
    "# Let's compare all our predictions against all of the target variables\n",
    "from sklearn import metrics \n",
    "\n",
    "y_pred = lr.predict(X_test[cols])\n",
    " \n",
    "\n",
    "print(f\"Accuracy of the model: {metrics.accuracy_score(y_test, y_pred) * 100:.4f}%\")"
   ]
  },
  {
   "cell_type": "markdown",
   "metadata": {},
   "source": [
    "## $Accuracy = 100 \\times\\frac{\\#~~corrrect~~guesses}{\\#~~of~~guesses} = 100 \\times\\frac{TP + TN}{TP + FP + TN + FN}$"
   ]
  },
  {
   "cell_type": "code",
   "execution_count": 47,
   "metadata": {},
   "outputs": [
    {
     "data": {
      "text/plain": [
       "89.71291866028707"
      ]
     },
     "execution_count": 47,
     "metadata": {},
     "output_type": "execute_result"
    }
   ],
   "source": [
    "(df[df[\"Default\"]==0].shape[0] / df.shape[0]) * 100"
   ]
  },
  {
   "cell_type": "markdown",
   "metadata": {},
   "source": [
    "Decide that one outcome (e.g. Defaulting) is the \"positive oucome\", the other is the \"negative\".\n",
    "\n",
    "* True == correct guess\n",
    "* False == incorrect guess\n",
    "\n",
    "True positive == We corectly guessed the positive outcome\n",
    "\n",
    "* True Positive  (TP)\n",
    "* False Positive (FP)\n",
    "* True Negative  (TN)\n",
    "* False Negative (FN)"
   ]
  },
  {
   "cell_type": "markdown",
   "metadata": {},
   "source": [
    "An accuracy of 90%, surely that is amazing?\n",
    "\n",
    "However, judging a model by its accuracy alone, especially when you have a target class imbalance, can lead to misconceptions about the power of the model.\n",
    "\n",
    "Think about it. If 90% of the data fell into one target class, and the model decided to simply predicted that class in all cases, it would be around 90% accurate.\n",
    "\n",
    "I think we can agree that that model isn't a good one, yet it appears to us as if it is.\n",
    "\n",
    "We must therefore investiagte model performance further, using a wider set of statistics."
   ]
  },
  {
   "cell_type": "markdown",
   "metadata": {
    "slideshow": {
     "slide_type": "subslide"
    }
   },
   "source": [
    "### Confusion Matrix\n",
    "![alt text](images/cmtpfp.png \"Confusion Matrix\")"
   ]
  },
  {
   "cell_type": "markdown",
   "metadata": {
    "slideshow": {
     "slide_type": "subslide"
    }
   },
   "source": [
    "### Accuracy\n",
    "\n",
    "- It is simply the ratio of correctly predicted observations.\n",
    "- Using accuracy is only good for symmetric data sets where the class distribution is 50/50 and the cost of false positives and false negatives are roughly the same.\n",
    "- Example: you are building a model which predicts whether a device is defective: \n",
    "- The class distribution is such that 6 in 1000 devices is truly defective (positive). \n",
    "- A model which simply returns “negative” – i.e. not defective – all the time gets it right 99.4% of the time and therefore has an accuracy of 0.994, when in fact it never correctly identifies a defective device!"
   ]
  },
  {
   "cell_type": "markdown",
   "metadata": {
    "slideshow": {
     "slide_type": "subslide"
    }
   },
   "source": [
    "### Precision\n",
    "- Precision looks at the ratio of correct positive observations.\n",
    "- The formula is True Positives / (True Positives + False Positives).\n",
    "- $Precision = \\frac{TP}{TP + FP}$\n",
    "- Of all the times you predicted the positive outcome, what percentage of the time were you corrrect\n",
    "- Note that the denominator is the count of all positive predictions, including positive observations of events which were in fact negative.\n",
    "- Example: you are building a model which predicts whether a device is defective. let's assume our model predicts 8 out of 1000 devices being faulty. If only 5 of those 8 are truly defective the precision is 5/8 = 0.625."
   ]
  },
  {
   "cell_type": "markdown",
   "metadata": {
    "slideshow": {
     "slide_type": "subslide"
    }
   },
   "source": [
    "### Recall\n",
    "\n",
    "- Recall is also known as sensitivity or true positive rate. It’s the ratio of correctly predicted positive events.\n",
    "- Recall is calculated as True Positives / (True Positives + False Negatives).\n",
    "- $Recall = \\frac{TP}{TP + FN}$\n",
    "- Of all the times you **should have** guessed the positive outcome, what percentage of the time did you\n",
    "- Note that the denominator is the count of all positive events, regardless whether they were correctly predicted by the model.\n",
    "- Using the same example as before, we already knew that 6 out of 1000 devices are truly defective. The model correctly predicted 5 of them. (It also predicted 3 incorrectly, but for the recall measure that’s not important). The recall therefore is 5/6 = 0.833."
   ]
  },
  {
   "cell_type": "markdown",
   "metadata": {
    "slideshow": {
     "slide_type": "subslide"
    }
   },
   "source": [
    "### Comparing Precision and Recall\n",
    "\n",
    "![alt text](images/precision_recall.png \"Putting it all together\")"
   ]
  },
  {
   "cell_type": "markdown",
   "metadata": {
    "slideshow": {
     "slide_type": "subslide"
    }
   },
   "source": [
    "### F1-score\n",
    "\n",
    "- The F1 Score is the weighted average of Precision and Recall. \n",
    "- Therefore, this score takes both false positives and false negatives into account. \n",
    "- Intuitively it is not as easy to understand as accuracy, but F1 is usually more useful than accuracy, especially if you have an uneven class distribution. \n",
    "- It works best if false positives and false negatives have similar cost. \n",
    "- If the cost of false positives and false negatives are very different, it’s better to look at both Precision and Recall.\n",
    "- The formula for F1 Score is 2*(Recall * Precision)/(Recall + Precision)"
   ]
  },
  {
   "cell_type": "markdown",
   "metadata": {
    "slideshow": {
     "slide_type": "subslide"
    }
   },
   "source": [
    "### Putting it all together\n",
    "\n",
    "![alt text](images/performance.png \"Putting it all together\")"
   ]
  },
  {
   "cell_type": "code",
   "execution_count": 48,
   "metadata": {
    "slideshow": {
     "slide_type": "subslide"
    }
   },
   "outputs": [
    {
     "name": "stdout",
     "output_type": "stream",
     "text": [
      "              precision    recall  f1-score   support\n",
      "\n",
      "     Settles       0.90      1.00      0.95       219\n",
      "    Defaults       0.89      0.25      0.39        32\n",
      "\n",
      "    accuracy                           0.90       251\n",
      "   macro avg       0.89      0.62      0.67       251\n",
      "weighted avg       0.90      0.90      0.87       251\n",
      "\n"
     ]
    }
   ],
   "source": [
    "from sklearn.metrics import classification_report\n",
    "\n",
    "default_guess_unseen = lr.predict(X_test[cols])\n",
    "default_known_unseen = y_test\n",
    "\n",
    "\n",
    "print(classification_report(default_known_unseen, \n",
    "                            default_guess_unseen,\n",
    "                            target_names=[\"Settles\", \"Defaults\"]))\n"
   ]
  },
  {
   "cell_type": "markdown",
   "metadata": {
    "slideshow": {
     "slide_type": "fragment"
    }
   },
   "source": [
    "* precision: of everything we labelled correctly, what % are defaults\n",
    "* recall: of everything labelled \"default\", what % are defaults"
   ]
  },
  {
   "cell_type": "markdown",
   "metadata": {
    "slideshow": {
     "slide_type": "subslide"
    }
   },
   "source": [
    "### Confusion Matrix\n",
    "\n",
    "![alt text](images/cm01.png \"Confusion Matrix\")"
   ]
  },
  {
   "cell_type": "code",
   "execution_count": 49,
   "metadata": {},
   "outputs": [
    {
     "data": {
      "image/png": "[encoded data removed]",
      "text/plain": [
       "<Figure size 432x288 with 2 Axes>"
      ]
     },
     "metadata": {
      "needs_background": "light"
     },
     "output_type": "display_data"
    }
   ],
   "source": [
    "from sklearn.metrics import confusion_matrix, ConfusionMatrixDisplay\n",
    "\n",
    "predictions = lr.predict(X_test[cols])\n",
    "\n",
    "cm = confusion_matrix(y_test, \n",
    "                      predictions)\n",
    "\n",
    "disp = ConfusionMatrixDisplay(confusion_matrix=cm,\n",
    "                              display_labels=('Settle','Default'))\n",
    "\n",
    "disp.plot();\n",
    "\n"
   ]
  },
  {
   "cell_type": "markdown",
   "metadata": {},
   "source": [
    "Conclusions on the models performance?"
   ]
  },
  {
   "cell_type": "code",
   "execution_count": null,
   "metadata": {},
   "outputs": [],
   "source": [
    "Conclusions on the models performance"
   ]
  },
  {
   "cell_type": "markdown",
   "metadata": {},
   "source": [
    "<details>\n",
    "    <summary style=\"color:green;font-weight:bold\">Summary</summary>\n",
    "    \n",
    "The precision for both classes in good. But this maskes the fact that although precision for the majority class is 90%, it is still misclassifying 75% of the defaults as settles.\n",
    "    \n",
    "In practice, this model would have some benefit at identifying some loans that have a high chance of being defaluted on, but it is still the minorty of such cases.\n",
    "    \n",
    "The main issue that we are dealing with is the fact the classes are so imbalanced.\n",
    "    \n"
   ]
  },
  {
   "cell_type": "code",
   "execution_count": null,
   "metadata": {},
   "outputs": [],
   "source": [
    "preds = np.where(lr.predict_proba(X_test[cols])[:,1] > 0.8, 1, 0)\n",
    "preds"
   ]
  },
  {
   "cell_type": "markdown",
   "metadata": {},
   "source": [
    "# Feature Selection"
   ]
  },
  {
   "cell_type": "markdown",
   "metadata": {},
   "source": [
    "It is important that we choose the best combination of features for our model.\n",
    "This part of the Machine Learning Process is crucial to developing the best possible models.\n",
    "Also, if we can create a simpler model, with less features but a comparable accuracy, this may be the best option to move forward with also."
   ]
  },
  {
   "cell_type": "markdown",
   "metadata": {},
   "source": [
    "We will experiment with the features and observe the changes that result from our choices.\n",
    "\n",
    "As we saw before we did have some issues with multicolinearity"
   ]
  },
  {
   "cell_type": "code",
   "execution_count": 50,
   "metadata": {},
   "outputs": [
    {
     "data": {
      "text/html": [
       "<style type=\"text/css\">\n",
       "#T_eaed3_row0_col0, #T_eaed3_row1_col1, #T_eaed3_row2_col2, #T_eaed3_row3_col3 {\n",
       "  background-color: #b40426;\n",
       "  color: #f1f1f1;\n",
       "}\n",
       "#T_eaed3_row0_col1 {\n",
       "  background-color: #bcd2f7;\n",
       "  color: #000000;\n",
       "}\n",
       "#T_eaed3_row0_col2 {\n",
       "  background-color: #c7d7f0;\n",
       "  color: #000000;\n",
       "}\n",
       "#T_eaed3_row0_col3 {\n",
       "  background-color: #f08a6c;\n",
       "  color: #f1f1f1;\n",
       "}\n",
       "#T_eaed3_row1_col0 {\n",
       "  background-color: #bbd1f8;\n",
       "  color: #000000;\n",
       "}\n",
       "#T_eaed3_row1_col2 {\n",
       "  background-color: #c6d6f1;\n",
       "  color: #000000;\n",
       "}\n",
       "#T_eaed3_row1_col3 {\n",
       "  background-color: #cfdaea;\n",
       "  color: #000000;\n",
       "}\n",
       "#T_eaed3_row2_col0, #T_eaed3_row2_col1, #T_eaed3_row2_col3, #T_eaed3_row3_col2 {\n",
       "  background-color: #3b4cc0;\n",
       "  color: #f1f1f1;\n",
       "}\n",
       "#T_eaed3_row3_col0 {\n",
       "  background-color: #f5c4ac;\n",
       "  color: #000000;\n",
       "}\n",
       "#T_eaed3_row3_col1 {\n",
       "  background-color: #4a63d3;\n",
       "  color: #f1f1f1;\n",
       "}\n",
       "</style>\n",
       "<table id=\"T_eaed3\">\n",
       "  <thead>\n",
       "    <tr>\n",
       "      <th class=\"blank level0\" >&nbsp;</th>\n",
       "      <th id=\"T_eaed3_level0_col0\" class=\"col_heading level0 col0\" >Income</th>\n",
       "      <th id=\"T_eaed3_level0_col1\" class=\"col_heading level0 col1\" >Balance</th>\n",
       "      <th id=\"T_eaed3_level0_col2\" class=\"col_heading level0 col2\" >Debt</th>\n",
       "      <th id=\"T_eaed3_level0_col3\" class=\"col_heading level0 col3\" >Score</th>\n",
       "    </tr>\n",
       "  </thead>\n",
       "  <tbody>\n",
       "    <tr>\n",
       "      <th id=\"T_eaed3_level0_row0\" class=\"row_heading level0 row0\" >Income</th>\n",
       "      <td id=\"T_eaed3_row0_col0\" class=\"data row0 col0\" >1.000000</td>\n",
       "      <td id=\"T_eaed3_row0_col1\" class=\"data row0 col1\" >0.628587</td>\n",
       "      <td id=\"T_eaed3_row0_col2\" class=\"data row0 col2\" >0.396679</td>\n",
       "      <td id=\"T_eaed3_row0_col3\" class=\"data row0 col3\" >0.775793</td>\n",
       "    </tr>\n",
       "    <tr>\n",
       "      <th id=\"T_eaed3_level0_row1\" class=\"row_heading level0 row1\" >Balance</th>\n",
       "      <td id=\"T_eaed3_row1_col0\" class=\"data row1 col0\" >0.628587</td>\n",
       "      <td id=\"T_eaed3_row1_col1\" class=\"data row1 col1\" >1.000000</td>\n",
       "      <td id=\"T_eaed3_row1_col2\" class=\"data row1 col2\" >0.391799</td>\n",
       "      <td id=\"T_eaed3_row1_col3\" class=\"data row1 col3\" >0.423201</td>\n",
       "    </tr>\n",
       "    <tr>\n",
       "      <th id=\"T_eaed3_level0_row2\" class=\"row_heading level0 row2\" >Debt</th>\n",
       "      <td id=\"T_eaed3_row2_col0\" class=\"data row2 col0\" >0.396679</td>\n",
       "      <td id=\"T_eaed3_row2_col1\" class=\"data row2 col1\" >0.391799</td>\n",
       "      <td id=\"T_eaed3_row2_col2\" class=\"data row2 col2\" >1.000000</td>\n",
       "      <td id=\"T_eaed3_row2_col3\" class=\"data row2 col3\" >-0.048554</td>\n",
       "    </tr>\n",
       "    <tr>\n",
       "      <th id=\"T_eaed3_level0_row3\" class=\"row_heading level0 row3\" >Score</th>\n",
       "      <td id=\"T_eaed3_row3_col0\" class=\"data row3 col0\" >0.775793</td>\n",
       "      <td id=\"T_eaed3_row3_col1\" class=\"data row3 col1\" >0.423201</td>\n",
       "      <td id=\"T_eaed3_row3_col2\" class=\"data row3 col2\" >-0.048554</td>\n",
       "      <td id=\"T_eaed3_row3_col3\" class=\"data row3 col3\" >1.000000</td>\n",
       "    </tr>\n",
       "  </tbody>\n",
       "</table>\n"
      ],
      "text/plain": [
       "<pandas.io.formats.style.Styler at 0x22e0cfb2640>"
      ]
     },
     "execution_count": 50,
     "metadata": {},
     "output_type": "execute_result"
    }
   ],
   "source": [
    "corr = df[['Income', 'Balance', 'Debt', 'Score']].corr()\n",
    "\n",
    "corr.style.background_gradient(cmap='coolwarm')"
   ]
  },
  {
   "cell_type": "markdown",
   "metadata": {},
   "source": [
    "Income is reasonably correleated with Score and Balance.\n",
    "\n",
    "This would lead us to believe that Score and Balance capture enough of the variance in Income to make it's inclusion redundant. In fact, including it will artificially inflate the importance of income information.\n",
    "\n",
    "Let's try the model without Income and see how it performs."
   ]
  },
  {
   "cell_type": "code",
   "execution_count": 51,
   "metadata": {
    "scrolled": true
   },
   "outputs": [
    {
     "name": "stdout",
     "output_type": "stream",
     "text": [
      "              precision    recall  f1-score   support\n",
      "\n",
      "     Settles       0.90      1.00      0.94       219\n",
      "    Defaults       0.88      0.22      0.35        32\n",
      "\n",
      "    accuracy                           0.90       251\n",
      "   macro avg       0.89      0.61      0.65       251\n",
      "weighted avg       0.89      0.90      0.87       251\n",
      "\n"
     ]
    },
    {
     "data": {
      "image/png": "[encoded data removed]",
      "text/plain": [
       "<Figure size 432x288 with 2 Axes>"
      ]
     },
     "metadata": {
      "needs_background": "light"
     },
     "output_type": "display_data"
    }
   ],
   "source": [
    "cols = [#'Income', \n",
    "        # 'Term_ordinal',\n",
    "        'Balance',\n",
    "        'Debt', \n",
    "        'Score', \n",
    "        'Term_Long Term',\n",
    "        'Term_Short Term']\n",
    "\n",
    "lr2 = lm.LogisticRegression(penalty='none',\n",
    "                            solver='lbfgs',\n",
    "                            max_iter=1000\n",
    "                           )\n",
    "\n",
    "lr2.fit(X_train[cols], y_train)\n",
    "\n",
    "default_guess_unseen = lr2.predict(X_test[cols])\n",
    "default_known_unseen = y_test\n",
    "\n",
    "\n",
    "print(classification_report(default_known_unseen, \n",
    "                            default_guess_unseen,\n",
    "                            target_names=[\"Settles\", \"Defaults\"]))\n",
    "\n",
    "predictions = lr2.predict(X_test[cols])\n",
    "\n",
    "cm = confusion_matrix(y_test, \n",
    "                      predictions)\n",
    "\n",
    "disp = ConfusionMatrixDisplay(confusion_matrix=cm,\n",
    "                              display_labels=('Settle','Default'))\n",
    "\n",
    "disp.plot();\n",
    "\n",
    "\n",
    "\n"
   ]
  },
  {
   "cell_type": "markdown",
   "metadata": {},
   "source": [
    "We can see a very marginal difference in the model.<br>\n",
    "Try different sensible combinations of features and see the results.\n",
    "\n",
    "In the next section looking at Random Forests we will revist feature selection and utilise further methods to help with this process"
   ]
  },
  {
   "cell_type": "markdown",
   "metadata": {},
   "source": [
    "# Task\n",
    "\n",
    " - Try different combinations of features and see how they affect the model\n",
    "\n",
    " - Try encoding the Term column ordinally and see if that makes any difference"
   ]
  },
  {
   "cell_type": "code",
   "execution_count": null,
   "metadata": {},
   "outputs": [],
   "source": []
  },
  {
   "cell_type": "code",
   "execution_count": null,
   "metadata": {},
   "outputs": [],
   "source": []
  },
  {
   "cell_type": "code",
   "execution_count": null,
   "metadata": {},
   "outputs": [],
   "source": []
  },
  {
   "cell_type": "code",
   "execution_count": null,
   "metadata": {},
   "outputs": [],
   "source": []
  },
  {
   "cell_type": "code",
   "execution_count": null,
   "metadata": {},
   "outputs": [],
   "source": []
  },
  {
   "cell_type": "code",
   "execution_count": null,
   "metadata": {},
   "outputs": [],
   "source": []
  },
  {
   "cell_type": "code",
   "execution_count": null,
   "metadata": {},
   "outputs": [],
   "source": []
  },
  {
   "cell_type": "code",
   "execution_count": null,
   "metadata": {},
   "outputs": [],
   "source": []
  },
  {
   "cell_type": "code",
   "execution_count": null,
   "metadata": {},
   "outputs": [],
   "source": []
  },
  {
   "cell_type": "code",
   "execution_count": null,
   "metadata": {},
   "outputs": [],
   "source": []
  },
  {
   "cell_type": "code",
   "execution_count": null,
   "metadata": {},
   "outputs": [],
   "source": []
  },
  {
   "cell_type": "markdown",
   "metadata": {},
   "source": [
    "<details>\n",
    "    <summary style=\"color:green;font-weight:bold\">Trying the model with Term_ordinal</summary>\n",
    "\n",
    "\n",
    "    cols = ['Income', \n",
    "            'Term_ordinal',\n",
    "            'Balance',\n",
    "            'Debt', \n",
    "            'Score'\n",
    "    #         'Term_Long Term',\n",
    "    #         'Term_Short Term'\n",
    "           ]\n",
    "\n",
    "    lr2 = lm.LogisticRegression(penalty='none',\n",
    "                                solver='lbfgs',\n",
    "                                max_iter=1000\n",
    "                               )\n",
    "\n",
    "    lr2.fit(X_train[cols], y_train)\n",
    "\n",
    "    default_guess_unseen = lr2.predict(X_test[cols])\n",
    "    default_known_unseen = y_test\n",
    "\n",
    "\n",
    "    print(classification_report(default_known_unseen, \n",
    "                                default_guess_unseen,\n",
    "                                target_names=[\"Settles\", \"Defaults\"]))\n",
    "\n",
    "    predictions = lr2.predict(X_test[cols])\n",
    "\n",
    "    cm = confusion_matrix(y_test, \n",
    "                          predictions)\n",
    "\n",
    "    disp = ConfusionMatrixDisplay(confusion_matrix=cm,\n",
    "                                  display_labels=('Settle','Default'))\n",
    "\n",
    "    disp.plot();\n",
    "\n",
    "\n",
    "\n"
   ]
  },
  {
   "cell_type": "markdown",
   "metadata": {},
   "source": [
    "<details>\n",
    "    <summary style=\"color:green;font-weight:bold\">Final thoughts</summary>\n",
    "    \n",
    "It appears there is little we can do to move the model much further with the feature selection and engineering that we are applying<br>\n",
    "    \n",
    "Some other techniques will be needed to improve this model further.<br>\n",
    "    \n",
    "The main issue that is holding us back is the fact that the classes are so imbalanced, Standard Logistic Regression does not deal with this very well.<br>\n",
    "    \n",
    "The options we have are:<br>\n",
    "    \n",
    "1) Somehow balance the classes, but we cant obtain more data to do so<br>\n",
    "or<br>\n",
    "2) Build a model that is better at handling imbalanced classes<br>\n",
    "    \n",
    "    \n",
    "In the next few modules we will investigate both options<br>\n",
    "    \n",
    "We will cover feature engineering to balance the classes<br>\n",
    "    and<br>\n",
    "Apply other types of models such as Random Forests and specifically adapted form of Logistic Regression\n",
    "    "
   ]
  },
  {
   "cell_type": "code",
   "execution_count": null,
   "metadata": {},
   "outputs": [],
   "source": []
  },
  {
   "cell_type": "code",
   "execution_count": null,
   "metadata": {},
   "outputs": [],
   "source": [
    "default_known_unseen.values.shape"
   ]
  },
  {
   "cell_type": "code",
   "execution_count": null,
   "metadata": {
    "tags": []
   },
   "outputs": [],
   "source": [
    "default_guess_unseen"
   ]
  },
  {
   "cell_type": "code",
   "execution_count": 53,
   "metadata": {},
   "outputs": [],
   "source": [
    "clf = lm.LogisticRegression(penalty='none',\n",
    "                            solver='lbfgs',\n",
    "                            max_iter=1000\n",
    "                           )"
   ]
  },
  {
   "cell_type": "code",
   "execution_count": 54,
   "metadata": {},
   "outputs": [
    {
     "data": {
      "text/plain": [
       "0.8520262557077626"
      ]
     },
     "execution_count": 54,
     "metadata": {},
     "output_type": "execute_result"
    }
   ],
   "source": [
    "from sklearn.metrics import auc, roc_curve\n",
    "\n",
    "clf.fit(X_train,y_train)\n",
    "\n",
    "default_guess_unseen = clf.predict_proba(X_test)\n",
    "default_known_unseen = y_test\n",
    "\n",
    "fpr, tpr, thresholds = metrics.roc_curve(default_known_unseen,\n",
    "                                         default_guess_unseen[:, 1],\n",
    "                                         pos_label=1\n",
    "                                        )\n",
    "metrics.auc(fpr, tpr)\n"
   ]
  },
  {
   "cell_type": "code",
   "execution_count": 55,
   "metadata": {},
   "outputs": [
    {
     "data": {
      "image/png": "[encoded data removed]",
      "text/plain": [
       "<Figure size 432x288 with 1 Axes>"
      ]
     },
     "metadata": {
      "needs_background": "light"
     },
     "output_type": "display_data"
    }
   ],
   "source": [
    "from sklearn.metrics import RocCurveDisplay\n",
    "\n",
    "RocCurveDisplay.from_predictions(\n",
    "    default_known_unseen, \n",
    "    default_guess_unseen[:, 1],\n",
    "    color=\"darkorange\"\n",
    ")\n",
    "\n",
    "plt.plot([0, 1], [0, 1], \"k--\", label=\"chance level (AUC = 0.5)\")\n",
    "plt.axis(\"square\")\n",
    "plt.xlabel(\"False Positive Rate\")\n",
    "plt.ylabel(\"True Positive Rate\")\n",
    "plt.title(\"ROC Curve\")\n",
    "plt.legend()\n",
    "plt.show()\n"
   ]
  },
  {
   "cell_type": "markdown",
   "metadata": {},
   "source": [
    "We can see that by applying a more suitable model to the imbalanced Data we have acheived much better results than with the standard Model with equal weights"
   ]
  },
  {
   "cell_type": "code",
   "execution_count": null,
   "metadata": {},
   "outputs": [],
   "source": [
    "from imblearn.over_sampling import SMOTE\n",
    "\n",
    "SMOTE()"
   ]
  },
  {
   "cell_type": "code",
   "execution_count": null,
   "metadata": {},
   "outputs": [],
   "source": []
  },
  {
   "cell_type": "markdown",
   "metadata": {},
   "source": [
    "### Reciever Operating Characteristic (ROC) -> Area Under the Curve (AUC)"
   ]
  },
  {
   "cell_type": "markdown",
   "metadata": {},
   "source": [
    "Made up of two things:\n",
    "* TPR == Recall = TP/(TP + FN)\n",
    "* FPR = FP/(TN + FP)\n",
    "\n",
    "* Ideally we maximise the TPR, and minimise the FPR\n",
    "\n",
    "Commonly, the TPR & FPR are plotted against each other while the positive predisction threshold is altered. i.e. P(Default) is changed from 0 to 1 \n",
    "\n",
    "* ROC curve is that graph:\n",
    "    * Good if goes up faster than along\n",
    "    * Bad if follows diagonal\n",
    "    \n",
    "* AUC is a metric to summarise the graph:\n",
    "    * Area under the ROC curve"
   ]
  },
  {
   "cell_type": "code",
   "execution_count": null,
   "metadata": {},
   "outputs": [],
   "source": [
    "from sklearn.metrics import roc_auc_score, auc, roc_curve\n",
    "\n",
    "y_score = clf.fit(X_train, y_train).decision_function(X_test)\n",
    "n_classes = 0\n",
    "# Compute ROC curve and ROC area for each class\n",
    "fpr = dict()\n",
    "tpr = dict()\n",
    "roc_auc = dict()\n",
    "for i in range(n_classes):\n",
    "    fpr[i], tpr[i], _ = roc_curve(y_test[:, i], y_score[:, i])\n",
    "    roc_auc[i] = auc(fpr[i], tpr[i])\n"
   ]
  },
  {
   "cell_type": "code",
   "execution_count": null,
   "metadata": {},
   "outputs": [],
   "source": [
    "roc_auc"
   ]
  }
 ],
 "metadata": {
  "kernelspec": {
   "display_name": "Python 3 (ipykernel)",
   "language": "python",
   "name": "python3"
  },
  "language_info": {
   "codemirror_mode": {
    "name": "ipython",
    "version": 3
   },
   "file_extension": ".py",
   "mimetype": "text/x-python",
   "name": "python",
   "nbconvert_exporter": "python",
   "pygments_lexer": "ipython3",
   "version": "3.9.12"
  }
 },
 "nbformat": 4,
 "nbformat_minor": 4
}
