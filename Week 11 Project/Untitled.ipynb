{
 "cells": [
  {
   "cell_type": "markdown",
   "id": "fe140e6c",
   "metadata": {},
   "source": [
    "Importing libraries"
   ]
  },
  {
   "cell_type": "code",
   "execution_count": null,
   "id": "c5459d74",
   "metadata": {},
   "outputs": [],
   "source": [
    "import pandas as pd\n",
    "import numpy as np\n",
    "import matplotlib.pyplot as plt\n",
    "import seaborn as sns\n",
    "import plotly.express as px\n",
    "from sklearn.metrics import accuracy_score, confusion_matrix, classification_report\n",
    "# from yellowbrick.classifier import ConfusionMatrix\n",
    "from sklearn.tree import DecisionTreeClassifier\n",
    "from sklearn.metrics import r2_score\n",
    "from sklearn.metrics import mean_absolute_error, mean_squared_error\n",
    "from sklearn.model_selection import GridSearchCV\n",
    "from sklearn.model_selection import RandomizedSearchCV\n",
    "from sklearn.preprocessing import LabelEncoder"
   ]
  },
  {
   "cell_type": "code",
   "execution_count": null,
   "id": "ec120e4f",
   "metadata": {},
   "outputs": [],
   "source": [
    "df = pd.read_csv('data/Bank_Customer_Churn.csv', sep = ',')"
   ]
  },
  {
   "cell_type": "code",
   "execution_count": null,
   "id": "aa092be3",
   "metadata": {},
   "outputs": [],
   "source": [
    "df.head(5)"
   ]
  },
  {
   "cell_type": "code",
   "execution_count": null,
   "id": "ea3ef770",
   "metadata": {},
   "outputs": [],
   "source": [
    "df.columns"
   ]
  },
  {
   "cell_type": "code",
   "execution_count": null,
   "id": "426bf29e",
   "metadata": {},
   "outputs": [],
   "source": [
    "df.info()"
   ]
  },
  {
   "cell_type": "code",
   "execution_count": null,
   "id": "04f259c4",
   "metadata": {},
   "outputs": [],
   "source": [
    "df.describe()"
   ]
  },
  {
   "cell_type": "code",
   "execution_count": null,
   "id": "2bd9cbb8",
   "metadata": {},
   "outputs": [],
   "source": [
    "df.dtypes\n",
    "# removing geography, customerId, surname, RowNumber"
   ]
  },
  {
   "cell_type": "code",
   "execution_count": null,
   "id": "0d3f9a88",
   "metadata": {},
   "outputs": [],
   "source": [
    "df.isnull().sum()"
   ]
  },
  {
   "cell_type": "code",
   "execution_count": null,
   "id": "0c97bbc8",
   "metadata": {},
   "outputs": [],
   "source": [
    "df['CustomerId'].nunique()\n",
    "# no duplicate customer ids in the 10k rows"
   ]
  },
  {
   "cell_type": "code",
   "execution_count": null,
   "id": "c101f287",
   "metadata": {},
   "outputs": [],
   "source": [
    "# removing geography, customerId, surname, RowNumber\n",
    "\n",
    "columns_to_keep = ['CreditScore',\n",
    "       'Gender', 'Age', 'Tenure', 'Balance', 'NumOfProducts', 'HasCrCard',\n",
    "       'IsActiveMember', 'EstimatedSalary', 'Exited', 'Complain',\n",
    "       'Satisfaction Score', 'Card Type', 'Point Earned']\n",
    "\n",
    "# Create a new DataFrame with the specified columns\n",
    "df1 = df[columns_to_keep].copy()\n",
    "\n",
    "# Display the new DataFrame\n",
    "df1.head(3)"
   ]
  },
  {
   "cell_type": "code",
   "execution_count": null,
   "id": "5d2359cf",
   "metadata": {},
   "outputs": [],
   "source": [
    "df1 = df1.rename(columns={'EstimatedSalary': 'Salary', 'Tenure': 'YearsWithBank'})"
   ]
  },
  {
   "cell_type": "code",
   "execution_count": null,
   "id": "e83cda31",
   "metadata": {},
   "outputs": [],
   "source": [
    "df1.head(5)"
   ]
  },
  {
   "cell_type": "code",
   "execution_count": null,
   "id": "656969af",
   "metadata": {},
   "outputs": [],
   "source": [
    "df1['JoinAge'] = df1['Age'] - df1['YearsWithBank']"
   ]
  },
  {
   "cell_type": "code",
   "execution_count": null,
   "id": "becc9903",
   "metadata": {},
   "outputs": [],
   "source": [
    "df1.head(5)"
   ]
  },
  {
   "cell_type": "code",
   "execution_count": null,
   "id": "d053f724",
   "metadata": {},
   "outputs": [],
   "source": [
    "# Exploratory Data Analysis"
   ]
  },
  {
   "cell_type": "code",
   "execution_count": null,
   "id": "7e331005",
   "metadata": {},
   "outputs": [],
   "source": [
    "corr = df.corr().round(2)\n",
    "plt.figure(figsize = (25,20))\n",
    "sns.heatmap(corr, annot = True, cmap = 'YlOrBr')"
   ]
  },
  {
   "cell_type": "code",
   "execution_count": null,
   "id": "29fd4208",
   "metadata": {},
   "outputs": [],
   "source": [
    "# Complaint is 100% correlated with the Target Variable Exit. \n",
    "# We don't know when it is logged (before or after exiting) and to prevent overfitting so we will remove it\n",
    "df1 = df1.drop('Complain', axis = 1)"
   ]
  },
  {
   "cell_type": "code",
   "execution_count": null,
   "id": "51f2ee0f",
   "metadata": {},
   "outputs": [],
   "source": [
    "# plt.figure(figsize = (20, 25))\n",
    "\n",
    "# # plt.subplot(5, 2, 1)\n",
    "# # plt.gca().set_title('Variable Geography')\n",
    "# # sns.countplot(x = 'Geography', palette = 'Set2', data = df)\n",
    "\n",
    "# plt.subplot(5, 2, 2)\n",
    "# plt.gca().set_title('Variable Gender')\n",
    "# sns.countplot(x = 'Gender', palette = 'Set2', data = df)\n",
    "\n",
    "# plt.subplot(5, 2, 2)\n",
    "# plt.gca().set_title('Variable JoinAge')\n",
    "# sns.countplot(x = 'JoinAge', palette = 'Set2', data = df)\n",
    "\n",
    "# plt.subplot(5, 2, 3)\n",
    "# plt.gca().set_title('Variable Tenure')\n",
    "# sns.countplot(x = 'Tenure', palette = 'Set2', data = df)\n",
    "\n",
    "# plt.subplot(5, 2, 4)\n",
    "# plt.gca().set_title('Variable NumOfProducts')\n",
    "# sns.countplot(x = 'NumOfProducts', palette = 'Set2', data = df)\n",
    "\n",
    "# plt.subplot(5, 2, 5)\n",
    "# plt.gca().set_title('Variable HasCrCard')\n",
    "# sns.countplot(x = 'HasCrCard', palette = 'Set2', data = df)\n",
    "\n",
    "# plt.subplot(5, 2, 6)\n",
    "# plt.gca().set_title('Variable IsActiveMember')\n",
    "# sns.countplot(x = 'IsActiveMember', palette = 'Set2', data = df)\n",
    "\n",
    "# plt.subplot(5, 2, 7)\n",
    "# plt.gca().set_title('Variable Exited')\n",
    "# sns.countplot(x = 'Exited', palette = 'Set2', data = df)\n",
    "\n",
    "# # plt.subplot(5, 2, 8)\n",
    "# # plt.gca().set_title('Variable Complain')\n",
    "# # sns.countplot(x = 'Complain', palette = 'Set2', data = df)\n",
    "\n",
    "# plt.subplot(5, 2, 9)\n",
    "# plt.gca().set_title('Variable Satisfaction Score')\n",
    "# sns.countplot(x = 'Satisfaction Score', palette = 'Set2', data = df)\n",
    "\n",
    "# plt.subplot(5, 2, 10)\n",
    "# plt.gca().set_title('Variable Card Type')\n",
    "# sns.countplot(x = 'Card Type', palette = 'Set2', data = df)"
   ]
  },
  {
   "cell_type": "code",
   "execution_count": null,
   "id": "10e9698a",
   "metadata": {},
   "outputs": [],
   "source": [
    "df1.hist(bins=50, figsize=(20,20));"
   ]
  },
  {
   "cell_type": "code",
   "execution_count": null,
   "id": "6eedc977",
   "metadata": {},
   "outputs": [],
   "source": []
  }
 ],
 "metadata": {
  "kernelspec": {
   "display_name": "Python 3 (ipykernel)",
   "language": "python",
   "name": "python3"
  },
  "language_info": {
   "codemirror_mode": {
    "name": "ipython",
    "version": 3
   },
   "file_extension": ".py",
   "mimetype": "text/x-python",
   "name": "python",
   "nbconvert_exporter": "python",
   "pygments_lexer": "ipython3",
   "version": "3.10.9"
  }
 },
 "nbformat": 4,
 "nbformat_minor": 5
}
