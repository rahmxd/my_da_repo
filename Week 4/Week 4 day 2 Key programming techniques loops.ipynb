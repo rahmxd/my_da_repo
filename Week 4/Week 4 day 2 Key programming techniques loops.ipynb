{
 "cells": [
  {
   "cell_type": "code",
   "execution_count": 1,
   "id": "3be1797a",
   "metadata": {},
   "outputs": [],
   "source": [
    "name = 'rafee'"
   ]
  },
  {
   "cell_type": "code",
   "execution_count": 2,
   "id": "ba40cda6",
   "metadata": {},
   "outputs": [],
   "source": [
    "capitalisedName = name.capitalize()"
   ]
  },
  {
   "cell_type": "code",
   "execution_count": 3,
   "id": "5c80d00a",
   "metadata": {},
   "outputs": [
    {
     "name": "stdout",
     "output_type": "stream",
     "text": [
      "Rafee\n"
     ]
    }
   ],
   "source": [
    "print(capitalisedName)"
   ]
  },
  {
   "cell_type": "code",
   "execution_count": 4,
   "id": "3416040c",
   "metadata": {},
   "outputs": [
    {
     "name": "stdout",
     "output_type": "stream",
     "text": [
      "r\n"
     ]
    }
   ],
   "source": [
    "firstCharName = name[0]\n",
    "print(firstCharName)"
   ]
  },
  {
   "cell_type": "code",
   "execution_count": 5,
   "id": "7aacb968",
   "metadata": {},
   "outputs": [
    {
     "name": "stdout",
     "output_type": "stream",
     "text": [
      "e\n"
     ]
    }
   ],
   "source": [
    "lastCharName = name[-1]\n",
    "print(lastCharName)"
   ]
  },
  {
   "cell_type": "code",
   "execution_count": 7,
   "id": "f0c3c489",
   "metadata": {},
   "outputs": [
    {
     "name": "stdout",
     "output_type": "stream",
     "text": [
      "afee\n"
     ]
    }
   ],
   "source": [
    "nameExceptFirstChar = name[1:]\n",
    "print(nameExceptFirstChar)"
   ]
  },
  {
   "cell_type": "code",
   "execution_count": 8,
   "id": "73a73b13",
   "metadata": {},
   "outputs": [
    {
     "name": "stdout",
     "output_type": "stream",
     "text": [
      "rfe\n"
     ]
    }
   ],
   "source": [
    "everyOtherChar = name[::2]\n",
    "print(everyOtherChar)"
   ]
  },
  {
   "cell_type": "code",
   "execution_count": 10,
   "id": "8b5e1ccf",
   "metadata": {},
   "outputs": [
    {
     "name": "stdout",
     "output_type": "stream",
     "text": [
      "Two copies of Name:  rafeerafee\n"
     ]
    }
   ],
   "source": [
    "twoCopiesOfName = name + name\n",
    "print(\"Two copies of Name: \", twoCopiesOfName)"
   ]
  },
  {
   "cell_type": "code",
   "execution_count": 11,
   "id": "b7b55a07",
   "metadata": {},
   "outputs": [],
   "source": [
    "ages = [92,90,94,95,97,96,98,21,94,92,95,97,92,97,98]"
   ]
  },
  {
   "cell_type": "code",
   "execution_count": 12,
   "id": "f419b35e",
   "metadata": {},
   "outputs": [
    {
     "data": {
      "text/plain": [
       "15"
      ]
     },
     "execution_count": 12,
     "metadata": {},
     "output_type": "execute_result"
    }
   ],
   "source": [
    "len(ages)"
   ]
  },
  {
   "cell_type": "code",
   "execution_count": 18,
   "id": "bf393b5c",
   "metadata": {},
   "outputs": [],
   "source": [
    "def displayFirstAndLast(list):\n",
    "    return print('first: ',list[0], 'last: ', list[-1])"
   ]
  },
  {
   "cell_type": "code",
   "execution_count": 19,
   "id": "51f7195b",
   "metadata": {},
   "outputs": [
    {
     "name": "stdout",
     "output_type": "stream",
     "text": [
      "first:  92 last:  98\n"
     ]
    }
   ],
   "source": [
    "displayFirstAndLast(ages)"
   ]
  },
  {
   "cell_type": "code",
   "execution_count": 20,
   "id": "1e999302",
   "metadata": {},
   "outputs": [],
   "source": [
    "def thirdToLastElement(list):\n",
    "    return print('third to last slide: ', list[2:])"
   ]
  },
  {
   "cell_type": "code",
   "execution_count": 21,
   "id": "cb8479d1",
   "metadata": {},
   "outputs": [
    {
     "name": "stdout",
     "output_type": "stream",
     "text": [
      "third to last slide:  [94, 95, 97, 96, 98, 21, 94, 92, 95, 97, 92, 97, 98]\n"
     ]
    }
   ],
   "source": [
    "thirdToLastElement(ages)"
   ]
  },
  {
   "cell_type": "code",
   "execution_count": 29,
   "id": "a85e7673",
   "metadata": {},
   "outputs": [],
   "source": [
    "def printList(list):\n",
    "    for age in list:\n",
    "        print('Index position: ', list.index(age) , 'Age: ', age)"
   ]
  },
  {
   "cell_type": "code",
   "execution_count": 30,
   "id": "582d9542",
   "metadata": {},
   "outputs": [
    {
     "name": "stdout",
     "output_type": "stream",
     "text": [
      "Index position:  0 Age:  92\n",
      "Index position:  1 Age:  90\n",
      "Index position:  2 Age:  94\n",
      "Index position:  3 Age:  95\n",
      "Index position:  4 Age:  97\n",
      "Index position:  5 Age:  96\n",
      "Index position:  6 Age:  98\n",
      "Index position:  7 Age:  21\n",
      "Index position:  2 Age:  94\n",
      "Index position:  0 Age:  92\n",
      "Index position:  3 Age:  95\n",
      "Index position:  4 Age:  97\n",
      "Index position:  0 Age:  92\n",
      "Index position:  4 Age:  97\n",
      "Index position:  6 Age:  98\n"
     ]
    }
   ],
   "source": [
    "printList(ages)"
   ]
  },
  {
   "cell_type": "code",
   "execution_count": 33,
   "id": "fbc5caef",
   "metadata": {},
   "outputs": [
    {
     "name": "stdout",
     "output_type": "stream",
     "text": [
      "new list length:  18\n",
      "[92, 90, 94, 95, 97, 96, 98, 21, 94, 92, 95, 97, 92, 97, 98, 95, 95, 95]\n",
      "Index position:  0 Age:  92\n",
      "Index position:  1 Age:  90\n",
      "Index position:  2 Age:  94\n",
      "Index position:  3 Age:  95\n",
      "Index position:  4 Age:  97\n",
      "Index position:  5 Age:  96\n",
      "Index position:  6 Age:  98\n",
      "Index position:  7 Age:  21\n",
      "Index position:  2 Age:  94\n",
      "Index position:  0 Age:  92\n",
      "Index position:  3 Age:  95\n",
      "Index position:  4 Age:  97\n",
      "Index position:  0 Age:  92\n",
      "Index position:  4 Age:  97\n",
      "Index position:  6 Age:  98\n",
      "Index position:  3 Age:  95\n",
      "Index position:  3 Age:  95\n",
      "Index position:  3 Age:  95\n"
     ]
    }
   ],
   "source": [
    "ThomasHolmesGuess = 95\n",
    "ages.append(ThomasHolmesGuess)\n",
    "print('new list length: ', len(ages))\n",
    "print(ages)\n",
    "printList(ages)"
   ]
  },
  {
   "cell_type": "markdown",
   "id": "ef555084",
   "metadata": {},
   "source": [
    "**Practical Dictionaries**"
   ]
  },
  {
   "cell_type": "code",
   "execution_count": 34,
   "id": "b2351aeb",
   "metadata": {},
   "outputs": [],
   "source": [
    "books = {\n",
    "    \"title\": \"Hamlet\",\n",
    "    \"author\": \"William Shakespeare\",\n",
    "    \"language\": \"English\",\n",
    "}"
   ]
  },
  {
   "cell_type": "code",
   "execution_count": 35,
   "id": "52ba93b5",
   "metadata": {},
   "outputs": [
    {
     "data": {
      "text/plain": [
       "'Hamlet'"
      ]
     },
     "execution_count": 35,
     "metadata": {},
     "output_type": "execute_result"
    }
   ],
   "source": [
    "books['title']"
   ]
  },
  {
   "cell_type": "code",
   "execution_count": 37,
   "id": "2f977d79",
   "metadata": {},
   "outputs": [
    {
     "data": {
      "text/plain": [
       "dict_keys(['title', 'author', 'language'])"
      ]
     },
     "execution_count": 37,
     "metadata": {},
     "output_type": "execute_result"
    }
   ],
   "source": [
    "books.keys()"
   ]
  },
  {
   "cell_type": "code",
   "execution_count": 38,
   "id": "e6881bbf",
   "metadata": {},
   "outputs": [
    {
     "data": {
      "text/plain": [
       "dict_values(['Hamlet', 'William Shakespeare', 'English'])"
      ]
     },
     "execution_count": 38,
     "metadata": {},
     "output_type": "execute_result"
    }
   ],
   "source": [
    "books.values()"
   ]
  },
  {
   "cell_type": "code",
   "execution_count": 39,
   "id": "6844009c",
   "metadata": {},
   "outputs": [
    {
     "data": {
      "text/plain": [
       "dict_items([('title', 'Hamlet'), ('author', 'William Shakespeare'), ('language', 'English')])"
      ]
     },
     "execution_count": 39,
     "metadata": {},
     "output_type": "execute_result"
    }
   ],
   "source": [
    "books.items()"
   ]
  },
  {
   "cell_type": "code",
   "execution_count": 40,
   "id": "5f6954b1",
   "metadata": {},
   "outputs": [],
   "source": [
    "books['title'] = 'King Lear'"
   ]
  },
  {
   "cell_type": "code",
   "execution_count": 41,
   "id": "68a1015d",
   "metadata": {},
   "outputs": [
    {
     "data": {
      "text/plain": [
       "{'title': 'King Lear', 'author': 'William Shakespeare', 'language': 'English'}"
      ]
     },
     "execution_count": 41,
     "metadata": {},
     "output_type": "execute_result"
    }
   ],
   "source": [
    "books"
   ]
  },
  {
   "cell_type": "markdown",
   "id": "8eaf5153",
   "metadata": {},
   "source": [
    "**Practical: Selection**"
   ]
  },
  {
   "cell_type": "code",
   "execution_count": 44,
   "id": "eb4e33a9",
   "metadata": {},
   "outputs": [
    {
     "name": "stdout",
     "output_type": "stream",
     "text": [
      "Please enter your age: 19\n",
      "You are in category A\n"
     ]
    }
   ],
   "source": [
    "age = int(input('Please enter your age: '))\n",
    "\n",
    "if age >= 18:\n",
    "    print('You are in category A')\n",
    "elif age >= 16:\n",
    "    print('You are in category B')\n",
    "elif age < 16:\n",
    "    print('You are in category C')"
   ]
  },
  {
   "cell_type": "markdown",
   "id": "ea954ae7",
   "metadata": {},
   "source": [
    "**Practical Numpy exercise**"
   ]
  },
  {
   "cell_type": "code",
   "execution_count": 45,
   "id": "0d7ebacb",
   "metadata": {},
   "outputs": [],
   "source": [
    "import numpy as np"
   ]
  },
  {
   "cell_type": "code",
   "execution_count": 46,
   "id": "0b5c9ef7",
   "metadata": {},
   "outputs": [],
   "source": [
    "payments = np.array([6.99, 12.40, 75.00, 1.55])"
   ]
  },
  {
   "cell_type": "code",
   "execution_count": 47,
   "id": "d0a5f9dd",
   "metadata": {},
   "outputs": [
    {
     "data": {
      "text/plain": [
       "array([ 6.99, 12.4 , 75.  ,  1.55])"
      ]
     },
     "execution_count": 47,
     "metadata": {},
     "output_type": "execute_result"
    }
   ],
   "source": [
    "payments"
   ]
  },
  {
   "cell_type": "code",
   "execution_count": 49,
   "id": "87446aa9",
   "metadata": {},
   "outputs": [
    {
     "name": "stdout",
     "output_type": "stream",
     "text": [
      "[[1 3 5 7]\n",
      " [2 4 6 8]]\n"
     ]
    }
   ],
   "source": [
    "arr = np.array([1,3,5,7,9])\n",
    "\n",
    "arr2 = np.array([[1,3,5,7], [2,4,6,8]])\n",
    "\n",
    "print(arr2)"
   ]
  },
  {
   "cell_type": "code",
   "execution_count": 50,
   "id": "6b89d3d2",
   "metadata": {},
   "outputs": [
    {
     "data": {
      "text/plain": [
       "array([6.99, 1.55])"
      ]
     },
     "execution_count": 50,
     "metadata": {},
     "output_type": "execute_result"
    }
   ],
   "source": [
    "payments[payments < 10]"
   ]
  },
  {
   "cell_type": "code",
   "execution_count": 51,
   "id": "e25a584e",
   "metadata": {},
   "outputs": [
    {
     "data": {
      "text/plain": [
       "array([ 6.99, 12.4 , 75.  ,  1.55])"
      ]
     },
     "execution_count": 51,
     "metadata": {},
     "output_type": "execute_result"
    }
   ],
   "source": [
    "payments"
   ]
  },
  {
   "cell_type": "code",
   "execution_count": 52,
   "id": "5f68597d",
   "metadata": {},
   "outputs": [
    {
     "data": {
      "text/plain": [
       "95.94"
      ]
     },
     "execution_count": 52,
     "metadata": {},
     "output_type": "execute_result"
    }
   ],
   "source": [
    "payments.sum()"
   ]
  },
  {
   "cell_type": "code",
   "execution_count": null,
   "id": "c489893b",
   "metadata": {},
   "outputs": [],
   "source": []
  }
 ],
 "metadata": {
  "kernelspec": {
   "display_name": "Python 3 (ipykernel)",
   "language": "python",
   "name": "python3"
  },
  "language_info": {
   "codemirror_mode": {
    "name": "ipython",
    "version": 3
   },
   "file_extension": ".py",
   "mimetype": "text/x-python",
   "name": "python",
   "nbconvert_exporter": "python",
   "pygments_lexer": "ipython3",
   "version": "3.10.9"
  }
 },
 "nbformat": 4,
 "nbformat_minor": 5
}
