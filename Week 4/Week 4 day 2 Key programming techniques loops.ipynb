{
 "cells": [
  {
   "cell_type": "code",
   "execution_count": 1,
   "id": "cb9a2ea2",
   "metadata": {},
   "outputs": [],
   "source": [
    "name = 'rafee'"
   ]
  },
  {
   "cell_type": "code",
   "execution_count": 2,
   "id": "936ebb15",
   "metadata": {},
   "outputs": [],
   "source": [
    "capitalisedName = name.capitalize()"
   ]
  },
  {
   "cell_type": "code",
   "execution_count": 3,
   "id": "ea5777fc",
   "metadata": {},
   "outputs": [
    {
     "name": "stdout",
     "output_type": "stream",
     "text": [
      "Rafee\n"
     ]
    }
   ],
   "source": [
    "print(capitalisedName)"
   ]
  },
  {
   "cell_type": "code",
   "execution_count": 4,
   "id": "19d4d573",
   "metadata": {},
   "outputs": [
    {
     "name": "stdout",
     "output_type": "stream",
     "text": [
      "r\n"
     ]
    }
   ],
   "source": [
    "firstCharName = name[0]\n",
    "print(firstCharName)"
   ]
  },
  {
   "cell_type": "code",
   "execution_count": 5,
   "id": "90ae8ca9",
   "metadata": {},
   "outputs": [
    {
     "name": "stdout",
     "output_type": "stream",
     "text": [
      "e\n"
     ]
    }
   ],
   "source": [
    "lastCharName = name[-1]\n",
    "print(lastCharName)"
   ]
  },
  {
   "cell_type": "code",
   "execution_count": 7,
   "id": "ed25ac77",
   "metadata": {},
   "outputs": [
    {
     "name": "stdout",
     "output_type": "stream",
     "text": [
      "afee\n"
     ]
    }
   ],
   "source": [
    "nameExceptFirstChar = name[1:]\n",
    "print(nameExceptFirstChar)"
   ]
  },
  {
   "cell_type": "code",
   "execution_count": 8,
   "id": "147cc59d",
   "metadata": {},
   "outputs": [
    {
     "name": "stdout",
     "output_type": "stream",
     "text": [
      "rfe\n"
     ]
    }
   ],
   "source": [
    "everyOtherChar = name[::2]\n",
    "print(everyOtherChar)"
   ]
  },
  {
   "cell_type": "code",
   "execution_count": 10,
   "id": "9ec6f38c",
   "metadata": {},
   "outputs": [
    {
     "name": "stdout",
     "output_type": "stream",
     "text": [
      "Two copies of Name:  rafeerafee\n"
     ]
    }
   ],
   "source": [
    "twoCopiesOfName = name + name\n",
    "print(\"Two copies of Name: \", twoCopiesOfName)"
   ]
  },
  {
   "cell_type": "code",
   "execution_count": 11,
   "id": "ebd29b29",
   "metadata": {},
   "outputs": [],
   "source": [
    "ages = [92,90,94,95,97,96,98,21,94,92,95,97,92,97,98]"
   ]
  },
  {
   "cell_type": "code",
   "execution_count": 12,
   "id": "b8048668",
   "metadata": {},
   "outputs": [
    {
     "data": {
      "text/plain": [
       "15"
      ]
     },
     "execution_count": 12,
     "metadata": {},
     "output_type": "execute_result"
    }
   ],
   "source": [
    "len(ages)"
   ]
  },
  {
   "cell_type": "code",
   "execution_count": 18,
   "id": "c9ad9c46",
   "metadata": {},
   "outputs": [],
   "source": [
    "def displayFirstAndLast(list):\n",
    "    return print('first: ',list[0], 'last: ', list[-1])"
   ]
  },
  {
   "cell_type": "code",
   "execution_count": 19,
   "id": "a3517c03",
   "metadata": {},
   "outputs": [
    {
     "name": "stdout",
     "output_type": "stream",
     "text": [
      "first:  92 last:  98\n"
     ]
    }
   ],
   "source": [
    "displayFirstAndLast(ages)"
   ]
  },
  {
   "cell_type": "code",
   "execution_count": 20,
   "id": "7e880bb9",
   "metadata": {},
   "outputs": [],
   "source": [
    "def thirdToLastElement(list):\n",
    "    return print('third to last slide: ', list[2:])"
   ]
  },
  {
   "cell_type": "code",
   "execution_count": 21,
   "id": "394d95fe",
   "metadata": {},
   "outputs": [
    {
     "name": "stdout",
     "output_type": "stream",
     "text": [
      "third to last slide:  [94, 95, 97, 96, 98, 21, 94, 92, 95, 97, 92, 97, 98]\n"
     ]
    }
   ],
   "source": [
    "thirdToLastElement(ages)"
   ]
  },
  {
   "cell_type": "code",
   "execution_count": 29,
   "id": "3a9ddb4c",
   "metadata": {},
   "outputs": [],
   "source": [
    "def printList(list):\n",
    "    for age in list:\n",
    "        print('Index position: ', list.index(age) , 'Age: ', age)"
   ]
  },
  {
   "cell_type": "code",
   "execution_count": 30,
   "id": "3350c69b",
   "metadata": {},
   "outputs": [
    {
     "name": "stdout",
     "output_type": "stream",
     "text": [
      "Index position:  0 Age:  92\n",
      "Index position:  1 Age:  90\n",
      "Index position:  2 Age:  94\n",
      "Index position:  3 Age:  95\n",
      "Index position:  4 Age:  97\n",
      "Index position:  5 Age:  96\n",
      "Index position:  6 Age:  98\n",
      "Index position:  7 Age:  21\n",
      "Index position:  2 Age:  94\n",
      "Index position:  0 Age:  92\n",
      "Index position:  3 Age:  95\n",
      "Index position:  4 Age:  97\n",
      "Index position:  0 Age:  92\n",
      "Index position:  4 Age:  97\n",
      "Index position:  6 Age:  98\n"
     ]
    }
   ],
   "source": [
    "printList(ages)"
   ]
  },
  {
   "cell_type": "code",
   "execution_count": 33,
   "id": "3aa2498c",
   "metadata": {},
   "outputs": [
    {
     "name": "stdout",
     "output_type": "stream",
     "text": [
      "new list length:  18\n",
      "[92, 90, 94, 95, 97, 96, 98, 21, 94, 92, 95, 97, 92, 97, 98, 95, 95, 95]\n",
      "Index position:  0 Age:  92\n",
      "Index position:  1 Age:  90\n",
      "Index position:  2 Age:  94\n",
      "Index position:  3 Age:  95\n",
      "Index position:  4 Age:  97\n",
      "Index position:  5 Age:  96\n",
      "Index position:  6 Age:  98\n",
      "Index position:  7 Age:  21\n",
      "Index position:  2 Age:  94\n",
      "Index position:  0 Age:  92\n",
      "Index position:  3 Age:  95\n",
      "Index position:  4 Age:  97\n",
      "Index position:  0 Age:  92\n",
      "Index position:  4 Age:  97\n",
      "Index position:  6 Age:  98\n",
      "Index position:  3 Age:  95\n",
      "Index position:  3 Age:  95\n",
      "Index position:  3 Age:  95\n"
     ]
    }
   ],
   "source": [
    "ThomasHolmesGuess = 95\n",
    "ages.append(ThomasHolmesGuess)\n",
    "print('new list length: ', len(ages))\n",
    "print(ages)\n",
    "printList(ages)"
   ]
  },
  {
   "cell_type": "markdown",
   "id": "c9a5aa46",
   "metadata": {},
   "source": [
    "**Practical Dictionaries**"
   ]
  },
  {
   "cell_type": "code",
   "execution_count": 34,
   "id": "9ab8bfbd",
   "metadata": {},
   "outputs": [],
   "source": [
    "books = {\n",
    "    \"title\": \"Hamlet\",\n",
    "    \"author\": \"William Shakespeare\",\n",
    "    \"language\": \"English\",\n",
    "}"
   ]
  },
  {
   "cell_type": "code",
   "execution_count": 35,
   "id": "72f96310",
   "metadata": {},
   "outputs": [
    {
     "data": {
      "text/plain": [
       "'Hamlet'"
      ]
     },
     "execution_count": 35,
     "metadata": {},
     "output_type": "execute_result"
    }
   ],
   "source": [
    "books['title']"
   ]
  },
  {
   "cell_type": "code",
   "execution_count": 37,
   "id": "7b0cbc23",
   "metadata": {},
   "outputs": [
    {
     "data": {
      "text/plain": [
       "dict_keys(['title', 'author', 'language'])"
      ]
     },
     "execution_count": 37,
     "metadata": {},
     "output_type": "execute_result"
    }
   ],
   "source": [
    "books.keys()"
   ]
  },
  {
   "cell_type": "code",
   "execution_count": null,
   "id": "f67e5743",
   "metadata": {},
   "outputs": [],
   "source": []
  }
 ],
 "metadata": {
  "kernelspec": {
   "display_name": "Python 3 (ipykernel)",
   "language": "python",
   "name": "python3"
  },
  "language_info": {
   "codemirror_mode": {
    "name": "ipython",
    "version": 3
   },
   "file_extension": ".py",
   "mimetype": "text/x-python",
   "name": "python",
   "nbconvert_exporter": "python",
   "pygments_lexer": "ipython3",
   "version": "3.10.9"
  }
 },
 "nbformat": 4,
 "nbformat_minor": 5
}
