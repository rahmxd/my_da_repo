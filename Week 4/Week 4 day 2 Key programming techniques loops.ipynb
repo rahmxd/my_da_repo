{
 "cells": [
  {
   "cell_type": "code",
   "execution_count": 1,
   "id": "2935591f",
   "metadata": {},
   "outputs": [],
   "source": [
    "name = 'rafee'"
   ]
  },
  {
   "cell_type": "code",
   "execution_count": 2,
   "id": "aedc7401",
   "metadata": {},
   "outputs": [],
   "source": [
    "capitalisedName = name.capitalize()"
   ]
  },
  {
   "cell_type": "code",
   "execution_count": 3,
   "id": "ca8f320d",
   "metadata": {},
   "outputs": [
    {
     "name": "stdout",
     "output_type": "stream",
     "text": [
      "Rafee\n"
     ]
    }
   ],
   "source": [
    "print(capitalisedName)"
   ]
  },
  {
   "cell_type": "code",
   "execution_count": 4,
   "id": "0a37ea8e",
   "metadata": {},
   "outputs": [
    {
     "name": "stdout",
     "output_type": "stream",
     "text": [
      "r\n"
     ]
    }
   ],
   "source": [
    "firstCharName = name[0]\n",
    "print(firstCharName)"
   ]
  },
  {
   "cell_type": "code",
   "execution_count": 5,
   "id": "29bc1eb0",
   "metadata": {},
   "outputs": [
    {
     "name": "stdout",
     "output_type": "stream",
     "text": [
      "e\n"
     ]
    }
   ],
   "source": [
    "lastCharName = name[-1]\n",
    "print(lastCharName)"
   ]
  },
  {
   "cell_type": "code",
   "execution_count": 7,
   "id": "ef0436f6",
   "metadata": {},
   "outputs": [
    {
     "name": "stdout",
     "output_type": "stream",
     "text": [
      "afee\n"
     ]
    }
   ],
   "source": [
    "nameExceptFirstChar = name[1:]\n",
    "print(nameExceptFirstChar)"
   ]
  },
  {
   "cell_type": "code",
   "execution_count": 8,
   "id": "bf4bcdaa",
   "metadata": {},
   "outputs": [
    {
     "name": "stdout",
     "output_type": "stream",
     "text": [
      "rfe\n"
     ]
    }
   ],
   "source": [
    "everyOtherChar = name[::2]\n",
    "print(everyOtherChar)"
   ]
  },
  {
   "cell_type": "code",
   "execution_count": 10,
   "id": "768066c1",
   "metadata": {},
   "outputs": [
    {
     "name": "stdout",
     "output_type": "stream",
     "text": [
      "Two copies of Name:  rafeerafee\n"
     ]
    }
   ],
   "source": [
    "twoCopiesOfName = name + name\n",
    "print(\"Two copies of Name: \", twoCopiesOfName)"
   ]
  },
  {
   "cell_type": "code",
   "execution_count": 11,
   "id": "701e64ef",
   "metadata": {},
   "outputs": [],
   "source": [
    "ages = [92,90,94,95,97,96,98,21,94,92,95,97,92,97,98]"
   ]
  },
  {
   "cell_type": "code",
   "execution_count": 12,
   "id": "4c6c634e",
   "metadata": {},
   "outputs": [
    {
     "data": {
      "text/plain": [
       "15"
      ]
     },
     "execution_count": 12,
     "metadata": {},
     "output_type": "execute_result"
    }
   ],
   "source": [
    "len(ages)"
   ]
  },
  {
   "cell_type": "code",
   "execution_count": 18,
   "id": "0d5919b4",
   "metadata": {},
   "outputs": [],
   "source": [
    "def displayFirstAndLast(list):\n",
    "    return print('first: ',list[0], 'last: ', list[-1])"
   ]
  },
  {
   "cell_type": "code",
   "execution_count": 19,
   "id": "80a0bbb6",
   "metadata": {},
   "outputs": [
    {
     "name": "stdout",
     "output_type": "stream",
     "text": [
      "first:  92 last:  98\n"
     ]
    }
   ],
   "source": [
    "displayFirstAndLast(ages)"
   ]
  },
  {
   "cell_type": "code",
   "execution_count": 20,
   "id": "69413938",
   "metadata": {},
   "outputs": [],
   "source": [
    "def thirdToLastElement(list):\n",
    "    return print('third to last slide: ', list[2:])"
   ]
  },
  {
   "cell_type": "code",
   "execution_count": 21,
   "id": "9983d8c3",
   "metadata": {},
   "outputs": [
    {
     "name": "stdout",
     "output_type": "stream",
     "text": [
      "third to last slide:  [94, 95, 97, 96, 98, 21, 94, 92, 95, 97, 92, 97, 98]\n"
     ]
    }
   ],
   "source": [
    "thirdToLastElement(ages)"
   ]
  },
  {
   "cell_type": "code",
   "execution_count": 29,
   "id": "d70bc19b",
   "metadata": {},
   "outputs": [],
   "source": [
    "def printList(list):\n",
    "    for age in list:\n",
    "        print('Index position: ', list.index(age) , 'Age: ', age)"
   ]
  },
  {
   "cell_type": "code",
   "execution_count": 30,
   "id": "f274e717",
   "metadata": {},
   "outputs": [
    {
     "name": "stdout",
     "output_type": "stream",
     "text": [
      "Index position:  0 Age:  92\n",
      "Index position:  1 Age:  90\n",
      "Index position:  2 Age:  94\n",
      "Index position:  3 Age:  95\n",
      "Index position:  4 Age:  97\n",
      "Index position:  5 Age:  96\n",
      "Index position:  6 Age:  98\n",
      "Index position:  7 Age:  21\n",
      "Index position:  2 Age:  94\n",
      "Index position:  0 Age:  92\n",
      "Index position:  3 Age:  95\n",
      "Index position:  4 Age:  97\n",
      "Index position:  0 Age:  92\n",
      "Index position:  4 Age:  97\n",
      "Index position:  6 Age:  98\n"
     ]
    }
   ],
   "source": [
    "printList(ages)"
   ]
  },
  {
   "cell_type": "code",
   "execution_count": 33,
   "id": "1da9ea06",
   "metadata": {},
   "outputs": [
    {
     "name": "stdout",
     "output_type": "stream",
     "text": [
      "new list length:  18\n",
      "[92, 90, 94, 95, 97, 96, 98, 21, 94, 92, 95, 97, 92, 97, 98, 95, 95, 95]\n",
      "Index position:  0 Age:  92\n",
      "Index position:  1 Age:  90\n",
      "Index position:  2 Age:  94\n",
      "Index position:  3 Age:  95\n",
      "Index position:  4 Age:  97\n",
      "Index position:  5 Age:  96\n",
      "Index position:  6 Age:  98\n",
      "Index position:  7 Age:  21\n",
      "Index position:  2 Age:  94\n",
      "Index position:  0 Age:  92\n",
      "Index position:  3 Age:  95\n",
      "Index position:  4 Age:  97\n",
      "Index position:  0 Age:  92\n",
      "Index position:  4 Age:  97\n",
      "Index position:  6 Age:  98\n",
      "Index position:  3 Age:  95\n",
      "Index position:  3 Age:  95\n",
      "Index position:  3 Age:  95\n"
     ]
    }
   ],
   "source": [
    "ThomasHolmesGuess = 95\n",
    "ages.append(ThomasHolmesGuess)\n",
    "print('new list length: ', len(ages))\n",
    "print(ages)\n",
    "printList(ages)"
   ]
  },
  {
   "cell_type": "markdown",
   "id": "7b5f07ff",
   "metadata": {},
   "source": [
    "**Practical Dictionaries**"
   ]
  },
  {
   "cell_type": "code",
   "execution_count": 34,
   "id": "fe1b8759",
   "metadata": {},
   "outputs": [],
   "source": [
    "books = {\n",
    "    \"title\": \"Hamlet\",\n",
    "    \"author\": \"William Shakespeare\",\n",
    "    \"language\": \"English\",\n",
    "}"
   ]
  },
  {
   "cell_type": "code",
   "execution_count": 35,
   "id": "09ffb4e9",
   "metadata": {},
   "outputs": [
    {
     "data": {
      "text/plain": [
       "'Hamlet'"
      ]
     },
     "execution_count": 35,
     "metadata": {},
     "output_type": "execute_result"
    }
   ],
   "source": [
    "books['title']"
   ]
  },
  {
   "cell_type": "code",
   "execution_count": 37,
   "id": "29d2c746",
   "metadata": {},
   "outputs": [
    {
     "data": {
      "text/plain": [
       "dict_keys(['title', 'author', 'language'])"
      ]
     },
     "execution_count": 37,
     "metadata": {},
     "output_type": "execute_result"
    }
   ],
   "source": [
    "books.keys()"
   ]
  },
  {
   "cell_type": "code",
   "execution_count": 38,
   "id": "25c9fa7f",
   "metadata": {},
   "outputs": [
    {
     "data": {
      "text/plain": [
       "dict_values(['Hamlet', 'William Shakespeare', 'English'])"
      ]
     },
     "execution_count": 38,
     "metadata": {},
     "output_type": "execute_result"
    }
   ],
   "source": [
    "books.values()"
   ]
  },
  {
   "cell_type": "code",
   "execution_count": 39,
   "id": "7cb31633",
   "metadata": {},
   "outputs": [
    {
     "data": {
      "text/plain": [
       "dict_items([('title', 'Hamlet'), ('author', 'William Shakespeare'), ('language', 'English')])"
      ]
     },
     "execution_count": 39,
     "metadata": {},
     "output_type": "execute_result"
    }
   ],
   "source": [
    "books.items()"
   ]
  },
  {
   "cell_type": "code",
   "execution_count": 40,
   "id": "574c8ace",
   "metadata": {},
   "outputs": [],
   "source": [
    "books['title'] = 'King Lear'"
   ]
  },
  {
   "cell_type": "code",
   "execution_count": 41,
   "id": "086cb87a",
   "metadata": {},
   "outputs": [
    {
     "data": {
      "text/plain": [
       "{'title': 'King Lear', 'author': 'William Shakespeare', 'language': 'English'}"
      ]
     },
     "execution_count": 41,
     "metadata": {},
     "output_type": "execute_result"
    }
   ],
   "source": [
    "books"
   ]
  },
  {
   "cell_type": "markdown",
   "id": "88289491",
   "metadata": {},
   "source": [
    "**Practical: Selection**"
   ]
  },
  {
   "cell_type": "code",
   "execution_count": 44,
   "id": "c1be7b61",
   "metadata": {},
   "outputs": [
    {
     "name": "stdout",
     "output_type": "stream",
     "text": [
      "Please enter your age: 19\n",
      "You are in category A\n"
     ]
    }
   ],
   "source": [
    "age = int(input('Please enter your age: '))\n",
    "\n",
    "if age >= 18:\n",
    "    print('You are in category A')\n",
    "elif age >= 16:\n",
    "    print('You are in category B')\n",
    "elif age < 16:\n",
    "    print('You are in category C')"
   ]
  },
  {
   "cell_type": "markdown",
   "id": "66f2ea8d",
   "metadata": {},
   "source": [
    "**Practical Numpy exercise**"
   ]
  },
  {
   "cell_type": "code",
   "execution_count": 45,
   "id": "719ce1a7",
   "metadata": {},
   "outputs": [],
   "source": [
    "import numpy as np"
   ]
  },
  {
   "cell_type": "code",
   "execution_count": 46,
   "id": "d28d9c7f",
   "metadata": {},
   "outputs": [],
   "source": [
    "payments = np.array([6.99, 12.40, 75.00, 1.55])"
   ]
  },
  {
   "cell_type": "code",
   "execution_count": 47,
   "id": "f32ca4ff",
   "metadata": {},
   "outputs": [
    {
     "data": {
      "text/plain": [
       "array([ 6.99, 12.4 , 75.  ,  1.55])"
      ]
     },
     "execution_count": 47,
     "metadata": {},
     "output_type": "execute_result"
    }
   ],
   "source": [
    "payments"
   ]
  },
  {
   "cell_type": "code",
   "execution_count": 49,
   "id": "1ec69e69",
   "metadata": {},
   "outputs": [
    {
     "name": "stdout",
     "output_type": "stream",
     "text": [
      "[[1 3 5 7]\n",
      " [2 4 6 8]]\n"
     ]
    }
   ],
   "source": [
    "arr = np.array([1,3,5,7,9])\n",
    "\n",
    "arr2 = np.array([[1,3,5,7], [2,4,6,8]])\n",
    "\n",
    "print(arr2)"
   ]
  },
  {
   "cell_type": "code",
   "execution_count": 50,
   "id": "957d2c9f",
   "metadata": {},
   "outputs": [
    {
     "data": {
      "text/plain": [
       "array([6.99, 1.55])"
      ]
     },
     "execution_count": 50,
     "metadata": {},
     "output_type": "execute_result"
    }
   ],
   "source": [
    "payments[payments < 10]"
   ]
  },
  {
   "cell_type": "code",
   "execution_count": 51,
   "id": "84cfe255",
   "metadata": {},
   "outputs": [
    {
     "data": {
      "text/plain": [
       "array([ 6.99, 12.4 , 75.  ,  1.55])"
      ]
     },
     "execution_count": 51,
     "metadata": {},
     "output_type": "execute_result"
    }
   ],
   "source": [
    "payments"
   ]
  },
  {
   "cell_type": "code",
   "execution_count": 52,
   "id": "0ce5f386",
   "metadata": {},
   "outputs": [
    {
     "data": {
      "text/plain": [
       "95.94"
      ]
     },
     "execution_count": 52,
     "metadata": {},
     "output_type": "execute_result"
    }
   ],
   "source": [
    "payments.sum()"
   ]
  },
  {
   "cell_type": "code",
   "execution_count": null,
   "id": "43eb6fe8",
   "metadata": {},
   "outputs": [],
   "source": []
  }
 ],
 "metadata": {
  "kernelspec": {
   "display_name": "Python 3 (ipykernel)",
   "language": "python",
   "name": "python3"
  },
  "language_info": {
   "codemirror_mode": {
    "name": "ipython",
    "version": 3
   },
   "file_extension": ".py",
   "mimetype": "text/x-python",
   "name": "python",
   "nbconvert_exporter": "python",
   "pygments_lexer": "ipython3",
   "version": "3.10.9"
  }
 },
 "nbformat": 4,
 "nbformat_minor": 5
}
