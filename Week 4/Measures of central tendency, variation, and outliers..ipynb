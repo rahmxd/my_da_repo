{
 "cells": [
  {
   "cell_type": "markdown",
   "id": "dd419b5a",
   "metadata": {},
   "source": [
    "**Exercise: Measures of central tendency, variation, and outliers.**"
   ]
  },
  {
   "cell_type": "markdown",
   "id": "fefe2bea",
   "metadata": {},
   "source": [
    "exercise 1"
   ]
  },
  {
   "cell_type": "code",
   "execution_count": 6,
   "id": "0d244bcf",
   "metadata": {},
   "outputs": [
    {
     "name": "stdout",
     "output_type": "stream",
     "text": [
      "mean:  5.744562646538029 variance:  8.25 standard_dev:  2.8722813232690143\n",
      "Outliers:  [6, 7, 8, 9, 10]\n"
     ]
    }
   ],
   "source": [
    "import pandas as pd\n",
    "\n",
    "data = [1,2,3,4,5,6,7,8,9,10]\n",
    "\n",
    "df = pd.Series(data)\n",
    "\n",
    "mean = df.mean()\n",
    "variance = df.var(ddof=0)\n",
    "standard_dev = df.std(ddof=0)\n",
    "lowerbound = mean - 2 * standard_dev\n",
    "upperbound = mean = 2 * standard_dev\n",
    "outliersCheck = [x for x in data if x < lowerbound or x > upperbound]\n",
    "print('mean: ',mean, 'variance: ', variance, 'standard_dev: ', standard_dev)\n",
    "print('Outliers: ', outliersCheck)"
   ]
  },
  {
   "cell_type": "markdown",
   "id": "5309ca45",
   "metadata": {},
   "source": [
    "exercise 2"
   ]
  },
  {
   "cell_type": "code",
   "execution_count": 27,
   "id": "df4143ea",
   "metadata": {},
   "outputs": [
    {
     "name": "stdout",
     "output_type": "stream",
     "text": [
      "mean: 17.384615384615383 mode: 0    15\n",
      "dtype: int64 median:  15.0\n"
     ]
    }
   ],
   "source": [
    "data_scores = [10,22,11,14,15,18,19,20,25,28,15,14,15]\n",
    "df_scores = pd.Series(data_scores)\n",
    "mean = df_scores.mean()\n",
    "mode = df_scores.mode()\n",
    "median = df_scores.median()\n",
    "print( 'mean:', mean, 'mode:', mode2, 'median: ', median)"
   ]
  },
  {
   "cell_type": "markdown",
   "id": "776b0c4f",
   "metadata": {},
   "source": [
    "exercise 3"
   ]
  },
  {
   "cell_type": "code",
   "execution_count": 28,
   "id": "706499e4",
   "metadata": {},
   "outputs": [],
   "source": [
    "import numpy as np"
   ]
  },
  {
   "cell_type": "code",
   "execution_count": 31,
   "id": "fea9f8b2",
   "metadata": {},
   "outputs": [
    {
     "data": {
      "text/html": [
       "<div>\n",
       "<style scoped>\n",
       "    .dataframe tbody tr th:only-of-type {\n",
       "        vertical-align: middle;\n",
       "    }\n",
       "\n",
       "    .dataframe tbody tr th {\n",
       "        vertical-align: top;\n",
       "    }\n",
       "\n",
       "    .dataframe thead th {\n",
       "        text-align: right;\n",
       "    }\n",
       "</style>\n",
       "<table border=\"1\" class=\"dataframe\">\n",
       "  <thead>\n",
       "    <tr style=\"text-align: right;\">\n",
       "      <th></th>\n",
       "      <th>Control Scores</th>\n",
       "      <th>Experimental Scores</th>\n",
       "    </tr>\n",
       "  </thead>\n",
       "  <tbody>\n",
       "    <tr>\n",
       "      <th>count</th>\n",
       "      <td>50.000000</td>\n",
       "      <td>50.000000</td>\n",
       "    </tr>\n",
       "    <tr>\n",
       "      <th>mean</th>\n",
       "      <td>78.087517</td>\n",
       "      <td>85.319055</td>\n",
       "    </tr>\n",
       "    <tr>\n",
       "      <th>std</th>\n",
       "      <td>9.571455</td>\n",
       "      <td>11.057700</td>\n",
       "    </tr>\n",
       "    <tr>\n",
       "      <th>min</th>\n",
       "      <td>61.135907</td>\n",
       "      <td>66.153945</td>\n",
       "    </tr>\n",
       "    <tr>\n",
       "      <th>25%</th>\n",
       "      <td>70.463365</td>\n",
       "      <td>76.292904</td>\n",
       "    </tr>\n",
       "    <tr>\n",
       "      <th>50%</th>\n",
       "      <td>77.386154</td>\n",
       "      <td>84.371715</td>\n",
       "    </tr>\n",
       "    <tr>\n",
       "      <th>75%</th>\n",
       "      <td>86.041261</td>\n",
       "      <td>93.784759</td>\n",
       "    </tr>\n",
       "    <tr>\n",
       "      <th>max</th>\n",
       "      <td>95.359162</td>\n",
       "      <td>110.625783</td>\n",
       "    </tr>\n",
       "  </tbody>\n",
       "</table>\n",
       "</div>"
      ],
      "text/plain": [
       "       Control Scores  Experimental Scores\n",
       "count       50.000000            50.000000\n",
       "mean        78.087517            85.319055\n",
       "std          9.571455            11.057700\n",
       "min         61.135907            66.153945\n",
       "25%         70.463365            76.292904\n",
       "50%         77.386154            84.371715\n",
       "75%         86.041261            93.784759\n",
       "max         95.359162           110.625783"
      ]
     },
     "execution_count": 31,
     "metadata": {},
     "output_type": "execute_result"
    }
   ],
   "source": [
    "df = pd.read_csv('data/investment_performance.csv')\n",
    "df.describe()"
   ]
  },
  {
   "cell_type": "code",
   "execution_count": null,
   "id": "36695dee",
   "metadata": {},
   "outputs": [],
   "source": []
  }
 ],
 "metadata": {
  "kernelspec": {
   "display_name": "Python 3 (ipykernel)",
   "language": "python",
   "name": "python3"
  },
  "language_info": {
   "codemirror_mode": {
    "name": "ipython",
    "version": 3
   },
   "file_extension": ".py",
   "mimetype": "text/x-python",
   "name": "python",
   "nbconvert_exporter": "python",
   "pygments_lexer": "ipython3",
   "version": "3.10.9"
  }
 },
 "nbformat": 4,
 "nbformat_minor": 5
}
