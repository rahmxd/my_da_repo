{
 "cells": [
  {
   "cell_type": "markdown",
   "id": "f9c001d3",
   "metadata": {},
   "source": [
    "**Cleaning Methods: Lab Activity**"
   ]
  },
  {
   "cell_type": "code",
   "execution_count": 3,
   "id": "57d17e72",
   "metadata": {},
   "outputs": [
    {
     "data": {
      "text/html": [
       "<div>\n",
       "<style scoped>\n",
       "    .dataframe tbody tr th:only-of-type {\n",
       "        vertical-align: middle;\n",
       "    }\n",
       "\n",
       "    .dataframe tbody tr th {\n",
       "        vertical-align: top;\n",
       "    }\n",
       "\n",
       "    .dataframe thead th {\n",
       "        text-align: right;\n",
       "    }\n",
       "</style>\n",
       "<table border=\"1\" class=\"dataframe\">\n",
       "  <thead>\n",
       "    <tr style=\"text-align: right;\">\n",
       "      <th></th>\n",
       "      <th>Unnamed: 0</th>\n",
       "      <th>ID</th>\n",
       "      <th>Income</th>\n",
       "      <th>Term</th>\n",
       "      <th>Balance</th>\n",
       "      <th>Debt</th>\n",
       "      <th>Score</th>\n",
       "      <th>Default</th>\n",
       "    </tr>\n",
       "  </thead>\n",
       "  <tbody>\n",
       "    <tr>\n",
       "      <th>0</th>\n",
       "      <td>0</td>\n",
       "      <td>567</td>\n",
       "      <td>17626</td>\n",
       "      <td>10 Years</td>\n",
       "      <td>1381</td>\n",
       "      <td>293</td>\n",
       "      <td>228.0</td>\n",
       "      <td>False</td>\n",
       "    </tr>\n",
       "    <tr>\n",
       "      <th>1</th>\n",
       "      <td>1</td>\n",
       "      <td>523</td>\n",
       "      <td>18959</td>\n",
       "      <td>20 Years</td>\n",
       "      <td>883</td>\n",
       "      <td>1012</td>\n",
       "      <td>187.0</td>\n",
       "      <td>False</td>\n",
       "    </tr>\n",
       "    <tr>\n",
       "      <th>2</th>\n",
       "      <td>2</td>\n",
       "      <td>544</td>\n",
       "      <td>20560</td>\n",
       "      <td>10 Years</td>\n",
       "      <td>684</td>\n",
       "      <td>898</td>\n",
       "      <td>86.0</td>\n",
       "      <td>False</td>\n",
       "    </tr>\n",
       "    <tr>\n",
       "      <th>3</th>\n",
       "      <td>3</td>\n",
       "      <td>370</td>\n",
       "      <td>21894</td>\n",
       "      <td>10 Years</td>\n",
       "      <td>748</td>\n",
       "      <td>85</td>\n",
       "      <td>NaN</td>\n",
       "      <td>False</td>\n",
       "    </tr>\n",
       "    <tr>\n",
       "      <th>4</th>\n",
       "      <td>4</td>\n",
       "      <td>756</td>\n",
       "      <td>24430</td>\n",
       "      <td>10 Years</td>\n",
       "      <td>1224</td>\n",
       "      <td>59</td>\n",
       "      <td>504.0</td>\n",
       "      <td>False</td>\n",
       "    </tr>\n",
       "    <tr>\n",
       "      <th>...</th>\n",
       "      <td>...</td>\n",
       "      <td>...</td>\n",
       "      <td>...</td>\n",
       "      <td>...</td>\n",
       "      <td>...</td>\n",
       "      <td>...</td>\n",
       "      <td>...</td>\n",
       "      <td>...</td>\n",
       "    </tr>\n",
       "    <tr>\n",
       "      <th>851</th>\n",
       "      <td>851</td>\n",
       "      <td>71</td>\n",
       "      <td>30191</td>\n",
       "      <td>20 Years</td>\n",
       "      <td>1319</td>\n",
       "      <td>3880</td>\n",
       "      <td>55.0</td>\n",
       "      <td>True</td>\n",
       "    </tr>\n",
       "    <tr>\n",
       "      <th>852</th>\n",
       "      <td>852</td>\n",
       "      <td>932</td>\n",
       "      <td>41669</td>\n",
       "      <td>20 Years</td>\n",
       "      <td>1385</td>\n",
       "      <td>32</td>\n",
       "      <td>780.0</td>\n",
       "      <td>False</td>\n",
       "    </tr>\n",
       "    <tr>\n",
       "      <th>853</th>\n",
       "      <td>853</td>\n",
       "      <td>39</td>\n",
       "      <td>36816</td>\n",
       "      <td>20 Years</td>\n",
       "      <td>1868</td>\n",
       "      <td>3123</td>\n",
       "      <td>366.0</td>\n",
       "      <td>True</td>\n",
       "    </tr>\n",
       "    <tr>\n",
       "      <th>854</th>\n",
       "      <td>854</td>\n",
       "      <td>283</td>\n",
       "      <td>42145</td>\n",
       "      <td>20 Years</td>\n",
       "      <td>1447</td>\n",
       "      <td>2498</td>\n",
       "      <td>422.0</td>\n",
       "      <td>False</td>\n",
       "    </tr>\n",
       "    <tr>\n",
       "      <th>855</th>\n",
       "      <td>855</td>\n",
       "      <td>847</td>\n",
       "      <td>30594</td>\n",
       "      <td>20 Years</td>\n",
       "      <td>1216</td>\n",
       "      <td>2473</td>\n",
       "      <td>179.0</td>\n",
       "      <td>True</td>\n",
       "    </tr>\n",
       "  </tbody>\n",
       "</table>\n",
       "<p>856 rows × 8 columns</p>\n",
       "</div>"
      ],
      "text/plain": [
       "     Unnamed: 0   ID  Income      Term  Balance  Debt  Score  Default\n",
       "0             0  567   17626  10 Years     1381   293  228.0    False\n",
       "1             1  523   18959  20 Years      883  1012  187.0    False\n",
       "2             2  544   20560  10 Years      684   898   86.0    False\n",
       "3             3  370   21894  10 Years      748    85    NaN    False\n",
       "4             4  756   24430  10 Years     1224    59  504.0    False\n",
       "..          ...  ...     ...       ...      ...   ...    ...      ...\n",
       "851         851   71   30191  20 Years     1319  3880   55.0     True\n",
       "852         852  932   41669  20 Years     1385    32  780.0    False\n",
       "853         853   39   36816  20 Years     1868  3123  366.0     True\n",
       "854         854  283   42145  20 Years     1447  2498  422.0    False\n",
       "855         855  847   30594  20 Years     1216  2473  179.0     True\n",
       "\n",
       "[856 rows x 8 columns]"
      ]
     },
     "execution_count": 3,
     "metadata": {},
     "output_type": "execute_result"
    }
   ],
   "source": [
    "import numpy as np\n",
    "import pandas as pd\n",
    "\n",
    "df1 = pd.read_csv('data/mortgage_applicants.csv')\n",
    "df1"
   ]
  },
  {
   "cell_type": "code",
   "execution_count": 7,
   "id": "88db463c",
   "metadata": {},
   "outputs": [
    {
     "name": "stdout",
     "output_type": "stream",
     "text": [
      "Unnamed: 0     0\n",
      "ID             0\n",
      "Income         0\n",
      "Term           0\n",
      "Balance        0\n",
      "Debt           0\n",
      "Score         20\n",
      "Default        0\n",
      "dtype: int64\n"
     ]
    }
   ],
   "source": [
    "missingValuesEachColumn = df1.isna().sum()\n",
    "print(missingValuesEachColumn)"
   ]
  },
  {
   "cell_type": "markdown",
   "id": "04d473b3",
   "metadata": {},
   "source": [
    "*what might have caused these values to be missing? *\n"
   ]
  },
  {
   "cell_type": "code",
   "execution_count": 10,
   "id": "5da682bd",
   "metadata": {},
   "outputs": [
    {
     "name": "stdout",
     "output_type": "stream",
     "text": [
      "     Unnamed: 0   ID  Income      Term  Balance  Debt  Score  Default\n",
      "0             0  567   17626  10 Years     1381   293  228.0    False\n",
      "1             1  523   18959  20 Years      883  1012  187.0    False\n",
      "2             2  544   20560  10 Years      684   898   86.0    False\n",
      "4             4  756   24430  10 Years     1224    59  504.0    False\n",
      "5             5  929   22995  20 Years     1678  1329  384.0    False\n",
      "..          ...  ...     ...       ...      ...   ...    ...      ...\n",
      "851         851   71   30191  20 Years     1319  3880   55.0     True\n",
      "852         852  932   41669  20 Years     1385    32  780.0    False\n",
      "853         853   39   36816  20 Years     1868  3123  366.0     True\n",
      "854         854  283   42145  20 Years     1447  2498  422.0    False\n",
      "855         855  847   30594  20 Years     1216  2473  179.0     True\n",
      "\n",
      "[836 rows x 8 columns]\n",
      "Unnamed: 0    0\n",
      "ID            0\n",
      "Income        0\n",
      "Term          0\n",
      "Balance       0\n",
      "Debt          0\n",
      "Score         0\n",
      "Default       0\n",
      "dtype: int64\n"
     ]
    }
   ],
   "source": [
    "df1Cleaned = df1.dropna()\n",
    "print(df1Cleaned)\n",
    "print(df1Cleaned.isna().sum())"
   ]
  },
  {
   "cell_type": "markdown",
   "id": "55b63a63",
   "metadata": {},
   "source": [
    "*What does this code do*\n",
    "removes rows with Nan values. "
   ]
  },
  {
   "cell_type": "code",
   "execution_count": 22,
   "id": "95993730",
   "metadata": {},
   "outputs": [
    {
     "name": "stdout",
     "output_type": "stream",
     "text": [
      "     Unnamed: 0   ID  Income      Term  Balance  Debt  Score  Default\n",
      "3             3  370   21894  10 Years      748    85    NaN    False\n",
      "20           20  673   24185  10 Years      771    77    NaN    False\n",
      "36           36   36   18247  10 Years     1162   431    NaN     True\n",
      "61           61  643   20320  10 Years      643   461    NaN    False\n",
      "86           86   83   19355  10 Years      473    42    NaN    False\n",
      "162         162  839   20756  10 Years     1148     4    NaN    False\n",
      "221         221  477   21181  10 Years     1133  1878    NaN     True\n",
      "338         338  539   22586  20 Years     1088   826    NaN    False\n",
      "357         357  714   19150  10 Years     1214    38    NaN    False\n",
      "361         361  364   20062  10 Years      979   161    NaN    False\n",
      "383         383  224   21007  10 Years      535   426    NaN    False\n",
      "388         388  429   17443  10 Years     1214    51    NaN    False\n",
      "483         483  218   23480  20 Years     1374   101    NaN    False\n",
      "535         535  748   44202  20 Years     1235    63    NaN    False\n",
      "563         563  199   43513  10 Years     1082    46    NaN    False\n",
      "589         589  886   40446  10 Years     1153   122    NaN    False\n",
      "615         615  971   35716  10 Years      664  1592    NaN    False\n",
      "631         631  970   41108  20 Years     1183    23    NaN    False\n",
      "642         642  683   38299  10 Years     1493     6    NaN    False\n",
      "753         753  529   61720  10 Years     1475  3971    NaN    False\n"
     ]
    }
   ],
   "source": [
    "df1_missing = df1[df1['Score'].isna()]\n",
    "print(df1_missing)"
   ]
  },
  {
   "cell_type": "code",
   "execution_count": 18,
   "id": "5727dd6b",
   "metadata": {},
   "outputs": [
    {
     "data": {
      "text/plain": [
       "29917.070093457944"
      ]
     },
     "execution_count": 18,
     "metadata": {},
     "output_type": "execute_result"
    }
   ],
   "source": [
    "df1['Income'].mean()"
   ]
  },
  {
   "cell_type": "code",
   "execution_count": 20,
   "id": "011c587d",
   "metadata": {},
   "outputs": [
    {
     "data": {
      "text/plain": [
       "29945.385167464116"
      ]
     },
     "execution_count": 20,
     "metadata": {},
     "output_type": "execute_result"
    }
   ],
   "source": [
    "df1Cleaned['Income'].mean()"
   ]
  },
  {
   "cell_type": "code",
   "execution_count": 23,
   "id": "620ca7ae",
   "metadata": {},
   "outputs": [
    {
     "data": {
      "text/plain": [
       "28733.5"
      ]
     },
     "execution_count": 23,
     "metadata": {},
     "output_type": "execute_result"
    }
   ],
   "source": [
    "df1_missing['Income'].mean()"
   ]
  },
  {
   "cell_type": "markdown",
   "id": "90c0d0f7",
   "metadata": {},
   "source": [
    "**Visualisation methods for Data Analysis**"
   ]
  },
  {
   "cell_type": "code",
   "execution_count": 25,
   "id": "f483d372",
   "metadata": {},
   "outputs": [],
   "source": [
    "import matplotlib.pyplot as plt"
   ]
  },
  {
   "cell_type": "code",
   "execution_count": 27,
   "id": "18b47969",
   "metadata": {},
   "outputs": [],
   "source": [
    "df_accounts = pd.read_csv('data/accounts.csv')\n",
    "df_locations = pd.read_csv('data/locations.csv')"
   ]
  },
  {
   "cell_type": "code",
   "execution_count": 28,
   "id": "7b3ca276",
   "metadata": {},
   "outputs": [
    {
     "data": {
      "text/html": [
       "<div>\n",
       "<style scoped>\n",
       "    .dataframe tbody tr th:only-of-type {\n",
       "        vertical-align: middle;\n",
       "    }\n",
       "\n",
       "    .dataframe tbody tr th {\n",
       "        vertical-align: top;\n",
       "    }\n",
       "\n",
       "    .dataframe thead th {\n",
       "        text-align: right;\n",
       "    }\n",
       "</style>\n",
       "<table border=\"1\" class=\"dataframe\">\n",
       "  <thead>\n",
       "    <tr style=\"text-align: right;\">\n",
       "      <th></th>\n",
       "      <th>Unnamed: 0</th>\n",
       "      <th>ID</th>\n",
       "      <th>has_business_account</th>\n",
       "    </tr>\n",
       "  </thead>\n",
       "  <tbody>\n",
       "    <tr>\n",
       "      <th>0</th>\n",
       "      <td>0</td>\n",
       "      <td>567</td>\n",
       "      <td>False</td>\n",
       "    </tr>\n",
       "    <tr>\n",
       "      <th>1</th>\n",
       "      <td>1</td>\n",
       "      <td>523</td>\n",
       "      <td>False</td>\n",
       "    </tr>\n",
       "    <tr>\n",
       "      <th>2</th>\n",
       "      <td>2</td>\n",
       "      <td>544</td>\n",
       "      <td>False</td>\n",
       "    </tr>\n",
       "    <tr>\n",
       "      <th>3</th>\n",
       "      <td>3</td>\n",
       "      <td>370</td>\n",
       "      <td>False</td>\n",
       "    </tr>\n",
       "    <tr>\n",
       "      <th>4</th>\n",
       "      <td>4</td>\n",
       "      <td>756</td>\n",
       "      <td>True</td>\n",
       "    </tr>\n",
       "    <tr>\n",
       "      <th>...</th>\n",
       "      <td>...</td>\n",
       "      <td>...</td>\n",
       "      <td>...</td>\n",
       "    </tr>\n",
       "    <tr>\n",
       "      <th>851</th>\n",
       "      <td>851</td>\n",
       "      <td>71</td>\n",
       "      <td>False</td>\n",
       "    </tr>\n",
       "    <tr>\n",
       "      <th>852</th>\n",
       "      <td>852</td>\n",
       "      <td>932</td>\n",
       "      <td>False</td>\n",
       "    </tr>\n",
       "    <tr>\n",
       "      <th>853</th>\n",
       "      <td>853</td>\n",
       "      <td>39</td>\n",
       "      <td>True</td>\n",
       "    </tr>\n",
       "    <tr>\n",
       "      <th>854</th>\n",
       "      <td>854</td>\n",
       "      <td>283</td>\n",
       "      <td>False</td>\n",
       "    </tr>\n",
       "    <tr>\n",
       "      <th>855</th>\n",
       "      <td>855</td>\n",
       "      <td>847</td>\n",
       "      <td>False</td>\n",
       "    </tr>\n",
       "  </tbody>\n",
       "</table>\n",
       "<p>856 rows × 3 columns</p>\n",
       "</div>"
      ],
      "text/plain": [
       "     Unnamed: 0   ID  has_business_account\n",
       "0             0  567                 False\n",
       "1             1  523                 False\n",
       "2             2  544                 False\n",
       "3             3  370                 False\n",
       "4             4  756                  True\n",
       "..          ...  ...                   ...\n",
       "851         851   71                 False\n",
       "852         852  932                 False\n",
       "853         853   39                  True\n",
       "854         854  283                 False\n",
       "855         855  847                 False\n",
       "\n",
       "[856 rows x 3 columns]"
      ]
     },
     "execution_count": 28,
     "metadata": {},
     "output_type": "execute_result"
    }
   ],
   "source": [
    "df_accounts"
   ]
  },
  {
   "cell_type": "code",
   "execution_count": 29,
   "id": "714191ab",
   "metadata": {},
   "outputs": [
    {
     "data": {
      "text/html": [
       "<div>\n",
       "<style scoped>\n",
       "    .dataframe tbody tr th:only-of-type {\n",
       "        vertical-align: middle;\n",
       "    }\n",
       "\n",
       "    .dataframe tbody tr th {\n",
       "        vertical-align: top;\n",
       "    }\n",
       "\n",
       "    .dataframe thead th {\n",
       "        text-align: right;\n",
       "    }\n",
       "</style>\n",
       "<table border=\"1\" class=\"dataframe\">\n",
       "  <thead>\n",
       "    <tr style=\"text-align: right;\">\n",
       "      <th></th>\n",
       "      <th>Unnamed: 0</th>\n",
       "      <th>ID</th>\n",
       "      <th>nation</th>\n",
       "    </tr>\n",
       "  </thead>\n",
       "  <tbody>\n",
       "    <tr>\n",
       "      <th>0</th>\n",
       "      <td>0</td>\n",
       "      <td>567</td>\n",
       "      <td>England</td>\n",
       "    </tr>\n",
       "    <tr>\n",
       "      <th>1</th>\n",
       "      <td>1</td>\n",
       "      <td>523</td>\n",
       "      <td>Scotland</td>\n",
       "    </tr>\n",
       "    <tr>\n",
       "      <th>2</th>\n",
       "      <td>2</td>\n",
       "      <td>544</td>\n",
       "      <td>Scotland</td>\n",
       "    </tr>\n",
       "    <tr>\n",
       "      <th>3</th>\n",
       "      <td>3</td>\n",
       "      <td>370</td>\n",
       "      <td>England</td>\n",
       "    </tr>\n",
       "    <tr>\n",
       "      <th>4</th>\n",
       "      <td>4</td>\n",
       "      <td>756</td>\n",
       "      <td>Scotland</td>\n",
       "    </tr>\n",
       "    <tr>\n",
       "      <th>...</th>\n",
       "      <td>...</td>\n",
       "      <td>...</td>\n",
       "      <td>...</td>\n",
       "    </tr>\n",
       "    <tr>\n",
       "      <th>851</th>\n",
       "      <td>851</td>\n",
       "      <td>71</td>\n",
       "      <td>England</td>\n",
       "    </tr>\n",
       "    <tr>\n",
       "      <th>852</th>\n",
       "      <td>852</td>\n",
       "      <td>932</td>\n",
       "      <td>England</td>\n",
       "    </tr>\n",
       "    <tr>\n",
       "      <th>853</th>\n",
       "      <td>853</td>\n",
       "      <td>39</td>\n",
       "      <td>Scotland</td>\n",
       "    </tr>\n",
       "    <tr>\n",
       "      <th>854</th>\n",
       "      <td>854</td>\n",
       "      <td>283</td>\n",
       "      <td>England</td>\n",
       "    </tr>\n",
       "    <tr>\n",
       "      <th>855</th>\n",
       "      <td>855</td>\n",
       "      <td>847</td>\n",
       "      <td>England</td>\n",
       "    </tr>\n",
       "  </tbody>\n",
       "</table>\n",
       "<p>856 rows × 3 columns</p>\n",
       "</div>"
      ],
      "text/plain": [
       "     Unnamed: 0   ID    nation\n",
       "0             0  567   England\n",
       "1             1  523  Scotland\n",
       "2             2  544  Scotland\n",
       "3             3  370   England\n",
       "4             4  756  Scotland\n",
       "..          ...  ...       ...\n",
       "851         851   71   England\n",
       "852         852  932   England\n",
       "853         853   39  Scotland\n",
       "854         854  283   England\n",
       "855         855  847   England\n",
       "\n",
       "[856 rows x 3 columns]"
      ]
     },
     "execution_count": 29,
     "metadata": {},
     "output_type": "execute_result"
    }
   ],
   "source": [
    "df_locations"
   ]
  },
  {
   "cell_type": "code",
   "execution_count": 31,
   "id": "4ee86719",
   "metadata": {},
   "outputs": [
    {
     "data": {
      "text/plain": [
       "Unnamed: 0              0\n",
       "ID                      0\n",
       "has_business_account    0\n",
       "dtype: int64"
      ]
     },
     "execution_count": 31,
     "metadata": {},
     "output_type": "execute_result"
    }
   ],
   "source": [
    "df_accounts.isna().sum()"
   ]
  },
  {
   "cell_type": "code",
   "execution_count": 32,
   "id": "bdb50c52",
   "metadata": {},
   "outputs": [
    {
     "data": {
      "text/plain": [
       "Unnamed: 0    0\n",
       "ID            0\n",
       "nation        0\n",
       "dtype: int64"
      ]
     },
     "execution_count": 32,
     "metadata": {},
     "output_type": "execute_result"
    }
   ],
   "source": [
    "df_locations.isna().sum()"
   ]
  },
  {
   "cell_type": "code",
   "execution_count": 39,
   "id": "1d4fbf6f",
   "metadata": {},
   "outputs": [
    {
     "data": {
      "text/plain": [
       "<Axes: xlabel='has_business_account', ylabel='count'>"
      ]
     },
     "execution_count": 39,
     "metadata": {},
     "output_type": "execute_result"
    },
    {
     "data": {
      "image/png": "[encoded data removed]",
      "text/plain": [
       "<Figure size 640x480 with 1 Axes>"
      ]
     },
     "metadata": {},
     "output_type": "display_data"
    }
   ],
   "source": [
    "import seaborn as sns\n",
    "fix, ax = plt.subplots()\n",
    "\n",
    "sns.countplot(data=df_accounts, x ='has_business_account', ax=ax)"
   ]
  },
  {
   "cell_type": "code",
   "execution_count": 47,
   "id": "73c44ae7",
   "metadata": {
    "scrolled": true
   },
   "outputs": [
    {
     "data": {
      "image/png": "[encoded data removed]",
      "text/plain": [
       "<Figure size 640x480 with 1 Axes>"
      ]
     },
     "metadata": {},
     "output_type": "display_data"
    }
   ],
   "source": [
    "merged_df = pd.merge(df_accounts, df_locations, on='ID')\n",
    "\n",
    "combined_df = merged_df[['ID', 'has_business_account', 'nation']]\n",
    "\n",
    "frequency_df = combined_df.groupby(['has_business_account', 'nation']).size().reset_index(name='count')\n",
    "\n",
    "sns.barplot(x='nation', y='count', hue='has_business_account', data=frequency_df)\n",
    "\n",
    "plt.title('Business Account Status by Nation')\n",
    "\n",
    "plt.show()"
   ]
  },
  {
   "cell_type": "code",
   "execution_count": null,
   "id": "91e17b2a",
   "metadata": {},
   "outputs": [],
   "source": []
  }
 ],
 "metadata": {
  "kernelspec": {
   "display_name": "Python 3 (ipykernel)",
   "language": "python",
   "name": "python3"
  },
  "language_info": {
   "codemirror_mode": {
    "name": "ipython",
    "version": 3
   },
   "file_extension": ".py",
   "mimetype": "text/x-python",
   "name": "python",
   "nbconvert_exporter": "python",
   "pygments_lexer": "ipython3",
   "version": "3.10.9"
  }
 },
 "nbformat": 4,
 "nbformat_minor": 5
}
